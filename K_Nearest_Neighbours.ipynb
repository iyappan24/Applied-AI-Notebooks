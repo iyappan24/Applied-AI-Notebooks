{
  "nbformat": 4,
  "nbformat_minor": 0,
  "metadata": {
    "colab": {
      "name": "K_Nearest_Neighbours.ipynb",
      "version": "0.3.2",
      "provenance": [],
      "collapsed_sections": [],
      "include_colab_link": true
    },
    "kernelspec": {
      "name": "python3",
      "display_name": "Python 3"
    }
  },
  "cells": [
    {
      "cell_type": "markdown",
      "metadata": {
        "id": "view-in-github",
        "colab_type": "text"
      },
      "source": [
        "<a href=\"https://colab.research.google.com/github/iyappan24/Applied-AI-Notebooks/blob/master/K_Nearest_Neighbours.ipynb\" target=\"_parent\"><img src=\"https://colab.research.google.com/assets/colab-badge.svg\" alt=\"Open In Colab\"/></a>"
      ]
    },
    {
      "metadata": {
        "id": "q-HxDww-9F6s",
        "colab_type": "text"
      },
      "cell_type": "markdown",
      "source": [
        "## AMAZON FINE FOOD REVIEWS : K NEAREST NEIGHBORS \n",
        "\n",
        "Data Source: https://www.kaggle.com/snap/amazon-fine-food-reviews\n",
        "\n",
        "The Amazon Fine Food Reviews dataset consists of reviews of fine foods from Amazon.<br>\n",
        "\n",
        "Number of reviews: 568,454<br>\n",
        "Number of users: 256,059<br>\n",
        "Number of products: 74,258<br>\n",
        "Timespan: Oct 1999 - Oct 2012<br>\n",
        "Number of Attributes/Columns in data: 10 \n",
        "\n",
        "Attribute Information:\n",
        "\n",
        "1. Id\n",
        "2. ProductId - unique identifier for the product\n",
        "3. UserId - unqiue identifier for the user\n",
        "4. ProfileName\n",
        "5. HelpfulnessNumerator - number of users who found the review helpful\n",
        "6. HelpfulnessDenominator - number of users who indicated whether they found the review helpful or not\n",
        "7. Score - rating between 1 and 5\n",
        "8. Time - timestamp for the review\n",
        "9. Summary - brief summary of the review\n",
        "10. Text - text of the review\n",
        "\n",
        "\n",
        "**DATA SET SPLITS ** \n",
        "\n",
        "1. AVG_WORD2VEC : 70K TRAIN,  30K TEST\n",
        "2. TFIDF_WORD2VEC : 70K TRAIN ,  30K TEST\n",
        "3. BOW : 60K TRAIN,  20K CV,  20K TEST\n",
        "4. TFIDF : 60K TRAIN, 20K CV,  20K TEST"
      ]
    },
    {
      "metadata": {
        "id": "r9gDBz-64H0V",
        "colab_type": "text"
      },
      "cell_type": "markdown",
      "source": [
        "## IMPORTING THE LIBRARIES "
      ]
    },
    {
      "metadata": {
        "id": "eWWk2f_LFftv",
        "colab_type": "code",
        "colab": {}
      },
      "cell_type": "code",
      "source": [
        "import pandas as pd\n",
        "import numpy as np\n",
        "from sklearn.neighbors import KNeighborsClassifier\n",
        "from sklearn.metrics import confusion_matrix,classification_report,accuracy_score\n",
        "from sklearn.model_selection import cross_val_score\n",
        "from sklearn.preprocessing import StandardScaler\n",
        "import pickle\n",
        "import seaborn as sns\n",
        "import matplotlib.pyplot as plt\n",
        "import warnings\n",
        "warnings.filterwarnings('ignore')"
      ],
      "execution_count": 0,
      "outputs": []
    },
    {
      "metadata": {
        "id": "3J4VKSB14Msq",
        "colab_type": "text"
      },
      "cell_type": "markdown",
      "source": [
        "** Mounting from google drive**"
      ]
    },
    {
      "metadata": {
        "id": "GCgFOZntj2uq",
        "colab_type": "code",
        "colab": {
          "base_uri": "https://localhost:8080/",
          "height": 122
        },
        "outputId": "79f8e97d-b12a-485a-b7bd-de849dcc2b53"
      },
      "cell_type": "code",
      "source": [
        "from google.colab import drive\n",
        "drive.mount('/content/gdrive',force_remount=True)"
      ],
      "execution_count": 3,
      "outputs": [
        {
          "output_type": "stream",
          "text": [
            "Go to this URL in a browser: https://accounts.google.com/o/oauth2/auth?client_id=947318989803-6bn6qk8qdgf4n4g3pfee6491hc0brc4i.apps.googleusercontent.com&redirect_uri=urn%3Aietf%3Awg%3Aoauth%3A2.0%3Aoob&scope=email%20https%3A%2F%2Fwww.googleapis.com%2Fauth%2Fdocs.test%20https%3A%2F%2Fwww.googleapis.com%2Fauth%2Fdrive%20https%3A%2F%2Fwww.googleapis.com%2Fauth%2Fdrive.photos.readonly%20https%3A%2F%2Fwww.googleapis.com%2Fauth%2Fpeopleapi.readonly&response_type=code\n",
            "\n",
            "Enter your authorization code:\n",
            "··········\n",
            "Mounted at /content/gdrive\n"
          ],
          "name": "stdout"
        }
      ]
    },
    {
      "metadata": {
        "id": "2IS0wazP6JD8",
        "colab_type": "text"
      },
      "cell_type": "markdown",
      "source": [
        "## FEATURIZATION 1 : TFIDF = WORD2VEC"
      ]
    },
    {
      "metadata": {
        "id": "dxqmxeC56IYh",
        "colab_type": "code",
        "colab": {}
      },
      "cell_type": "code",
      "source": [
        "tfw2v_train = pickle.load(open('/content/gdrive/My Drive/AppliedAI/Amazon Fine Food Reviews/Train_TFW2V.sav','rb'))"
      ],
      "execution_count": 0,
      "outputs": []
    },
    {
      "metadata": {
        "id": "T7jLzAyUjDvx",
        "colab_type": "code",
        "colab": {}
      },
      "cell_type": "code",
      "source": [
        "tfw2v_test = pickle.load(open('/content/gdrive/My Drive/AppliedAI/Amazon Fine Food Reviews/Test_TFW2V.sav','rb'))"
      ],
      "execution_count": 0,
      "outputs": []
    },
    {
      "metadata": {
        "id": "YJEm7-q19p6A",
        "colab_type": "text"
      },
      "cell_type": "markdown",
      "source": [
        "____\n",
        "\n",
        "Creating the Train and Test set respectively for training KNN and Crossvalidation\n",
        "\n",
        "____\n"
      ]
    },
    {
      "metadata": {
        "id": "j2eMqgic88QT",
        "colab_type": "code",
        "colab": {}
      },
      "cell_type": "code",
      "source": [
        "X_train = tfw2v_train.iloc[:,0:50]\n",
        "y_train = tfw2v_train['Score']\n",
        "X_test = tfw2v_test.iloc[:,0:50]\n",
        "y_test = tfw2v_test['Score']"
      ],
      "execution_count": 0,
      "outputs": []
    },
    {
      "metadata": {
        "id": "VsdIsVZ3oCvB",
        "colab_type": "text"
      },
      "cell_type": "markdown",
      "source": [
        "** STANDARD SCALING THE DATA **"
      ]
    },
    {
      "metadata": {
        "id": "DcpjV6u2oCZO",
        "colab_type": "code",
        "colab": {}
      },
      "cell_type": "code",
      "source": [
        "sc = StandardScaler()\n",
        "X_train = sc.fit_transform(X_train)\n",
        "X_test = sc.transform(X_test)"
      ],
      "execution_count": 0,
      "outputs": []
    },
    {
      "metadata": {
        "id": "8Ozf9HbW94EC",
        "colab_type": "text"
      },
      "cell_type": "markdown",
      "source": [
        "** 10 - FOLD CROSS VALIDATION : FINIDING OPTIMAL K : NEAREST NEIGHBOURS FOR TFIDF WORD2VEC **"
      ]
    },
    {
      "metadata": {
        "id": "omuYjpTH_80b",
        "colab_type": "code",
        "colab": {
          "base_uri": "https://localhost:8080/",
          "height": 119
        },
        "outputId": "c8aae9c1-a074-4fc8-e4b9-599d26d25fa9"
      },
      "cell_type": "code",
      "source": [
        "cv = dict()\n",
        "\n",
        "for i in range(1,12,2):\n",
        "  knn = KNeighborsClassifier(n_neighbors = i,algorithm='kd_tree',n_jobs = -1)\n",
        "  results = cross_val_score(knn,X_train,y_train,cv=10,n_jobs = -1,scoring = 'accuracy')\n",
        "  results = results * 100\n",
        "  cv[i] = np.mean(results)\n",
        "  print(\"For K = \" + str(i) + \" Accuracy = \" + str(np.mean(results)))"
      ],
      "execution_count": 66,
      "outputs": [
        {
          "output_type": "stream",
          "text": [
            "For K = 1 Accuracy = 85.05713314311933\n",
            "For K = 3 Accuracy = 88.1199845952475\n",
            "For K = 5 Accuracy = 89.06142439970837\n",
            "For K = 7 Accuracy = 89.34142827932945\n",
            "For K = 9 Accuracy = 89.45142766810494\n",
            "For K = 11 Accuracy = 89.56285481215738\n"
          ],
          "name": "stdout"
        }
      ]
    },
    {
      "metadata": {
        "id": "0utW_QQNEN0C",
        "colab_type": "code",
        "colab": {
          "base_uri": "https://localhost:8080/",
          "height": 296
        },
        "outputId": "52259e2f-6d10-4f56-fb09-c3c4893e6db1"
      },
      "cell_type": "code",
      "source": [
        "sns.pointplot(x = list(range(1,12,2)),y= list(cv.values()))\n",
        "plt.xlabel(\" K \")\n",
        "plt.ylabel(\" Accuracy \")"
      ],
      "execution_count": 67,
      "outputs": [
        {
          "output_type": "execute_result",
          "data": {
            "text/plain": [
              "Text(0,0.5,' Accuracy ')"
            ]
          },
          "metadata": {
            "tags": []
          },
          "execution_count": 67
        },
        {
          "output_type": "display_data",
          "data": {
            "image/png": "[encoded data removed]",
            "text/plain": [
              "<matplotlib.figure.Figure at 0x7f23047e6400>"
            ]
          },
          "metadata": {
            "tags": []
          }
        }
      ]
    },
    {
      "metadata": {
        "id": "6afwboHwmkoF",
        "colab_type": "text"
      },
      "cell_type": "markdown",
      "source": [
        "----------\n",
        "\n",
        "The maximum accuracy is given by ** K = 11 **\n",
        "\n",
        "1. Training the whole train on K = 11\n",
        "2. Predicting for X_test \n",
        "3. Reporting the accuracy \n",
        "------\n"
      ]
    },
    {
      "metadata": {
        "id": "TVOmDiQOmkBi",
        "colab_type": "code",
        "colab": {}
      },
      "cell_type": "code",
      "source": [
        "knn = KNeighborsClassifier(n_neighbors = 11,algorithm='kd_tree',n_jobs = -1)"
      ],
      "execution_count": 0,
      "outputs": []
    },
    {
      "metadata": {
        "id": "qwarY7ZBlvo1",
        "colab_type": "code",
        "colab": {
          "base_uri": "https://localhost:8080/",
          "height": 68
        },
        "outputId": "98bd5066-dac9-4db5-ca13-9a1e756ea222"
      },
      "cell_type": "code",
      "source": [
        "knn.fit(X_train,y_train)"
      ],
      "execution_count": 69,
      "outputs": [
        {
          "output_type": "execute_result",
          "data": {
            "text/plain": [
              "KNeighborsClassifier(algorithm='kd_tree', leaf_size=30, metric='minkowski',\n",
              "           metric_params=None, n_jobs=-1, n_neighbors=11, p=2,\n",
              "           weights='uniform')"
            ]
          },
          "metadata": {
            "tags": []
          },
          "execution_count": 69
        }
      ]
    },
    {
      "metadata": {
        "id": "_Z7y0yq5l_Lu",
        "colab_type": "code",
        "colab": {}
      },
      "cell_type": "code",
      "source": [
        "pred = knn.predict(X_test)"
      ],
      "execution_count": 0,
      "outputs": []
    },
    {
      "metadata": {
        "id": "hEplKj3RnHMu",
        "colab_type": "code",
        "colab": {
          "base_uri": "https://localhost:8080/",
          "height": 34
        },
        "outputId": "bcc435af-8801-4bf6-a404-9489e2184ccd"
      },
      "cell_type": "code",
      "source": [
        "print(\"TEST ACCURACY : \"+str(accuracy_score(y_test,pred) * 100))"
      ],
      "execution_count": 80,
      "outputs": [
        {
          "output_type": "stream",
          "text": [
            "TEST ACCURACY : 87.98333333333333\n"
          ],
          "name": "stdout"
        }
      ]
    },
    {
      "metadata": {
        "id": "968KKcCTqhBm",
        "colab_type": "code",
        "colab": {
          "base_uri": "https://localhost:8080/",
          "height": 136
        },
        "outputId": "c65b7f58-1261-4df9-f911-af5e03ca6c64"
      },
      "cell_type": "code",
      "source": [
        "print(classification_report(y_test,pred))"
      ],
      "execution_count": 81,
      "outputs": [
        {
          "output_type": "stream",
          "text": [
            "             precision    recall  f1-score   support\n",
            "\n",
            "          0       0.69      0.22      0.33      4101\n",
            "          1       0.89      0.98      0.93     25899\n",
            "\n",
            "avg / total       0.86      0.88      0.85     30000\n",
            "\n"
          ],
          "name": "stdout"
        }
      ]
    },
    {
      "metadata": {
        "id": "juPmct75rEVa",
        "colab_type": "text"
      },
      "cell_type": "markdown",
      "source": [
        "\n",
        "------------\n",
        "\n",
        "## FEATURIZATION 2 : AVERAGE WORD2VEC\n",
        "_____\n"
      ]
    },
    {
      "metadata": {
        "id": "_NUNo64HrEJ4",
        "colab_type": "code",
        "colab": {}
      },
      "cell_type": "code",
      "source": [
        "w2v_train = pickle.load(open('/content/gdrive/My Drive/AppliedAI/Amazon Fine Food Reviews/avg_word2vec_train.sav','rb'))\n",
        "w2v_test = pickle.load(open('/content/gdrive/My Drive/AppliedAI/Amazon Fine Food Reviews/avg_word2vec_test.sav','rb'))"
      ],
      "execution_count": 0,
      "outputs": []
    },
    {
      "metadata": {
        "id": "TuMAPFncebKK",
        "colab_type": "code",
        "colab": {}
      },
      "cell_type": "code",
      "source": [
        "X_train = w2v_train.iloc[:,0:50]\n",
        "y_train = w2v_train['Score']\n",
        "X_test = w2v_test.iloc[:,0:50]\n",
        "y_test = w2v_test['Score']"
      ],
      "execution_count": 0,
      "outputs": []
    },
    {
      "metadata": {
        "id": "OANV5xhzsnTq",
        "colab_type": "text"
      },
      "cell_type": "markdown",
      "source": [
        "** STANDARAD SCALING THE DATA**"
      ]
    },
    {
      "metadata": {
        "id": "yOO_RpqasjAt",
        "colab_type": "code",
        "colab": {}
      },
      "cell_type": "code",
      "source": [
        "sc = StandardScaler()\n",
        "X_train = sc.fit_transform(X_train)\n",
        "X_test = sc.transform(X_test)"
      ],
      "execution_count": 0,
      "outputs": []
    },
    {
      "metadata": {
        "id": "34mWSftPtBT8",
        "colab_type": "text"
      },
      "cell_type": "markdown",
      "source": [
        "** 10 - FOLD CROSS VALIDATION : FINIDING OPTIMAL K : NEAREST NEIGHBOURS FOR BAG OF WORDS**"
      ]
    },
    {
      "metadata": {
        "id": "wjBpvQjeq7gp",
        "colab_type": "code",
        "colab": {
          "base_uri": "https://localhost:8080/",
          "height": 119
        },
        "outputId": "10419336-9f60-4ec6-c3f3-f66b09d25170"
      },
      "cell_type": "code",
      "source": [
        "cv = dict()\n",
        "\n",
        "for i in range(1,12,2):\n",
        "  knn = KNeighborsClassifier(n_neighbors = i,algorithm='kd_tree',n_jobs = -1)\n",
        "  results = cross_val_score(knn,X_train,y_train,cv=10,n_jobs = -1,scoring = 'accuracy')\n",
        "  results = results * 100\n",
        "  cv[i] = np.mean(results)\n",
        "  print(\"For K = \" + str(i) + \" Accuracy = \" + str(np.mean(results)))"
      ],
      "execution_count": 82,
      "outputs": [
        {
          "output_type": "stream",
          "text": [
            "For K = 1 Accuracy = 86.41139396994099\n",
            "For K = 3 Accuracy = 88.95142378760923\n",
            "For K = 5 Accuracy = 89.584277670408\n",
            "For K = 7 Accuracy = 89.81999154900856\n",
            "For K = 9 Accuracy = 89.95285522346936\n",
            "For K = 11 Accuracy = 89.99999277524766\n"
          ],
          "name": "stdout"
        }
      ]
    },
    {
      "metadata": {
        "id": "Ac9KnyKtBdhV",
        "colab_type": "code",
        "colab": {
          "base_uri": "https://localhost:8080/",
          "height": 296
        },
        "outputId": "33ab8cf7-b54c-470b-cd32-5bcc5f094a7c"
      },
      "cell_type": "code",
      "source": [
        "sns.pointplot(x = list(range(1,12,2)),y= list(cv.values()))\n",
        "plt.xlabel(\" K \")\n",
        "plt.ylabel(\" Accuracy \")"
      ],
      "execution_count": 88,
      "outputs": [
        {
          "output_type": "execute_result",
          "data": {
            "text/plain": [
              "Text(0,0.5,' Accuracy ')"
            ]
          },
          "metadata": {
            "tags": []
          },
          "execution_count": 88
        },
        {
          "output_type": "display_data",
          "data": {
            "image/png": "[encoded data removed]",
            "text/plain": [
              "<matplotlib.figure.Figure at 0x7f23047e67f0>"
            ]
          },
          "metadata": {
            "tags": []
          }
        }
      ]
    },
    {
      "metadata": {
        "id": "F75zT6NRe9f9",
        "colab_type": "code",
        "colab": {}
      },
      "cell_type": "code",
      "source": [
        "knn = KNeighborsClassifier(n_neighbors = 11,algorithm='kd_tree',n_jobs = -1)"
      ],
      "execution_count": 0,
      "outputs": []
    },
    {
      "metadata": {
        "id": "2_frttog1YKW",
        "colab_type": "code",
        "colab": {
          "base_uri": "https://localhost:8080/",
          "height": 68
        },
        "outputId": "995d8466-d594-49d8-9831-000fbe0ee585"
      },
      "cell_type": "code",
      "source": [
        "knn.fit(X_train,y_train)"
      ],
      "execution_count": 84,
      "outputs": [
        {
          "output_type": "execute_result",
          "data": {
            "text/plain": [
              "KNeighborsClassifier(algorithm='kd_tree', leaf_size=30, metric='minkowski',\n",
              "           metric_params=None, n_jobs=-1, n_neighbors=11, p=2,\n",
              "           weights='uniform')"
            ]
          },
          "metadata": {
            "tags": []
          },
          "execution_count": 84
        }
      ]
    },
    {
      "metadata": {
        "id": "orin6icP1aik",
        "colab_type": "code",
        "colab": {}
      },
      "cell_type": "code",
      "source": [
        "pred = knn.predict(X_test)"
      ],
      "execution_count": 0,
      "outputs": []
    },
    {
      "metadata": {
        "id": "-lb89-ut1caC",
        "colab_type": "code",
        "colab": {
          "base_uri": "https://localhost:8080/",
          "height": 34
        },
        "outputId": "dc03cbd8-10a9-41f8-86e5-74ff0e702ee7"
      },
      "cell_type": "code",
      "source": [
        "print(\"TEST ACCURACY : \"+str(accuracy_score(y_test,pred) * 100))"
      ],
      "execution_count": 86,
      "outputs": [
        {
          "output_type": "stream",
          "text": [
            "TEST ACCURACY : 88.52333333333333\n"
          ],
          "name": "stdout"
        }
      ]
    },
    {
      "metadata": {
        "id": "JZRtQH3J4Gz4",
        "colab_type": "code",
        "colab": {
          "base_uri": "https://localhost:8080/",
          "height": 136
        },
        "outputId": "7762136d-4571-4468-ab30-21feca61605d"
      },
      "cell_type": "code",
      "source": [
        "print(classification_report(y_test,pred))"
      ],
      "execution_count": 87,
      "outputs": [
        {
          "output_type": "stream",
          "text": [
            "             precision    recall  f1-score   support\n",
            "\n",
            "          0       0.73      0.26      0.38      4101\n",
            "          1       0.89      0.98      0.94     25899\n",
            "\n",
            "avg / total       0.87      0.89      0.86     30000\n",
            "\n"
          ],
          "name": "stdout"
        }
      ]
    },
    {
      "metadata": {
        "id": "vuBZYdnP4MyG",
        "colab_type": "text"
      },
      "cell_type": "markdown",
      "source": [
        "------------\n",
        "\n",
        "## FEATURIZATION 3 : BOW\n",
        "_____"
      ]
    },
    {
      "metadata": {
        "id": "WTDNg6BBBysv",
        "colab_type": "code",
        "colab": {}
      },
      "cell_type": "code",
      "source": [
        "bow_train = pickle.load(open('/content/gdrive/My Drive/AppliedAI/Amazon Fine Food Reviews/train_bow.sav','rb'))\n",
        "bow_cv = pickle.load(open('/content/gdrive/My Drive/AppliedAI/Amazon Fine Food Reviews/cv_bow.sav','rb'))\n",
        "bow_test = pickle.load(open('/content/gdrive/My Drive/AppliedAI/Amazon Fine Food Reviews/test_bow.sav','rb'))\n",
        "y_train = pickle.load(open('/content/gdrive/My Drive/AppliedAI/Amazon Fine Food Reviews/y_train.sav','rb'))\n",
        "y_test = pickle.load(open('/content/gdrive/My Drive/AppliedAI/Amazon Fine Food Reviews/y_test.sav','rb'))\n",
        "y_cv = pickle.load(open('/content/gdrive/My Drive/AppliedAI/Amazon Fine Food Reviews/y_cv.sav','rb'))"
      ],
      "execution_count": 0,
      "outputs": []
    },
    {
      "metadata": {
        "id": "SgMLq02rtD74",
        "colab_type": "code",
        "colab": {}
      },
      "cell_type": "code",
      "source": [
        "sc= StandardScaler(with_mean = False)\n",
        "bow_train = sc.fit_transform(bow_train)\n",
        "bow_test = sc.transform(bow_test)\n",
        "bow_cv = sc.transform(bow_cv)"
      ],
      "execution_count": 0,
      "outputs": []
    },
    {
      "metadata": {
        "id": "8cMyMt3Os154",
        "colab_type": "text"
      },
      "cell_type": "markdown",
      "source": [
        "**Function to predict : KNN : Batch by Batch, Batch size - 1000 ** "
      ]
    },
    {
      "metadata": {
        "id": "80NTo482mkYF",
        "colab_type": "code",
        "colab": {}
      },
      "cell_type": "code",
      "source": [
        "def Predict(X): #passing the testing file \n",
        "  cv_pred = []\n",
        "  start = 0\n",
        "  next = 1000\n",
        "  for i in range(0,int(np.round(X.shape[0]/1000))): #processing 1000 :  chunk by chunk\n",
        "    pred = knn.predict(X[start:next])\n",
        "    cv_pred = cv_pred + list(pred)\n",
        "    if i == 18:\n",
        "      start = 19000\n",
        "      next = 20000\n",
        "    else:\n",
        "      start = next +1\n",
        "      next = next + 1001\n",
        "      \n",
        "  return pd.Series(np.array(cv_pred))"
      ],
      "execution_count": 0,
      "outputs": []
    },
    {
      "metadata": {
        "id": "tdcQWUv460XS",
        "colab_type": "text"
      },
      "cell_type": "markdown",
      "source": [
        "** SIMPLE CROSS VALIDATION : FINIDING OPTIMAL K : NEAREST NEIGHBOURS FOR BAG OF WORDS**"
      ]
    },
    {
      "metadata": {
        "id": "CraP1L1JmkHj",
        "colab_type": "code",
        "colab": {
          "base_uri": "https://localhost:8080/",
          "height": 119
        },
        "outputId": "86ca3b2b-45dd-4595-b826-57b0d0aaebd3"
      },
      "cell_type": "code",
      "source": [
        "cv_accuracy = []\n",
        "for i in range(1,12,2):\n",
        "  knn = KNeighborsClassifier(n_neighbors=i,algorithm='brute')\n",
        "  knn.fit(bow_train,y_train)\n",
        "  pred = Predict(bow_cv)\n",
        "  print(\"For K = \" + str(i) + \" accuracy = \",str((accuracy_score(pred,y_cv))*100))\n",
        "  cv_accuracy.append((accuracy_score(pred,y_cv))*100)"
      ],
      "execution_count": 40,
      "outputs": [
        {
          "output_type": "stream",
          "text": [
            "For K = 1 accuracy =  79.50500000000001\n",
            "For K = 3 accuracy =  83.91\n",
            "For K = 5 accuracy =  85.00999999999999\n",
            "For K = 7 accuracy =  85.515\n",
            "For K = 9 accuracy =  85.84\n",
            "For K = 11 accuracy =  86.015\n"
          ],
          "name": "stdout"
        }
      ]
    },
    {
      "metadata": {
        "id": "cxmntp4imj__",
        "colab_type": "code",
        "colab": {
          "base_uri": "https://localhost:8080/",
          "height": 378
        },
        "outputId": "efbcd0e7-93c1-4519-8d71-e045b1775ede"
      },
      "cell_type": "code",
      "source": [
        "sns.pointplot(x = list(range(1,12,2)),y= list(cv_accuracy))\n",
        "plt.xlabel(\" K \")\n",
        "plt.ylabel(\" Accuracy \")"
      ],
      "execution_count": 46,
      "outputs": [
        {
          "output_type": "execute_result",
          "data": {
            "text/plain": [
              "Text(0,0.5,' Accuracy ')"
            ]
          },
          "metadata": {
            "tags": []
          },
          "execution_count": 46
        },
        {
          "output_type": "display_data",
          "data": {
            "image/png": "[encoded data removed]",
            "text/plain": [
              "<matplotlib.figure.Figure at 0x7ff28079f0f0>"
            ]
          },
          "metadata": {
            "tags": []
          }
        }
      ]
    },
    {
      "metadata": {
        "id": "2qO8k9kM7Itn",
        "colab_type": "text"
      },
      "cell_type": "markdown",
      "source": [
        "** K-NN : K = 11 for Bag of Words **"
      ]
    },
    {
      "metadata": {
        "id": "V1xb0lS-6gkC",
        "colab_type": "code",
        "colab": {}
      },
      "cell_type": "code",
      "source": [
        "knn = KNeighborsClassifier(n_neighbors=i,algorithm='brute')\n",
        "knn.fit(bow_train,y_train)\n",
        "pred = Predict(bow_test)"
      ],
      "execution_count": 0,
      "outputs": []
    },
    {
      "metadata": {
        "id": "O67N_aFR7ryM",
        "colab_type": "code",
        "colab": {
          "base_uri": "https://localhost:8080/",
          "height": 34
        },
        "outputId": "a7a2ff9b-91f4-4f23-e6f9-e3581ea4fc52"
      },
      "cell_type": "code",
      "source": [
        "print(\"TEST ACCURACY : \"+str(accuracy_score(y_test,pred) * 100))"
      ],
      "execution_count": 49,
      "outputs": [
        {
          "output_type": "stream",
          "text": [
            "TEST ACCURACY : 86.42\n"
          ],
          "name": "stdout"
        }
      ]
    },
    {
      "metadata": {
        "id": "dcXY4kSW7sXL",
        "colab_type": "code",
        "colab": {
          "base_uri": "https://localhost:8080/",
          "height": 136
        },
        "outputId": "b7299e6f-1f89-4978-b6fd-dc8c0282a282"
      },
      "cell_type": "code",
      "source": [
        "print(classification_report(y_test,pred))"
      ],
      "execution_count": 51,
      "outputs": [
        {
          "output_type": "stream",
          "text": [
            "             precision    recall  f1-score   support\n",
            "\n",
            "          0       0.28      0.01      0.02      2674\n",
            "          1       0.87      1.00      0.93     17326\n",
            "\n",
            "avg / total       0.79      0.86      0.81     20000\n",
            "\n"
          ],
          "name": "stdout"
        }
      ]
    },
    {
      "metadata": {
        "id": "z1P2TA4az87y",
        "colab_type": "text"
      },
      "cell_type": "markdown",
      "source": [
        "------------\n",
        "\n",
        "## FEATURIZATION 4 : TF_IDF\n",
        "_____"
      ]
    },
    {
      "metadata": {
        "id": "2XS5lZbI0BXr",
        "colab_type": "code",
        "colab": {}
      },
      "cell_type": "code",
      "source": [
        "tf_idf_train = pickle.load(open('/content/gdrive/My Drive/AppliedAI/Amazon Fine Food Reviews/train_tfidf.sav','rb'))\n",
        "tf_idf_test = pickle.load(open('/content/gdrive/My Drive/AppliedAI/Amazon Fine Food Reviews/test_tfidf.sav','rb'))\n",
        "tf_idf_cv = pickle.load(open('/content/gdrive/My Drive/AppliedAI/Amazon Fine Food Reviews/cv_tfidf.sav','rb'))"
      ],
      "execution_count": 0,
      "outputs": []
    },
    {
      "metadata": {
        "id": "enxn6XVd2uDG",
        "colab_type": "code",
        "colab": {}
      },
      "cell_type": "code",
      "source": [
        "sc = StandardScaler(with_mean = False)\n",
        "tf_idf_train = sc.fit_transform(tf_idf_train)\n",
        "tf_idf_test = sc.transform(tf_idf_test)\n",
        "tf_idf_cv = sc.transform(tf_idf_cv)"
      ],
      "execution_count": 0,
      "outputs": []
    },
    {
      "metadata": {
        "id": "-8KNFet4FRpM",
        "colab_type": "text"
      },
      "cell_type": "markdown",
      "source": [
        "** SIMPLE CROSS VALIDATION : FINIDING OPTIMAL K : NEAREST NEIGHBOURS FOR TF_IDF**"
      ]
    },
    {
      "metadata": {
        "id": "z6ftEydQ_IQW",
        "colab_type": "code",
        "colab": {
          "base_uri": "https://localhost:8080/",
          "height": 119
        },
        "outputId": "30d9104b-b7b4-47d5-f926-debf70c87d19"
      },
      "cell_type": "code",
      "source": [
        "cv = {}\n",
        "for i in range(1,12,2):\n",
        "  knn = KNeighborsClassifier(n_neighbors=i,algorithm='brute')\n",
        "  knn.fit(tf_idf_train,y_train)\n",
        "  pred = Predict(tf_idf_cv)\n",
        "  print(\"For K = \" + str(i) + \" accuracy = \",str((accuracy_score(pred,y_cv))*100))\n",
        "  cv[i] = (accuracy_score(pred,y_cv))*100"
      ],
      "execution_count": 58,
      "outputs": [
        {
          "output_type": "stream",
          "text": [
            "For K = 1 accuracy =  80.58\n",
            "For K = 3 accuracy =  84.57000000000001\n",
            "For K = 5 accuracy =  85.53\n",
            "For K = 7 accuracy =  85.955\n",
            "For K = 9 accuracy =  86.15\n",
            "For K = 11 accuracy =  86.225\n"
          ],
          "name": "stdout"
        }
      ]
    },
    {
      "metadata": {
        "id": "rTHl8hgL2iS4",
        "colab_type": "code",
        "colab": {
          "base_uri": "https://localhost:8080/",
          "height": 378
        },
        "outputId": "52606837-9795-41e7-adc0-7d0242841b55"
      },
      "cell_type": "code",
      "source": [
        "sns.pointplot(x = list(range(1,12,2)),y= list(cv.values()))\n",
        "plt.xlabel(\" K \")\n",
        "plt.ylabel(\" Accuracy \")"
      ],
      "execution_count": 59,
      "outputs": [
        {
          "output_type": "execute_result",
          "data": {
            "text/plain": [
              "Text(0,0.5,' Accuracy ')"
            ]
          },
          "metadata": {
            "tags": []
          },
          "execution_count": 59
        },
        {
          "output_type": "display_data",
          "data": {
            "image/png": "[encoded data removed]",
            "text/plain": [
              "<matplotlib.figure.Figure at 0x7ff280eb4f28>"
            ]
          },
          "metadata": {
            "tags": []
          }
        }
      ]
    },
    {
      "metadata": {
        "id": "GpDInRvpFcSl",
        "colab_type": "text"
      },
      "cell_type": "markdown",
      "source": [
        "** K-NN : K = 11 for TF_IDF **"
      ]
    },
    {
      "metadata": {
        "id": "cdp14E7iFgmA",
        "colab_type": "code",
        "colab": {}
      },
      "cell_type": "code",
      "source": [
        "knn = KNeighborsClassifier(n_neighbors=11,algorithm='brute')\n",
        "knn.fit(tf_idf_train,y_train)\n",
        "pred = Predict(tf_idf_test)"
      ],
      "execution_count": 0,
      "outputs": []
    },
    {
      "metadata": {
        "id": "qD1TnSQ4Fmdg",
        "colab_type": "code",
        "colab": {
          "base_uri": "https://localhost:8080/",
          "height": 34
        },
        "outputId": "5cf04209-6c1b-4c22-dd4e-291de7ddfc39"
      },
      "cell_type": "code",
      "source": [
        "print(\"TEST ACCURACY : \"+str(accuracy_score(y_test,pred) * 100))"
      ],
      "execution_count": 11,
      "outputs": [
        {
          "output_type": "stream",
          "text": [
            "TEST ACCURACY : 86.58\n"
          ],
          "name": "stdout"
        }
      ]
    },
    {
      "metadata": {
        "id": "w66-awJ8F-2Y",
        "colab_type": "code",
        "colab": {
          "base_uri": "https://localhost:8080/",
          "height": 136
        },
        "outputId": "71d16e73-a83b-4be6-b036-2497933f41b8"
      },
      "cell_type": "code",
      "source": [
        "print(classification_report(y_test,pred))"
      ],
      "execution_count": 12,
      "outputs": [
        {
          "output_type": "stream",
          "text": [
            "             precision    recall  f1-score   support\n",
            "\n",
            "          0       0.22      0.00      0.00      2674\n",
            "          1       0.87      1.00      0.93     17326\n",
            "\n",
            "avg / total       0.78      0.87      0.80     20000\n",
            "\n"
          ],
          "name": "stdout"
        }
      ]
    },
    {
      "metadata": {
        "id": "FFV2e62O_-QG",
        "colab_type": "text"
      },
      "cell_type": "markdown",
      "source": [
        "** OBSERVATIONS ** \n",
        "\n",
        "1. The recall or TPR for Negative points is very less for TF_IDF and BOW representations. In other cases TPR is fairly low ranging around 26%\n",
        "\n",
        "2.  The precision is also low ranging from : (22%  for TF_IDF and BOW representations). For TF_IDF_Word2Vec and Average Word2Vec the precision is fairly good. \n",
        "\n",
        "\n",
        "\n",
        "\n",
        "\n"
      ]
    }
  ]
}