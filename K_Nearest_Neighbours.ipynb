{
  "nbformat": 4,
  "nbformat_minor": 0,
  "metadata": {
    "colab": {
      "name": "K_Nearest_Neighbours.ipynb",
      "version": "0.3.2",
      "provenance": [],
      "collapsed_sections": [],
      "include_colab_link": true
    },
    "kernelspec": {
      "name": "python3",
      "display_name": "Python 3"
    }
  },
  "cells": [
    {
      "cell_type": "markdown",
      "metadata": {
        "id": "view-in-github",
        "colab_type": "text"
      },
      "source": [
        "<a href=\"https://colab.research.google.com/github/iyappan24/Applied-AI-Notebooks/blob/master/K_Nearest_Neighbours.ipynb\" target=\"_parent\"><img src=\"https://colab.research.google.com/assets/colab-badge.svg\" alt=\"Open In Colab\"/></a>"
      ]
    },
    {
      "metadata": {
        "id": "r9gDBz-64H0V",
        "colab_type": "text"
      },
      "cell_type": "markdown",
      "source": [
        "## IMPORTING THE LIBRARIES "
      ]
    },
    {
      "metadata": {
        "id": "eWWk2f_LFftv",
        "colab_type": "code",
        "colab": {}
      },
      "cell_type": "code",
      "source": [
        "import pandas as pd\n",
        "import numpy as np\n",
        "from sklearn.neighbors import KNeighborsClassifier\n",
        "from sklearn.metrics import confusion_matrix,classification_report,accuracy_score\n",
        "from sklearn.model_selection import cross_val_score\n",
        "from sklearn.preprocessing import StandardScaler\n",
        "import pickle\n",
        "import seaborn as sns\n",
        "import matplotlib.pyplot as plt\n",
        "import warnings\n",
        "warnings.filterwarnings('ignore')"
      ],
      "execution_count": 0,
      "outputs": []
    },
    {
      "metadata": {
        "id": "3J4VKSB14Msq",
        "colab_type": "text"
      },
      "cell_type": "markdown",
      "source": [
        "** Mounting from google drive**"
      ]
    },
    {
      "metadata": {
        "id": "GCgFOZntj2uq",
        "colab_type": "code",
        "colab": {
          "base_uri": "https://localhost:8080/",
          "height": 122
        },
        "outputId": "0999fca7-9f9a-41e2-987f-be55dd661f43"
      },
      "cell_type": "code",
      "source": [
        "from google.colab import drive\n",
        "drive.mount('/content/gdrive',force_remount=True)"
      ],
      "execution_count": 1,
      "outputs": [
        {
          "output_type": "stream",
          "text": [
            "Go to this URL in a browser: https://accounts.google.com/o/oauth2/auth?client_id=947318989803-6bn6qk8qdgf4n4g3pfee6491hc0brc4i.apps.googleusercontent.com&redirect_uri=urn%3Aietf%3Awg%3Aoauth%3A2.0%3Aoob&scope=email%20https%3A%2F%2Fwww.googleapis.com%2Fauth%2Fdocs.test%20https%3A%2F%2Fwww.googleapis.com%2Fauth%2Fdrive%20https%3A%2F%2Fwww.googleapis.com%2Fauth%2Fdrive.photos.readonly%20https%3A%2F%2Fwww.googleapis.com%2Fauth%2Fpeopleapi.readonly&response_type=code\n",
            "\n",
            "Enter your authorization code:\n",
            "··········\n",
            "Mounted at /content/gdrive\n"
          ],
          "name": "stdout"
        }
      ]
    },
    {
      "metadata": {
        "id": "2IS0wazP6JD8",
        "colab_type": "text"
      },
      "cell_type": "markdown",
      "source": [
        "## FEATURIZATION 1 : TFIDF = WORD2VEC"
      ]
    },
    {
      "metadata": {
        "id": "dxqmxeC56IYh",
        "colab_type": "code",
        "colab": {}
      },
      "cell_type": "code",
      "source": [
        "tfw2v_train = pickle.load(open('/content/gdrive/My Drive/AppliedAI/Amazon Fine Food Reviews/Train_TFW2V.sav','rb'))"
      ],
      "execution_count": 0,
      "outputs": []
    },
    {
      "metadata": {
        "id": "T7jLzAyUjDvx",
        "colab_type": "code",
        "colab": {}
      },
      "cell_type": "code",
      "source": [
        "tfw2v_test = pickle.load(open('/content/gdrive/My Drive/AppliedAI/Amazon Fine Food Reviews/Test_TFW2V.sav','rb'))"
      ],
      "execution_count": 0,
      "outputs": []
    },
    {
      "metadata": {
        "id": "YJEm7-q19p6A",
        "colab_type": "text"
      },
      "cell_type": "markdown",
      "source": [
        "____\n",
        "\n",
        "Creating the Train and Test set respectively for training KNN and Crossvalidation\n",
        "\n",
        "____\n"
      ]
    },
    {
      "metadata": {
        "id": "j2eMqgic88QT",
        "colab_type": "code",
        "colab": {}
      },
      "cell_type": "code",
      "source": [
        "X_train = tfw2v_train.iloc[:,0:50]\n",
        "y_train = tfw2v_train['Score']\n",
        "X_test = tfw2v_test.iloc[:,0:50]\n",
        "y_test = tfw2v_test['Score']"
      ],
      "execution_count": 0,
      "outputs": []
    },
    {
      "metadata": {
        "id": "VsdIsVZ3oCvB",
        "colab_type": "text"
      },
      "cell_type": "markdown",
      "source": [
        "** STANDARD SCALING THE DATA **"
      ]
    },
    {
      "metadata": {
        "id": "DcpjV6u2oCZO",
        "colab_type": "code",
        "colab": {}
      },
      "cell_type": "code",
      "source": [
        "sc = StandardScaler()\n",
        "X_train = sc.fit_transform(X_train)\n",
        "X_test = sc.transform(X_test)"
      ],
      "execution_count": 0,
      "outputs": []
    },
    {
      "metadata": {
        "id": "8Ozf9HbW94EC",
        "colab_type": "text"
      },
      "cell_type": "markdown",
      "source": [
        "** CROSS VALIDATION : FINIDING OPTIMAL K : NEAREST NEIGHBOURS FOR TFIDF WORD2VEC **"
      ]
    },
    {
      "metadata": {
        "id": "omuYjpTH_80b",
        "colab_type": "code",
        "colab": {
          "base_uri": "https://localhost:8080/",
          "height": 119
        },
        "outputId": "c8aae9c1-a074-4fc8-e4b9-599d26d25fa9"
      },
      "cell_type": "code",
      "source": [
        "cv = dict()\n",
        "\n",
        "for i in range(1,12,2):\n",
        "  knn = KNeighborsClassifier(n_neighbors = i,algorithm='kd_tree',n_jobs = -1)\n",
        "  results = cross_val_score(knn,X_train,y_train,cv=10,n_jobs = -1,scoring = 'accuracy')\n",
        "  results = results * 100\n",
        "  cv[i] = np.mean(results)\n",
        "  print(\"For K = \" + str(i) + \" Accuracy = \" + str(np.mean(results)))"
      ],
      "execution_count": 66,
      "outputs": [
        {
          "output_type": "stream",
          "text": [
            "For K = 1 Accuracy = 85.05713314311933\n",
            "For K = 3 Accuracy = 88.1199845952475\n",
            "For K = 5 Accuracy = 89.06142439970837\n",
            "For K = 7 Accuracy = 89.34142827932945\n",
            "For K = 9 Accuracy = 89.45142766810494\n",
            "For K = 11 Accuracy = 89.56285481215738\n"
          ],
          "name": "stdout"
        }
      ]
    },
    {
      "metadata": {
        "id": "0utW_QQNEN0C",
        "colab_type": "code",
        "colab": {
          "base_uri": "https://localhost:8080/",
          "height": 296
        },
        "outputId": "52259e2f-6d10-4f56-fb09-c3c4893e6db1"
      },
      "cell_type": "code",
      "source": [
        "sns.pointplot(x = list(range(1,12,2)),y= list(cv.values()))\n",
        "plt.xlabel(\" K \")\n",
        "plt.ylabel(\" Accuracy \")"
      ],
      "execution_count": 67,
      "outputs": [
        {
          "output_type": "execute_result",
          "data": {
            "text/plain": [
              "Text(0,0.5,' Accuracy ')"
            ]
          },
          "metadata": {
            "tags": []
          },
          "execution_count": 67
        },
        {
          "output_type": "display_data",
          "data": {
            "image/png": "[encoded data removed]",
            "text/plain": [
              "<matplotlib.figure.Figure at 0x7f23047e6400>"
            ]
          },
          "metadata": {
            "tags": []
          }
        }
      ]
    },
    {
      "metadata": {
        "id": "6afwboHwmkoF",
        "colab_type": "text"
      },
      "cell_type": "markdown",
      "source": [
        "----------\n",
        "\n",
        "The maximum accuracy is given by ** K = 11 **\n",
        "\n",
        "1. Training the whole train on K = 11\n",
        "2. Predicting for X_test \n",
        "3. Reporting the accuracy \n",
        "------\n"
      ]
    },
    {
      "metadata": {
        "id": "TVOmDiQOmkBi",
        "colab_type": "code",
        "colab": {}
      },
      "cell_type": "code",
      "source": [
        "knn = KNeighborsClassifier(n_neighbors = 11,algorithm='kd_tree',n_jobs = -1)"
      ],
      "execution_count": 0,
      "outputs": []
    },
    {
      "metadata": {
        "id": "qwarY7ZBlvo1",
        "colab_type": "code",
        "colab": {
          "base_uri": "https://localhost:8080/",
          "height": 68
        },
        "outputId": "98bd5066-dac9-4db5-ca13-9a1e756ea222"
      },
      "cell_type": "code",
      "source": [
        "knn.fit(X_train,y_train)"
      ],
      "execution_count": 69,
      "outputs": [
        {
          "output_type": "execute_result",
          "data": {
            "text/plain": [
              "KNeighborsClassifier(algorithm='kd_tree', leaf_size=30, metric='minkowski',\n",
              "           metric_params=None, n_jobs=-1, n_neighbors=11, p=2,\n",
              "           weights='uniform')"
            ]
          },
          "metadata": {
            "tags": []
          },
          "execution_count": 69
        }
      ]
    },
    {
      "metadata": {
        "id": "_Z7y0yq5l_Lu",
        "colab_type": "code",
        "colab": {}
      },
      "cell_type": "code",
      "source": [
        "pred = knn.predict(X_test)"
      ],
      "execution_count": 0,
      "outputs": []
    },
    {
      "metadata": {
        "id": "hEplKj3RnHMu",
        "colab_type": "code",
        "colab": {
          "base_uri": "https://localhost:8080/",
          "height": 34
        },
        "outputId": "bcc435af-8801-4bf6-a404-9489e2184ccd"
      },
      "cell_type": "code",
      "source": [
        "print(\"TEST ACCURACY : \"+str(accuracy_score(y_test,pred) * 100))"
      ],
      "execution_count": 80,
      "outputs": [
        {
          "output_type": "stream",
          "text": [
            "TEST ACCURACY : 87.98333333333333\n"
          ],
          "name": "stdout"
        }
      ]
    },
    {
      "metadata": {
        "id": "968KKcCTqhBm",
        "colab_type": "code",
        "colab": {
          "base_uri": "https://localhost:8080/",
          "height": 136
        },
        "outputId": "c65b7f58-1261-4df9-f911-af5e03ca6c64"
      },
      "cell_type": "code",
      "source": [
        "print(classification_report(y_test,pred))"
      ],
      "execution_count": 81,
      "outputs": [
        {
          "output_type": "stream",
          "text": [
            "             precision    recall  f1-score   support\n",
            "\n",
            "          0       0.69      0.22      0.33      4101\n",
            "          1       0.89      0.98      0.93     25899\n",
            "\n",
            "avg / total       0.86      0.88      0.85     30000\n",
            "\n"
          ],
          "name": "stdout"
        }
      ]
    },
    {
      "metadata": {
        "id": "juPmct75rEVa",
        "colab_type": "text"
      },
      "cell_type": "markdown",
      "source": [
        "\n",
        "------------\n",
        "\n",
        "## FEATURIZATION 2 : AVERAGE WORD2VEC\n",
        "_____\n"
      ]
    },
    {
      "metadata": {
        "id": "_NUNo64HrEJ4",
        "colab_type": "code",
        "colab": {}
      },
      "cell_type": "code",
      "source": [
        "w2v_train = pickle.load(open('/content/gdrive/My Drive/AppliedAI/Amazon Fine Food Reviews/avg_word2vec_train.sav','rb'))\n",
        "w2v_test = pickle.load(open('/content/gdrive/My Drive/AppliedAI/Amazon Fine Food Reviews/avg_word2vec_test.sav','rb'))"
      ],
      "execution_count": 0,
      "outputs": []
    },
    {
      "metadata": {
        "id": "TuMAPFncebKK",
        "colab_type": "code",
        "colab": {}
      },
      "cell_type": "code",
      "source": [
        "X_train = w2v_train.iloc[:,0:50]\n",
        "y_train = w2v_train['Score']\n",
        "X_test = w2v_test.iloc[:,0:50]\n",
        "y_test = w2v_test['Score']"
      ],
      "execution_count": 0,
      "outputs": []
    },
    {
      "metadata": {
        "id": "OANV5xhzsnTq",
        "colab_type": "text"
      },
      "cell_type": "markdown",
      "source": [
        "** STANDARAD SCALING THE DATA**"
      ]
    },
    {
      "metadata": {
        "id": "yOO_RpqasjAt",
        "colab_type": "code",
        "colab": {}
      },
      "cell_type": "code",
      "source": [
        "sc = StandardScaler()\n",
        "X_train = sc.fit_transform(X_train)\n",
        "X_test = sc.transform(X_test)"
      ],
      "execution_count": 0,
      "outputs": []
    },
    {
      "metadata": {
        "id": "34mWSftPtBT8",
        "colab_type": "text"
      },
      "cell_type": "markdown",
      "source": [
        "** CROSS VALIDATION : FINIDING OPTIMAL K : NEAREST NEIGHBOURS FOR BAG OF WORDS**"
      ]
    },
    {
      "metadata": {
        "id": "wjBpvQjeq7gp",
        "colab_type": "code",
        "colab": {
          "base_uri": "https://localhost:8080/",
          "height": 119
        },
        "outputId": "10419336-9f60-4ec6-c3f3-f66b09d25170"
      },
      "cell_type": "code",
      "source": [
        "cv = dict()\n",
        "\n",
        "for i in range(1,12,2):\n",
        "  knn = KNeighborsClassifier(n_neighbors = i,algorithm='kd_tree',n_jobs = -1)\n",
        "  results = cross_val_score(knn,X_train,y_train,cv=10,n_jobs = -1,scoring = 'accuracy')\n",
        "  results = results * 100\n",
        "  cv[i] = np.mean(results)\n",
        "  print(\"For K = \" + str(i) + \" Accuracy = \" + str(np.mean(results)))"
      ],
      "execution_count": 82,
      "outputs": [
        {
          "output_type": "stream",
          "text": [
            "For K = 1 Accuracy = 86.41139396994099\n",
            "For K = 3 Accuracy = 88.95142378760923\n",
            "For K = 5 Accuracy = 89.584277670408\n",
            "For K = 7 Accuracy = 89.81999154900856\n",
            "For K = 9 Accuracy = 89.95285522346936\n",
            "For K = 11 Accuracy = 89.99999277524766\n"
          ],
          "name": "stdout"
        }
      ]
    },
    {
      "metadata": {
        "id": "Ac9KnyKtBdhV",
        "colab_type": "code",
        "colab": {
          "base_uri": "https://localhost:8080/",
          "height": 296
        },
        "outputId": "33ab8cf7-b54c-470b-cd32-5bcc5f094a7c"
      },
      "cell_type": "code",
      "source": [
        "sns.pointplot(x = list(range(1,12,2)),y= list(cv.values()))\n",
        "plt.xlabel(\" K \")\n",
        "plt.ylabel(\" Accuracy \")"
      ],
      "execution_count": 88,
      "outputs": [
        {
          "output_type": "execute_result",
          "data": {
            "text/plain": [
              "Text(0,0.5,' Accuracy ')"
            ]
          },
          "metadata": {
            "tags": []
          },
          "execution_count": 88
        },
        {
          "output_type": "display_data",
          "data": {
            "image/png": "[encoded data removed]",
            "text/plain": [
              "<matplotlib.figure.Figure at 0x7f23047e67f0>"
            ]
          },
          "metadata": {
            "tags": []
          }
        }
      ]
    },
    {
      "metadata": {
        "id": "F75zT6NRe9f9",
        "colab_type": "code",
        "colab": {}
      },
      "cell_type": "code",
      "source": [
        "knn = KNeighborsClassifier(n_neighbors = 11,algorithm='kd_tree',n_jobs = -1)"
      ],
      "execution_count": 0,
      "outputs": []
    },
    {
      "metadata": {
        "id": "2_frttog1YKW",
        "colab_type": "code",
        "colab": {
          "base_uri": "https://localhost:8080/",
          "height": 68
        },
        "outputId": "995d8466-d594-49d8-9831-000fbe0ee585"
      },
      "cell_type": "code",
      "source": [
        "knn.fit(X_train,y_train)"
      ],
      "execution_count": 84,
      "outputs": [
        {
          "output_type": "execute_result",
          "data": {
            "text/plain": [
              "KNeighborsClassifier(algorithm='kd_tree', leaf_size=30, metric='minkowski',\n",
              "           metric_params=None, n_jobs=-1, n_neighbors=11, p=2,\n",
              "           weights='uniform')"
            ]
          },
          "metadata": {
            "tags": []
          },
          "execution_count": 84
        }
      ]
    },
    {
      "metadata": {
        "id": "orin6icP1aik",
        "colab_type": "code",
        "colab": {}
      },
      "cell_type": "code",
      "source": [
        "pred = knn.predict(X_test)"
      ],
      "execution_count": 0,
      "outputs": []
    },
    {
      "metadata": {
        "id": "-lb89-ut1caC",
        "colab_type": "code",
        "colab": {
          "base_uri": "https://localhost:8080/",
          "height": 34
        },
        "outputId": "dc03cbd8-10a9-41f8-86e5-74ff0e702ee7"
      },
      "cell_type": "code",
      "source": [
        "print(\"TEST ACCURACY : \"+str(accuracy_score(y_test,pred) * 100))"
      ],
      "execution_count": 86,
      "outputs": [
        {
          "output_type": "stream",
          "text": [
            "TEST ACCURACY : 88.52333333333333\n"
          ],
          "name": "stdout"
        }
      ]
    },
    {
      "metadata": {
        "id": "JZRtQH3J4Gz4",
        "colab_type": "code",
        "colab": {
          "base_uri": "https://localhost:8080/",
          "height": 136
        },
        "outputId": "7762136d-4571-4468-ab30-21feca61605d"
      },
      "cell_type": "code",
      "source": [
        "print(classification_report(y_test,pred))"
      ],
      "execution_count": 87,
      "outputs": [
        {
          "output_type": "stream",
          "text": [
            "             precision    recall  f1-score   support\n",
            "\n",
            "          0       0.73      0.26      0.38      4101\n",
            "          1       0.89      0.98      0.94     25899\n",
            "\n",
            "avg / total       0.87      0.89      0.86     30000\n",
            "\n"
          ],
          "name": "stdout"
        }
      ]
    },
    {
      "metadata": {
        "id": "vuBZYdnP4MyG",
        "colab_type": "text"
      },
      "cell_type": "markdown",
      "source": [
        "------------\n",
        "\n",
        "## FEATURIZATION 3 : BOW\n",
        "_____"
      ]
    }
  ]
}