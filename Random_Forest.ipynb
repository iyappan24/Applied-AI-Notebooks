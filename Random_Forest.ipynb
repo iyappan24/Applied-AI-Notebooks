{
  "nbformat": 4,
  "nbformat_minor": 0,
  "metadata": {
    "colab": {
      "name": "Random Forest.ipynb",
      "version": "0.3.2",
      "provenance": [],
      "collapsed_sections": [],
      "include_colab_link": true
    },
    "kernelspec": {
      "name": "python3",
      "display_name": "Python 3"
    }
  },
  "cells": [
    {
      "cell_type": "markdown",
      "metadata": {
        "id": "view-in-github",
        "colab_type": "text"
      },
      "source": [
        "<a href=\"https://colab.research.google.com/github/iyappan24/Applied-AI-Notebooks/blob/master/Random_Forest.ipynb\" target=\"_parent\"><img src=\"https://colab.research.google.com/assets/colab-badge.svg\" alt=\"Open In Colab\"/></a>"
      ]
    },
    {
      "metadata": {
        "id": "Pz1uC025cOKG",
        "colab_type": "text"
      },
      "cell_type": "markdown",
      "source": [
        "## AMAZON FINE FOOD REVIEWS  : RANDOM FOREST "
      ]
    },
    {
      "metadata": {
        "id": "8Yg7ySL3Mh9B",
        "colab_type": "text"
      },
      "cell_type": "markdown",
      "source": [
        "\n",
        "Data Source: https://www.kaggle.com/snap/amazon-fine-food-reviews\n",
        "\n",
        "The Amazon Fine Food Reviews dataset consists of reviews of fine foods from Amazon.<br>\n",
        "\n",
        "Number of reviews: 568,454<br>\n",
        "Number of users: 256,059<br>\n",
        "Number of products: 74,258<br>\n",
        "Timespan: Oct 1999 - Oct 2012<br>\n",
        "Number of Attributes/Columns in data: 10 \n",
        "\n",
        "Attribute Information:\n",
        "\n",
        "1. Id\n",
        "2. ProductId - unique identifier for the product\n",
        "3. UserId - unqiue identifier for the user\n",
        "4. ProfileName\n",
        "5. HelpfulnessNumerator - number of users who found the review helpful\n",
        "6. HelpfulnessDenominator - number of users who indicated whether they found the review helpful or not\n",
        "7. Score - rating between 1 and 5\n",
        "8. Time - timestamp for the review\n",
        "9. Summary - brief summary of the review\n",
        "10. Text - text of the review\n",
        "\n",
        "\n",
        "**DATA SET SPLITS ** \n",
        "\n",
        "1. AVG_WORD2VEC : 70K TRAIN,  30K TEST\n",
        "2. TFIDF_WORD2VEC : 70K TRAIN ,  30K TEST\n",
        "3. BOW : 60K TRAIN,  20K CV,  20K TEST\n",
        "4. TFIDF : 60K TRAIN, 20K CV,  20K TEST"
      ]
    },
    {
      "metadata": {
        "id": "xnYVWBSEFgF8",
        "colab_type": "code",
        "colab": {}
      },
      "cell_type": "code",
      "source": [
        "import pandas as pd\n",
        "import numpy as np\n",
        "from sklearn.metrics import confusion_matrix,classification_report,accuracy_score,f1_score,roc_auc_score,precision_score, recall_score\n",
        "from sklearn.model_selection import cross_val_score\n",
        "from sklearn.ensemble import RandomForestClassifier\n",
        "import pickle\n",
        "import seaborn as sns\n",
        "import matplotlib.pyplot as plt\n",
        "import warnings\n",
        "warnings.filterwarnings('ignore')\n",
        "from sklearn.model_selection import GridSearchCV,RandomizedSearchCV\n",
        "from scipy.sparse import vstack\n",
        "import operator\n",
        "import wordcloud\n",
        "import sklearn.metrics as metrics\n",
        "import collections"
      ],
      "execution_count": 0,
      "outputs": []
    },
    {
      "metadata": {
        "id": "ds9maNyxXTnO",
        "colab_type": "text"
      },
      "cell_type": "markdown",
      "source": [
        "** MOUNTING GOOGLE DRIVE TO GET THE DATA **"
      ]
    },
    {
      "metadata": {
        "id": "OICe8LYmXIXC",
        "colab_type": "code",
        "outputId": "fd458fb8-15cc-4d87-e482-6322a0c2afc2",
        "colab": {
          "base_uri": "https://localhost:8080/",
          "height": 34
        }
      },
      "cell_type": "code",
      "source": [
        "from google.colab import drive\n",
        "drive.mount('/content/gdrive',force_remount=True)"
      ],
      "execution_count": 0,
      "outputs": [
        {
          "output_type": "stream",
          "text": [
            "Mounted at /content/gdrive\n"
          ],
          "name": "stdout"
        }
      ]
    },
    {
      "metadata": {
        "id": "wQAgxAauXYPH",
        "colab_type": "text"
      },
      "cell_type": "markdown",
      "source": [
        "## FEATURIZATION 1 : WORD2VEC\n",
        "\n",
        "** Importing the data **"
      ]
    },
    {
      "metadata": {
        "id": "0R9VmQFadnA4",
        "colab_type": "code",
        "colab": {}
      },
      "cell_type": "code",
      "source": [
        "w2v_train = pickle.load(open('/content/gdrive/My Drive/AppliedAI/Amazon Fine Food Reviews/avg_word2vec_train.sav','rb'))\n",
        "w2v_test = pickle.load(open('/content/gdrive/My Drive/AppliedAI/Amazon Fine Food Reviews/avg_word2vec_test.sav','rb'))"
      ],
      "execution_count": 0,
      "outputs": []
    },
    {
      "metadata": {
        "id": "1JoUNgQBeHYq",
        "colab_type": "code",
        "outputId": "72066b55-ccd0-4e3f-fa84-9e6e95dcdd48",
        "colab": {
          "base_uri": "https://localhost:8080/",
          "height": 270
        }
      },
      "cell_type": "code",
      "source": [
        "w2v_train.head()"
      ],
      "execution_count": 0,
      "outputs": [
        {
          "output_type": "execute_result",
          "data": {
            "text/html": [
              "<div>\n",
              "<style scoped>\n",
              "    .dataframe tbody tr th:only-of-type {\n",
              "        vertical-align: middle;\n",
              "    }\n",
              "\n",
              "    .dataframe tbody tr th {\n",
              "        vertical-align: top;\n",
              "    }\n",
              "\n",
              "    .dataframe thead th {\n",
              "        text-align: right;\n",
              "    }\n",
              "</style>\n",
              "<table border=\"1\" class=\"dataframe\">\n",
              "  <thead>\n",
              "    <tr style=\"text-align: right;\">\n",
              "      <th></th>\n",
              "      <th>Vector 1</th>\n",
              "      <th>Vector 2</th>\n",
              "      <th>Vector 3</th>\n",
              "      <th>Vector 4</th>\n",
              "      <th>Vector 5</th>\n",
              "      <th>Vector 6</th>\n",
              "      <th>Vector 7</th>\n",
              "      <th>Vector 8</th>\n",
              "      <th>Vector 9</th>\n",
              "      <th>Vector 10</th>\n",
              "      <th>...</th>\n",
              "      <th>Vector 42</th>\n",
              "      <th>Vector 43</th>\n",
              "      <th>Vector 44</th>\n",
              "      <th>Vector 45</th>\n",
              "      <th>Vector 46</th>\n",
              "      <th>Vector 47</th>\n",
              "      <th>Vector 48</th>\n",
              "      <th>Vector 49</th>\n",
              "      <th>Vector 50</th>\n",
              "      <th>Score</th>\n",
              "    </tr>\n",
              "  </thead>\n",
              "  <tbody>\n",
              "    <tr>\n",
              "      <th>0</th>\n",
              "      <td>0.121816</td>\n",
              "      <td>0.112731</td>\n",
              "      <td>0.522326</td>\n",
              "      <td>0.513944</td>\n",
              "      <td>0.014699</td>\n",
              "      <td>-0.510498</td>\n",
              "      <td>0.332466</td>\n",
              "      <td>-0.006182</td>\n",
              "      <td>0.510940</td>\n",
              "      <td>0.342244</td>\n",
              "      <td>...</td>\n",
              "      <td>-0.260098</td>\n",
              "      <td>-0.572254</td>\n",
              "      <td>-0.001088</td>\n",
              "      <td>0.079892</td>\n",
              "      <td>-0.092751</td>\n",
              "      <td>0.165952</td>\n",
              "      <td>0.354566</td>\n",
              "      <td>0.263851</td>\n",
              "      <td>-0.243470</td>\n",
              "      <td>1</td>\n",
              "    </tr>\n",
              "    <tr>\n",
              "      <th>1</th>\n",
              "      <td>0.317572</td>\n",
              "      <td>0.159626</td>\n",
              "      <td>0.343828</td>\n",
              "      <td>0.280532</td>\n",
              "      <td>0.477560</td>\n",
              "      <td>-0.579655</td>\n",
              "      <td>-0.058227</td>\n",
              "      <td>0.002837</td>\n",
              "      <td>0.070905</td>\n",
              "      <td>-0.068868</td>\n",
              "      <td>...</td>\n",
              "      <td>-0.401967</td>\n",
              "      <td>-0.649971</td>\n",
              "      <td>-0.189747</td>\n",
              "      <td>0.091126</td>\n",
              "      <td>-0.250324</td>\n",
              "      <td>-0.020535</td>\n",
              "      <td>0.567875</td>\n",
              "      <td>0.291098</td>\n",
              "      <td>-0.287811</td>\n",
              "      <td>1</td>\n",
              "    </tr>\n",
              "    <tr>\n",
              "      <th>2</th>\n",
              "      <td>0.113726</td>\n",
              "      <td>-0.240282</td>\n",
              "      <td>0.779548</td>\n",
              "      <td>0.906329</td>\n",
              "      <td>0.285768</td>\n",
              "      <td>-0.143818</td>\n",
              "      <td>0.310017</td>\n",
              "      <td>-0.139928</td>\n",
              "      <td>0.367076</td>\n",
              "      <td>0.384066</td>\n",
              "      <td>...</td>\n",
              "      <td>-0.153836</td>\n",
              "      <td>-0.216731</td>\n",
              "      <td>-0.155472</td>\n",
              "      <td>0.010060</td>\n",
              "      <td>-0.179123</td>\n",
              "      <td>0.395463</td>\n",
              "      <td>-0.208602</td>\n",
              "      <td>-0.294666</td>\n",
              "      <td>0.091154</td>\n",
              "      <td>1</td>\n",
              "    </tr>\n",
              "    <tr>\n",
              "      <th>3</th>\n",
              "      <td>0.601365</td>\n",
              "      <td>0.113279</td>\n",
              "      <td>0.712399</td>\n",
              "      <td>0.237966</td>\n",
              "      <td>0.321083</td>\n",
              "      <td>-0.329348</td>\n",
              "      <td>0.301765</td>\n",
              "      <td>-0.035661</td>\n",
              "      <td>0.460765</td>\n",
              "      <td>-0.075949</td>\n",
              "      <td>...</td>\n",
              "      <td>-0.091186</td>\n",
              "      <td>-0.206183</td>\n",
              "      <td>0.062646</td>\n",
              "      <td>0.104041</td>\n",
              "      <td>0.018641</td>\n",
              "      <td>0.299300</td>\n",
              "      <td>-0.000715</td>\n",
              "      <td>-0.171055</td>\n",
              "      <td>-0.046017</td>\n",
              "      <td>1</td>\n",
              "    </tr>\n",
              "    <tr>\n",
              "      <th>4</th>\n",
              "      <td>0.110524</td>\n",
              "      <td>-0.161300</td>\n",
              "      <td>0.858878</td>\n",
              "      <td>1.161848</td>\n",
              "      <td>0.425219</td>\n",
              "      <td>-0.414926</td>\n",
              "      <td>0.006795</td>\n",
              "      <td>-0.259896</td>\n",
              "      <td>0.324213</td>\n",
              "      <td>0.731779</td>\n",
              "      <td>...</td>\n",
              "      <td>-0.187014</td>\n",
              "      <td>-0.071594</td>\n",
              "      <td>-0.525720</td>\n",
              "      <td>0.221244</td>\n",
              "      <td>-0.213230</td>\n",
              "      <td>0.498298</td>\n",
              "      <td>-0.212721</td>\n",
              "      <td>-0.079328</td>\n",
              "      <td>0.490372</td>\n",
              "      <td>1</td>\n",
              "    </tr>\n",
              "  </tbody>\n",
              "</table>\n",
              "<p>5 rows × 51 columns</p>\n",
              "</div>"
            ],
            "text/plain": [
              "   Vector 1  Vector 2  Vector 3  Vector 4  Vector 5  Vector 6  Vector 7  \\\n",
              "0  0.121816  0.112731  0.522326  0.513944  0.014699 -0.510498  0.332466   \n",
              "1  0.317572  0.159626  0.343828  0.280532  0.477560 -0.579655 -0.058227   \n",
              "2  0.113726 -0.240282  0.779548  0.906329  0.285768 -0.143818  0.310017   \n",
              "3  0.601365  0.113279  0.712399  0.237966  0.321083 -0.329348  0.301765   \n",
              "4  0.110524 -0.161300  0.858878  1.161848  0.425219 -0.414926  0.006795   \n",
              "\n",
              "   Vector 8  Vector 9  Vector 10  ...    Vector 42  Vector 43  Vector 44  \\\n",
              "0 -0.006182  0.510940   0.342244  ...    -0.260098  -0.572254  -0.001088   \n",
              "1  0.002837  0.070905  -0.068868  ...    -0.401967  -0.649971  -0.189747   \n",
              "2 -0.139928  0.367076   0.384066  ...    -0.153836  -0.216731  -0.155472   \n",
              "3 -0.035661  0.460765  -0.075949  ...    -0.091186  -0.206183   0.062646   \n",
              "4 -0.259896  0.324213   0.731779  ...    -0.187014  -0.071594  -0.525720   \n",
              "\n",
              "   Vector 45  Vector 46  Vector 47  Vector 48  Vector 49  Vector 50  Score  \n",
              "0   0.079892  -0.092751   0.165952   0.354566   0.263851  -0.243470      1  \n",
              "1   0.091126  -0.250324  -0.020535   0.567875   0.291098  -0.287811      1  \n",
              "2   0.010060  -0.179123   0.395463  -0.208602  -0.294666   0.091154      1  \n",
              "3   0.104041   0.018641   0.299300  -0.000715  -0.171055  -0.046017      1  \n",
              "4   0.221244  -0.213230   0.498298  -0.212721  -0.079328   0.490372      1  \n",
              "\n",
              "[5 rows x 51 columns]"
            ]
          },
          "metadata": {
            "tags": []
          },
          "execution_count": 8
        }
      ]
    },
    {
      "metadata": {
        "id": "Xv7voVaUeTpa",
        "colab_type": "text"
      },
      "cell_type": "markdown",
      "source": [
        "** Separating the X and Y from the datasets (train and test) ** \n",
        "1. X : Vectors 1 to 50 \n",
        "2. Y : Target  Variable "
      ]
    },
    {
      "metadata": {
        "id": "9z5_9h6ueOUO",
        "colab_type": "code",
        "colab": {}
      },
      "cell_type": "code",
      "source": [
        "X_train = w2v_train.iloc[:,0:50].copy(deep=True)\n",
        "X_test = w2v_test.iloc[:,0:50].copy(deep=True)\n",
        "y_train = w2v_train['Score']\n",
        "y_test = w2v_test['Score']"
      ],
      "execution_count": 0,
      "outputs": []
    },
    {
      "metadata": {
        "id": "l4F9Rph-ZMyT",
        "colab_type": "text"
      },
      "cell_type": "markdown",
      "source": [
        "** PARAMETERS TO TUNE : ** \n",
        "1. N_estimators  : Number of base learners\n",
        "2. Max_Depth : Maximum allowed depth of each decision tree\n",
        "3. min_sample_leafs : Minium samples that is required to be a leaf node \n",
        "\n",
        "Things that are kept constant :\n",
        "\n",
        "1. Max - Features : None  i.e Use all the features if necessary \n",
        "2. n_jobs = --1 i.e Use all the cpu cores for building the estimators \n",
        "3. oob_score = True i.e. To see the regularisation capacity of the model\n",
        "4. weigths = balanced  i.e Inversely proportional to the frequencies of the labels in the dataset for class imbalance problem"
      ]
    },
    {
      "metadata": {
        "id": "xR71aWjvXcv8",
        "colab_type": "code",
        "colab": {}
      },
      "cell_type": "code",
      "source": [
        "estimators = [5, 10, 50, 100, 200, 500, 1000]\n",
        "max_depth = [2, 3, 4, 5, 6, 7, 8, 9, 10]\n",
        "param_grid = {\"n_estimators\":estimators,\"max_depth\":max_depth}"
      ],
      "execution_count": 0,
      "outputs": []
    },
    {
      "metadata": {
        "id": "B-Nz0LLUbLmV",
        "colab_type": "text"
      },
      "cell_type": "markdown",
      "source": [
        "** GRID SEARCH ** \n",
        "\n",
        "1. SCORING : F1 SCORE OF NEGATIVE REVIEWS"
      ]
    },
    {
      "metadata": {
        "id": "vmtmbnKHbIvn",
        "colab_type": "code",
        "outputId": "682848a7-f675-421c-b71d-e267d8ccd017",
        "colab": {
          "base_uri": "https://localhost:8080/",
          "height": 255
        }
      },
      "cell_type": "code",
      "source": [
        "model = RandomizedSearchCV(RandomForestClassifier(n_jobs = -1,oob_score = True,max_features = None),param_grid,n_jobs =-1,scoring='roc_auc',verbose=True,cv= 2,n_iter=10)\n",
        "model.fit(X_train,y_train)"
      ],
      "execution_count": 0,
      "outputs": [
        {
          "output_type": "stream",
          "text": [
            "Fitting 2 folds for each of 10 candidates, totalling 20 fits\n"
          ],
          "name": "stdout"
        },
        {
          "output_type": "stream",
          "text": [
            "[Parallel(n_jobs=-1)]: Using backend LokyBackend with 2 concurrent workers.\n",
            "[Parallel(n_jobs=-1)]: Done  20 out of  20 | elapsed: 49.1min finished\n"
          ],
          "name": "stderr"
        },
        {
          "output_type": "execute_result",
          "data": {
            "text/plain": [
              "RandomizedSearchCV(cv=2, error_score='raise-deprecating',\n",
              "          estimator=RandomForestClassifier(bootstrap=True, class_weight=None, criterion='gini',\n",
              "            max_depth=None, max_features=None, max_leaf_nodes=None,\n",
              "            min_impurity_decrease=0.0, min_impurity_split=None,\n",
              "            min_samples_leaf=1, min_samples_split=2,\n",
              "            min_weight_fraction_leaf=0.0, n_estimators='warn', n_jobs=-1,\n",
              "            oob_score=True, random_state=None, verbose=0, warm_start=False),\n",
              "          fit_params=None, iid='warn', n_iter=10, n_jobs=-1,\n",
              "          param_distributions={'n_estimators': [5, 10, 50, 100, 200, 500, 1000], 'max_depth': [2, 3, 4, 5, 6, 7, 8, 9, 10]},\n",
              "          pre_dispatch='2*n_jobs', random_state=None, refit=True,\n",
              "          return_train_score='warn', scoring='roc_auc', verbose=True)"
            ]
          },
          "metadata": {
            "tags": []
          },
          "execution_count": 28
        }
      ]
    },
    {
      "metadata": {
        "id": "qHavj3j1W6XT",
        "colab_type": "code",
        "outputId": "83c2e590-eb1e-4710-e66d-c139b82ada2f",
        "colab": {
          "base_uri": "https://localhost:8080/",
          "height": 34
        }
      },
      "cell_type": "code",
      "source": [
        "model.best_params_"
      ],
      "execution_count": 0,
      "outputs": [
        {
          "output_type": "execute_result",
          "data": {
            "text/plain": [
              "{'max_depth': 9, 'n_estimators': 200}"
            ]
          },
          "metadata": {
            "tags": []
          },
          "execution_count": 29
        }
      ]
    },
    {
      "metadata": {
        "id": "zPYWruvuXVkl",
        "colab_type": "code",
        "outputId": "8f4415b0-cee5-4a64-dff7-1dbd73754ca6",
        "colab": {
          "base_uri": "https://localhost:8080/",
          "height": 34
        }
      },
      "cell_type": "code",
      "source": [
        "model.best_score_"
      ],
      "execution_count": 0,
      "outputs": [
        {
          "output_type": "execute_result",
          "data": {
            "text/plain": [
              "0.8703154278650094"
            ]
          },
          "metadata": {
            "tags": []
          },
          "execution_count": 30
        }
      ]
    },
    {
      "metadata": {
        "id": "W_ofsBdyW_FI",
        "colab_type": "code",
        "colab": {}
      },
      "cell_type": "code",
      "source": [
        "results = pd.DataFrame(model.cv_results_['params'])"
      ],
      "execution_count": 0,
      "outputs": []
    },
    {
      "metadata": {
        "id": "FguIctw3XDeB",
        "colab_type": "code",
        "colab": {}
      },
      "cell_type": "code",
      "source": [
        "results['Test_Score'] = model.cv_results_['mean_test_score']\n",
        "results['Train_Score'] = model.cv_results_['mean_train_score']"
      ],
      "execution_count": 0,
      "outputs": []
    },
    {
      "metadata": {
        "id": "8MIb5DJRRXtD",
        "colab_type": "text"
      },
      "cell_type": "markdown",
      "source": [
        "____ \n",
        "** Visualising the results : HEATMAP ** "
      ]
    },
    {
      "metadata": {
        "id": "z8iHBGFFTIot",
        "colab_type": "text"
      },
      "cell_type": "markdown",
      "source": [
        "** 1. Cross validated : Test Scores ** \n",
        "\n"
      ]
    },
    {
      "metadata": {
        "id": "Kjh8o_CiZuAB",
        "colab_type": "code",
        "outputId": "092a10fd-ffb2-465f-a5c9-1afd6cd3b1cc",
        "colab": {
          "base_uri": "https://localhost:8080/",
          "height": 380
        }
      },
      "cell_type": "code",
      "source": [
        "sns.heatmap(results.pivot_table(index = \"n_estimators\",columns = \"max_depth\",values = \"Test_Score\"),annot= True)"
      ],
      "execution_count": 0,
      "outputs": [
        {
          "output_type": "execute_result",
          "data": {
            "text/plain": [
              "<matplotlib.axes._subplots.AxesSubplot at 0x7f438f2d3828>"
            ]
          },
          "metadata": {
            "tags": []
          },
          "execution_count": 33
        },
        {
          "output_type": "display_data",
          "data": {
            "image/png": "[encoded data removed]",
            "text/plain": [
              "<matplotlib.figure.Figure at 0x7f438f394b38>"
            ]
          },
          "metadata": {
            "tags": []
          }
        }
      ]
    },
    {
      "metadata": {
        "id": "c7pA1ck0TXHy",
        "colab_type": "text"
      },
      "cell_type": "markdown",
      "source": [
        "** 2. Cross validated : Train Scores ** \n"
      ]
    },
    {
      "metadata": {
        "id": "AINWtRRTRLaM",
        "colab_type": "code",
        "outputId": "a6c5fa15-f365-4ed4-c908-7c62e5be3c24",
        "colab": {
          "base_uri": "https://localhost:8080/",
          "height": 378
        }
      },
      "cell_type": "code",
      "source": [
        "sns.heatmap(results.pivot_table(index = \"n_estimators\",columns = \"max_depth\",values = \"Train_Score\"),annot= True)"
      ],
      "execution_count": 0,
      "outputs": [
        {
          "output_type": "execute_result",
          "data": {
            "text/plain": [
              "<matplotlib.axes._subplots.AxesSubplot at 0x7f438f452c50>"
            ]
          },
          "metadata": {
            "tags": []
          },
          "execution_count": 34
        },
        {
          "output_type": "display_data",
          "data": {
            "image/png": "[encoded data removed]",
            "text/plain": [
              "<matplotlib.figure.Figure at 0x7f438f24a710>"
            ]
          },
          "metadata": {
            "tags": []
          }
        }
      ]
    },
    {
      "metadata": {
        "id": "lUV0Y4KlbnWC",
        "colab_type": "text"
      },
      "cell_type": "markdown",
      "source": [
        "** Observations :**\n",
        "\n",
        "Has to be written"
      ]
    },
    {
      "metadata": {
        "id": "tg_v5PmtZ-Ai",
        "colab_type": "code",
        "colab": {}
      },
      "cell_type": "code",
      "source": [
        "model = RandomForestClassifier(n_estimators = 200,max_depth = 9,n_jobs = -1,oob_score = True,max_features = None)\n",
        "model.fit(X_train,y_train)\n",
        "pred = model.predict(X_test)\n",
        "t_pred = model.predict(X_train)\n",
        "test_error = (1 - metrics.accuracy_score(pred,y_test)) * 100\n",
        "train_error = (1 - metrics.accuracy_score(t_pred,y_train)) * 100"
      ],
      "execution_count": 0,
      "outputs": []
    },
    {
      "metadata": {
        "id": "LWvNx_yut8O1",
        "colab_type": "code",
        "outputId": "51372c01-a31d-4022-d4b3-2c89973eb66c",
        "colab": {
          "base_uri": "https://localhost:8080/",
          "height": 34
        }
      },
      "cell_type": "code",
      "source": [
        "print(test_error)"
      ],
      "execution_count": 0,
      "outputs": [
        {
          "output_type": "stream",
          "text": [
            "11.26666666666667\n"
          ],
          "name": "stdout"
        }
      ]
    },
    {
      "metadata": {
        "id": "vL1JSwGH0Yaj",
        "colab_type": "code",
        "outputId": "9c3cf68b-1c3a-4d55-93f1-6b66eb6267ed",
        "colab": {
          "base_uri": "https://localhost:8080/",
          "height": 34
        }
      },
      "cell_type": "code",
      "source": [
        "print(train_error)"
      ],
      "execution_count": 0,
      "outputs": [
        {
          "output_type": "stream",
          "text": [
            "7.681428571428572\n"
          ],
          "name": "stdout"
        }
      ]
    },
    {
      "metadata": {
        "id": "O5RwcAi20c-g",
        "colab_type": "code",
        "outputId": "61eb7c1e-aed7-4592-cc6c-e395ffc622cb",
        "colab": {
          "base_uri": "https://localhost:8080/",
          "height": 170
        }
      },
      "cell_type": "code",
      "source": [
        "print(classification_report(y_pred=pred,y_true=y_test))"
      ],
      "execution_count": 0,
      "outputs": [
        {
          "output_type": "stream",
          "text": [
            "              precision    recall  f1-score   support\n",
            "\n",
            "           0       0.74      0.27      0.40      4101\n",
            "           1       0.90      0.98      0.94     25899\n",
            "\n",
            "   micro avg       0.89      0.89      0.89     30000\n",
            "   macro avg       0.82      0.63      0.67     30000\n",
            "weighted avg       0.87      0.89      0.86     30000\n",
            "\n"
          ],
          "name": "stdout"
        }
      ]
    },
    {
      "metadata": {
        "id": "WwyaqcRF0c50",
        "colab_type": "code",
        "outputId": "7abd645f-d738-4192-a0ac-a19d0f472ac3",
        "colab": {
          "base_uri": "https://localhost:8080/",
          "height": 364
        }
      },
      "cell_type": "code",
      "source": [
        "sns.heatmap(confusion_matrix(y_pred = pred,y_true = y_test),annot= True,fmt='d')"
      ],
      "execution_count": 0,
      "outputs": [
        {
          "output_type": "execute_result",
          "data": {
            "text/plain": [
              "<matplotlib.axes._subplots.AxesSubplot at 0x7f438c866eb8>"
            ]
          },
          "metadata": {
            "tags": []
          },
          "execution_count": 40
        },
        {
          "output_type": "display_data",
          "data": {
            "image/png": "[encoded data removed]",
            "text/plain": [
              "<matplotlib.figure.Figure at 0x7f438f14bd30>"
            ]
          },
          "metadata": {
            "tags": []
          }
        }
      ]
    },
    {
      "metadata": {
        "id": "TTHa9bY_0c2z",
        "colab_type": "code",
        "outputId": "d3c49421-0839-4fa0-cbf9-8bb59fe5bb63",
        "colab": {
          "base_uri": "https://localhost:8080/",
          "height": 364
        }
      },
      "cell_type": "code",
      "source": [
        "sns.heatmap(confusion_matrix(y_pred = t_pred,y_true = y_train),annot=True,fmt='d')"
      ],
      "execution_count": 0,
      "outputs": [
        {
          "output_type": "execute_result",
          "data": {
            "text/plain": [
              "<matplotlib.axes._subplots.AxesSubplot at 0x7f438f14bb70>"
            ]
          },
          "metadata": {
            "tags": []
          },
          "execution_count": 41
        },
        {
          "output_type": "display_data",
          "data": {
            "image/png": "[encoded data removed]",
            "text/plain": [
              "<matplotlib.figure.Figure at 0x7f438c87b4a8>"
            ]
          },
          "metadata": {
            "tags": []
          }
        }
      ]
    },
    {
      "metadata": {
        "id": "9dC5ymoH6z9s",
        "colab_type": "code",
        "outputId": "330ec5e4-de49-4609-cd20-9f0e3b2331e8",
        "colab": {
          "base_uri": "https://localhost:8080/",
          "height": 34
        }
      },
      "cell_type": "code",
      "source": [
        "print(\"OOB_SCORE : \" + str(model.oob_score_))"
      ],
      "execution_count": 0,
      "outputs": [
        {
          "output_type": "stream",
          "text": [
            "OOB_SCORE : 0.9022714285714286\n"
          ],
          "name": "stdout"
        }
      ]
    },
    {
      "metadata": {
        "id": "3o0338kGtyZL",
        "colab_type": "text"
      },
      "cell_type": "markdown",
      "source": [
        "<br>\n",
        "<br>\n",
        "<br>\n",
        "_______\n",
        "\n",
        "\n"
      ]
    },
    {
      "metadata": {
        "id": "IgBWLzOGHV0b",
        "colab_type": "text"
      },
      "cell_type": "markdown",
      "source": [
        "## FEATURISATION  2: BOW "
      ]
    },
    {
      "metadata": {
        "id": "1_F8696THRP4",
        "colab_type": "code",
        "colab": {}
      },
      "cell_type": "code",
      "source": [
        "bow_train = pickle.load(open('/content/gdrive/My Drive/AppliedAI/Amazon Fine Food Reviews/train_bow.sav','rb'))\n",
        "bow_cv = pickle.load(open('/content/gdrive/My Drive/AppliedAI/Amazon Fine Food Reviews/cv_bow.sav','rb'))\n",
        "bow_test = pickle.load(open('/content/gdrive/My Drive/AppliedAI/Amazon Fine Food Reviews/test_bow.sav','rb'))\n",
        "y_train = pickle.load(open('/content/gdrive/My Drive/AppliedAI/Amazon Fine Food Reviews/y_train.sav','rb'))\n",
        "y_test = pickle.load(open('/content/gdrive/My Drive/AppliedAI/Amazon Fine Food Reviews/y_test.sav','rb'))\n",
        "y_cv = pickle.load(open('/content/gdrive/My Drive/AppliedAI/Amazon Fine Food Reviews/y_cv.sav','rb'))\n",
        "bow = pickle.load(open('/content/gdrive/My Drive/AppliedAI/Amazon Fine Food Reviews/BOW.sav','rb'))"
      ],
      "execution_count": 0,
      "outputs": []
    },
    {
      "metadata": {
        "id": "NN-pOzA0Cdho",
        "colab_type": "text"
      },
      "cell_type": "markdown",
      "source": [
        "** CONCATENATING TRAIN AND CV  TO CREATE DATASET FOR CROSS VALIDATION** "
      ]
    },
    {
      "metadata": {
        "id": "9AAfb4JHCdFl",
        "colab_type": "code",
        "colab": {}
      },
      "cell_type": "code",
      "source": [
        "X_train = vstack([bow_train,bow_cv])\n",
        "Y_train = pd.concat([y_train,y_cv],axis = 0,ignore_index = True)"
      ],
      "execution_count": 0,
      "outputs": []
    },
    {
      "metadata": {
        "id": "VVi-6ePOZzM7",
        "colab_type": "text"
      },
      "cell_type": "markdown",
      "source": [
        "** DEFINING THE PARAMETERS ** "
      ]
    },
    {
      "metadata": {
        "id": "VmhmgqMdX55R",
        "colab_type": "code",
        "colab": {}
      },
      "cell_type": "code",
      "source": [
        "estimators = [5, 10, 50, 100, 200, 500, 1000]\n",
        "max_depth = [2, 3, 4, 5, 6, 7, 8, 9, 10]\n",
        "\n",
        "param_grid = {\"n_estimators\":estimators,\"max_depth\":max_depth}"
      ],
      "execution_count": 0,
      "outputs": []
    },
    {
      "metadata": {
        "colab_type": "text",
        "id": "FI03B-gOZ7VG"
      },
      "cell_type": "markdown",
      "source": [
        "** GRID SEARCH ** \n",
        "\n",
        "1. SCORING : F1 SCORE OF NEGATIVE REVIEWS"
      ]
    },
    {
      "metadata": {
        "colab_type": "code",
        "outputId": "c431c9c7-c955-4b45-a515-5d8a1383e057",
        "id": "mEtY6xE4Z7VI",
        "colab": {
          "base_uri": "https://localhost:8080/",
          "height": 255
        }
      },
      "cell_type": "code",
      "source": [
        "model = RandomizedSearchCV(RandomForestClassifier(n_jobs = -1,oob_score = True,max_features = None),param_grid,n_jobs =-1,scoring= 'roc_auc',verbose=True,cv=2)\n",
        "model.fit(X_train,Y_train)"
      ],
      "execution_count": 0,
      "outputs": [
        {
          "output_type": "stream",
          "text": [
            "Fitting 2 folds for each of 10 candidates, totalling 20 fits\n"
          ],
          "name": "stdout"
        },
        {
          "output_type": "stream",
          "text": [
            "[Parallel(n_jobs=-1)]: Using backend LokyBackend with 2 concurrent workers.\n",
            "[Parallel(n_jobs=-1)]: Done  20 out of  20 | elapsed: 54.0min finished\n"
          ],
          "name": "stderr"
        },
        {
          "output_type": "execute_result",
          "data": {
            "text/plain": [
              "RandomizedSearchCV(cv=2, error_score='raise-deprecating',\n",
              "          estimator=RandomForestClassifier(bootstrap=True, class_weight=None, criterion='gini',\n",
              "            max_depth=None, max_features=None, max_leaf_nodes=None,\n",
              "            min_impurity_decrease=0.0, min_impurity_split=None,\n",
              "            min_samples_leaf=1, min_samples_split=2,\n",
              "            min_weight_fraction_leaf=0.0, n_estimators='warn', n_jobs=-1,\n",
              "            oob_score=True, random_state=None, verbose=0, warm_start=False),\n",
              "          fit_params=None, iid='warn', n_iter=10, n_jobs=-1,\n",
              "          param_distributions={'n_estimators': [5, 10, 50, 100, 200, 500, 1000], 'max_depth': [2, 3, 4, 5, 6, 7, 8, 9, 10]},\n",
              "          pre_dispatch='2*n_jobs', random_state=None, refit=True,\n",
              "          return_train_score='warn', scoring='roc_auc', verbose=True)"
            ]
          },
          "metadata": {
            "tags": []
          },
          "execution_count": 47
        }
      ]
    },
    {
      "metadata": {
        "id": "lWQB6Fl7Z9Of",
        "colab_type": "code",
        "outputId": "29e3e332-9d2f-4af4-bdf7-75980f66d7c5",
        "colab": {
          "base_uri": "https://localhost:8080/",
          "height": 34
        }
      },
      "cell_type": "code",
      "source": [
        "model.best_params_"
      ],
      "execution_count": 0,
      "outputs": [
        {
          "output_type": "execute_result",
          "data": {
            "text/plain": [
              "{'max_depth': 10, 'n_estimators': 50}"
            ]
          },
          "metadata": {
            "tags": []
          },
          "execution_count": 48
        }
      ]
    },
    {
      "metadata": {
        "id": "rgNRRKM5jCh8",
        "colab_type": "code",
        "colab": {}
      },
      "cell_type": "code",
      "source": [
        "results = pd.DataFrame(model.cv_results_['params'])"
      ],
      "execution_count": 0,
      "outputs": []
    },
    {
      "metadata": {
        "id": "lAkc2oxojFjD",
        "colab_type": "code",
        "colab": {}
      },
      "cell_type": "code",
      "source": [
        "results['Test_Score'] = model.cv_results_['mean_test_score'] * 100\n",
        "results['Train_Score'] = model.cv_results_['mean_train_score'] * 100\n",
        "results['Difference'] = results['Train_Score'] - results['Test_Score'] "
      ],
      "execution_count": 0,
      "outputs": []
    },
    {
      "metadata": {
        "colab_type": "text",
        "id": "ukqBm8lrjrm_"
      },
      "cell_type": "markdown",
      "source": [
        "____ \n",
        "** Visualising the results : HEATMAP ** "
      ]
    },
    {
      "metadata": {
        "colab_type": "text",
        "id": "JPB0ekYljrnB"
      },
      "cell_type": "markdown",
      "source": [
        "** 1. Cross validated : Test Scores ** \n",
        "\n"
      ]
    },
    {
      "metadata": {
        "colab_type": "code",
        "outputId": "d3cc086e-f8bb-4795-e6ef-db114a550c41",
        "id": "G2bjwoCUjrnC",
        "colab": {
          "base_uri": "https://localhost:8080/",
          "height": 378
        }
      },
      "cell_type": "code",
      "source": [
        "sns.heatmap(results.pivot_table(index = \"n_estimators\",columns = \"max_depth\",values = \"Test_Score\"),annot= True)"
      ],
      "execution_count": 0,
      "outputs": [
        {
          "output_type": "execute_result",
          "data": {
            "text/plain": [
              "<matplotlib.axes._subplots.AxesSubplot at 0x7f4390a86438>"
            ]
          },
          "metadata": {
            "tags": []
          },
          "execution_count": 51
        },
        {
          "output_type": "display_data",
          "data": {
            "image/png": "[encoded data removed]",
            "text/plain": [
              "<matplotlib.figure.Figure at 0x7f438f1573c8>"
            ]
          },
          "metadata": {
            "tags": []
          }
        }
      ]
    },
    {
      "metadata": {
        "colab_type": "text",
        "id": "ANAOaA73jrnJ"
      },
      "cell_type": "markdown",
      "source": [
        "** 2. Cross validated : Train Scores ** \n"
      ]
    },
    {
      "metadata": {
        "colab_type": "code",
        "outputId": "e6b1eff7-bc14-4857-c217-1f630471de4b",
        "id": "oi603USojrnX",
        "colab": {
          "base_uri": "https://localhost:8080/",
          "height": 378
        }
      },
      "cell_type": "code",
      "source": [
        "sns.heatmap(results.pivot_table(index = \"n_estimators\",columns = \"max_depth\",values = \"Train_Score\"),annot= True)"
      ],
      "execution_count": 0,
      "outputs": [
        {
          "output_type": "execute_result",
          "data": {
            "text/plain": [
              "<matplotlib.axes._subplots.AxesSubplot at 0x7f4390ca4860>"
            ]
          },
          "metadata": {
            "tags": []
          },
          "execution_count": 52
        },
        {
          "output_type": "display_data",
          "data": {
            "image/png": "[encoded data removed]",
            "text/plain": [
              "<matplotlib.figure.Figure at 0x7f438c866358>"
            ]
          },
          "metadata": {
            "tags": []
          }
        }
      ]
    },
    {
      "metadata": {
        "id": "_GMbhJterR8-",
        "colab_type": "text"
      },
      "cell_type": "markdown",
      "source": [
        "** OBSERVATIONS  : ** \n",
        "\n",
        "Has to be written"
      ]
    },
    {
      "metadata": {
        "colab_type": "code",
        "id": "uFGE_ZzoMCA-",
        "colab": {}
      },
      "cell_type": "code",
      "source": [
        "model = RandomForestClassifier(n_estimators = 50,max_depth = 10,n_jobs = -1,oob_score = True,max_features = None)\n",
        "model.fit(X_train,Y_train)\n",
        "pred = model.predict(bow_test)\n",
        "t_pred = model.predict(X_train)\n",
        "test_error = (1 - metrics.accuracy_score(pred,y_test)) * 100\n",
        "train_error = (1 - metrics.accuracy_score(t_pred,Y_train)) * 100"
      ],
      "execution_count": 0,
      "outputs": []
    },
    {
      "metadata": {
        "colab_type": "code",
        "outputId": "b6ff93e7-231b-425a-ac16-60e66e4a0144",
        "id": "9g7lu2lbMCBD",
        "colab": {
          "base_uri": "https://localhost:8080/",
          "height": 34
        }
      },
      "cell_type": "code",
      "source": [
        "print(test_error)"
      ],
      "execution_count": 0,
      "outputs": [
        {
          "output_type": "stream",
          "text": [
            "11.770000000000003\n"
          ],
          "name": "stdout"
        }
      ]
    },
    {
      "metadata": {
        "colab_type": "code",
        "outputId": "8db3ba7e-da9f-4e3a-94c0-ada2c06cf2a3",
        "id": "3aqHKvbpMCBL",
        "colab": {
          "base_uri": "https://localhost:8080/",
          "height": 34
        }
      },
      "cell_type": "code",
      "source": [
        "print(train_error)"
      ],
      "execution_count": 0,
      "outputs": [
        {
          "output_type": "stream",
          "text": [
            "9.867499999999996\n"
          ],
          "name": "stdout"
        }
      ]
    },
    {
      "metadata": {
        "colab_type": "code",
        "outputId": "cc3fcd23-d921-448a-8b30-f97d190f729a",
        "id": "Ul-NkCyKMCBW",
        "colab": {
          "base_uri": "https://localhost:8080/",
          "height": 170
        }
      },
      "cell_type": "code",
      "source": [
        "print(classification_report(y_pred = pred,y_true = y_test))"
      ],
      "execution_count": 0,
      "outputs": [
        {
          "output_type": "stream",
          "text": [
            "              precision    recall  f1-score   support\n",
            "\n",
            "           0       0.72      0.19      0.31      2674\n",
            "           1       0.89      0.99      0.94     17326\n",
            "\n",
            "   micro avg       0.88      0.88      0.88     20000\n",
            "   macro avg       0.81      0.59      0.62     20000\n",
            "weighted avg       0.87      0.88      0.85     20000\n",
            "\n"
          ],
          "name": "stdout"
        }
      ]
    },
    {
      "metadata": {
        "colab_type": "code",
        "outputId": "c5559eae-b67e-427d-f524-7ea8b6502574",
        "id": "KmKSGu1iMCBa",
        "colab": {
          "base_uri": "https://localhost:8080/",
          "height": 364
        }
      },
      "cell_type": "code",
      "source": [
        "sns.heatmap(confusion_matrix(y_pred = pred,y_true = y_test),annot= True,fmt='d')"
      ],
      "execution_count": 0,
      "outputs": [
        {
          "output_type": "execute_result",
          "data": {
            "text/plain": [
              "<matplotlib.axes._subplots.AxesSubplot at 0x7f4390cf3dd8>"
            ]
          },
          "metadata": {
            "tags": []
          },
          "execution_count": 57
        },
        {
          "output_type": "display_data",
          "data": {
            "image/png": "[encoded data removed]",
            "text/plain": [
              "<matplotlib.figure.Figure at 0x7f4392f9ac18>"
            ]
          },
          "metadata": {
            "tags": []
          }
        }
      ]
    },
    {
      "metadata": {
        "colab_type": "code",
        "outputId": "4b39a0cf-7bc6-4d4c-997a-6f98834b7c0a",
        "id": "J_uZyKGnMCBf",
        "colab": {
          "base_uri": "https://localhost:8080/",
          "height": 364
        }
      },
      "cell_type": "code",
      "source": [
        "sns.heatmap(confusion_matrix(y_pred=t_pred,y_true =Y_train),annot=True,fmt='d')"
      ],
      "execution_count": 0,
      "outputs": [
        {
          "output_type": "execute_result",
          "data": {
            "text/plain": [
              "<matplotlib.axes._subplots.AxesSubplot at 0x7f4392f9a828>"
            ]
          },
          "metadata": {
            "tags": []
          },
          "execution_count": 58
        },
        {
          "output_type": "display_data",
          "data": {
            "image/png": "[encoded data removed]",
            "text/plain": [
              "<matplotlib.figure.Figure at 0x7f438f219978>"
            ]
          },
          "metadata": {
            "tags": []
          }
        }
      ]
    },
    {
      "metadata": {
        "id": "v9wQOi9aomld",
        "colab_type": "text"
      },
      "cell_type": "markdown",
      "source": [
        "----\n",
        "<br>\n",
        "** Feature importance ** "
      ]
    },
    {
      "metadata": {
        "id": "alaY_XUdm8EV",
        "colab_type": "code",
        "colab": {}
      },
      "cell_type": "code",
      "source": [
        "features = bow.get_feature_names()"
      ],
      "execution_count": 0,
      "outputs": []
    },
    {
      "metadata": {
        "id": "jR6D19odnN3o",
        "colab_type": "code",
        "colab": {}
      },
      "cell_type": "code",
      "source": [
        "f_imp = dict(zip(features,model.feature_importances_))"
      ],
      "execution_count": 0,
      "outputs": []
    },
    {
      "metadata": {
        "id": "tj7jB3K0nXnJ",
        "colab_type": "code",
        "colab": {}
      },
      "cell_type": "code",
      "source": [
        "top_10 = {}\n",
        "for i in sorted(f_imp.items(), key=operator.itemgetter(1),reverse= True)[:10]:\n",
        "  top_10[i[0]] = i[1]"
      ],
      "execution_count": 0,
      "outputs": []
    },
    {
      "metadata": {
        "id": "Aprd1FJUpIVM",
        "colab_type": "code",
        "outputId": "76ee647c-e35c-49c4-b76b-22d536d1ec89",
        "colab": {
          "base_uri": "https://localhost:8080/",
          "height": 612
        }
      },
      "cell_type": "code",
      "source": [
        "plt.figure( figsize=(20,10))\n",
        "plt.imshow(wordcloud.WordCloud(background_color='white',width = 1000,height= 800).generate_from_frequencies(top_10))"
      ],
      "execution_count": 0,
      "outputs": [
        {
          "output_type": "execute_result",
          "data": {
            "text/plain": [
              "<matplotlib.image.AxesImage at 0x7f438c733e10>"
            ]
          },
          "metadata": {
            "tags": []
          },
          "execution_count": 62
        },
        {
          "output_type": "display_data",
          "data": {
            "image/png": "[encoded data removed]",
            "text/plain": [
              "<matplotlib.figure.Figure at 0x7f438c766320>"
            ]
          },
          "metadata": {
            "tags": []
          }
        }
      ]
    },
    {
      "metadata": {
        "id": "ZZLn4KjUM90I",
        "colab_type": "text"
      },
      "cell_type": "markdown",
      "source": [
        "<Br>\n",
        "  <br>\n",
        "  <Br>"
      ]
    },
    {
      "metadata": {
        "id": "GjxYR6zXrlXZ",
        "colab_type": "text"
      },
      "cell_type": "markdown",
      "source": [
        "<Br>\n",
        "  <br>\n",
        "  \n",
        "  ## FEATURIZATION : TFIDF \n",
        "\n",
        "** Importing the data **"
      ]
    },
    {
      "metadata": {
        "id": "VcWMmgH7qKPm",
        "colab_type": "code",
        "colab": {}
      },
      "cell_type": "code",
      "source": [
        "tf_train = pickle.load(open('/content/gdrive/My Drive/AppliedAI/Amazon Fine Food Reviews/train_tfidf.sav','rb'))\n",
        "tf_cv = pickle.load(open('/content/gdrive/My Drive/AppliedAI/Amazon Fine Food Reviews/cv_tfidf.sav','rb'))\n",
        "tf_test = pickle.load(open('/content/gdrive/My Drive/AppliedAI/Amazon Fine Food Reviews/test_tfidf.sav','rb'))\n",
        "y_train = pickle.load(open('/content/gdrive/My Drive/AppliedAI/Amazon Fine Food Reviews/y_train.sav','rb'))\n",
        "y_test = pickle.load(open('/content/gdrive/My Drive/AppliedAI/Amazon Fine Food Reviews/y_test.sav','rb'))\n",
        "y_cv = pickle.load(open('/content/gdrive/My Drive/AppliedAI/Amazon Fine Food Reviews/y_cv.sav','rb'))\n",
        "tfidf = pickle.load(open('/content/gdrive/My Drive/AppliedAI/Amazon Fine Food Reviews/tfidf.sav','rb'))"
      ],
      "execution_count": 0,
      "outputs": []
    },
    {
      "metadata": {
        "id": "ajtOIx5fMMOg",
        "colab_type": "text"
      },
      "cell_type": "markdown",
      "source": [
        "** CONCATENATING TRAIN AND CV  TO CREATE DATASET FOR CROSS VALIDATION** "
      ]
    },
    {
      "metadata": {
        "id": "V4mttv0nrf0N",
        "colab_type": "code",
        "colab": {}
      },
      "cell_type": "code",
      "source": [
        "X_train = vstack([tf_train,tf_cv])\n",
        "Y_train = pd.concat([y_train,y_cv],axis = 0,ignore_index = True)"
      ],
      "execution_count": 0,
      "outputs": []
    },
    {
      "metadata": {
        "id": "eGWOEDwauChT",
        "colab_type": "code",
        "outputId": "fbbca948-a4e3-4668-9ead-d6a28a7405f4",
        "colab": {
          "base_uri": "https://localhost:8080/",
          "height": 51
        }
      },
      "cell_type": "code",
      "source": [
        "X_train"
      ],
      "execution_count": 0,
      "outputs": [
        {
          "output_type": "execute_result",
          "data": {
            "text/plain": [
              "<80000x29133 sparse matrix of type '<class 'numpy.float64'>'\n",
              "\twith 2424650 stored elements in Compressed Sparse Row format>"
            ]
          },
          "metadata": {
            "tags": []
          },
          "execution_count": 13
        }
      ]
    },
    {
      "metadata": {
        "colab_type": "text",
        "id": "n2D_GYEYPRGY"
      },
      "cell_type": "markdown",
      "source": [
        "** DEFINING THE PARAMETERS ** "
      ]
    },
    {
      "metadata": {
        "colab_type": "code",
        "id": "cTFXRj3VPRGb",
        "colab": {}
      },
      "cell_type": "code",
      "source": [
        "estimators = [5, 10, 50, 100, 200, 500, 1000]\n",
        "max_depth = [2, 3, 4, 5, 6, 7, 8, 9, 10]\n",
        "param_grid = {\"n_estimators\":estimators,\"max_depth\":max_depth}"
      ],
      "execution_count": 0,
      "outputs": []
    },
    {
      "metadata": {
        "colab_type": "text",
        "id": "OWro9y2tPRGg"
      },
      "cell_type": "markdown",
      "source": [
        "** GRID SEARCH ** \n",
        "\n",
        "1. SCORING : F1 SCORE OF NEGATIVE REVIEWS"
      ]
    },
    {
      "metadata": {
        "colab_type": "code",
        "outputId": "87a7fb6b-0ff9-42aa-d4d1-c5a5f3958619",
        "id": "KFr5aiEfPRGh",
        "colab": {
          "base_uri": "https://localhost:8080/",
          "height": 255
        }
      },
      "cell_type": "code",
      "source": [
        "model = RandomizedSearchCV(RandomForestClassifier(n_jobs = -1,oob_score = True,max_features = None),param_grid,n_jobs =-1,scoring= 'roc_auc',verbose=True,cv=2)\n",
        "model.fit(X_train,Y_train)"
      ],
      "execution_count": 0,
      "outputs": [
        {
          "output_type": "stream",
          "text": [
            "Fitting 2 folds for each of 10 candidates, totalling 20 fits\n"
          ],
          "name": "stdout"
        },
        {
          "output_type": "stream",
          "text": [
            "[Parallel(n_jobs=-1)]: Using backend LokyBackend with 2 concurrent workers.\n",
            "[Parallel(n_jobs=-1)]: Done  20 out of  20 | elapsed: 67.4min finished\n"
          ],
          "name": "stderr"
        },
        {
          "output_type": "execute_result",
          "data": {
            "text/plain": [
              "RandomizedSearchCV(cv=2, error_score='raise-deprecating',\n",
              "          estimator=RandomForestClassifier(bootstrap=True, class_weight=None, criterion='gini',\n",
              "            max_depth=None, max_features=None, max_leaf_nodes=None,\n",
              "            min_impurity_decrease=0.0, min_impurity_split=None,\n",
              "            min_samples_leaf=1, min_samples_split=2,\n",
              "            min_weight_fraction_leaf=0.0, n_estimators='warn', n_jobs=-1,\n",
              "            oob_score=True, random_state=None, verbose=0, warm_start=False),\n",
              "          fit_params=None, iid='warn', n_iter=10, n_jobs=-1,\n",
              "          param_distributions={'n_estimators': [5, 10, 50, 100, 200, 500, 1000], 'max_depth': [2, 3, 4, 5, 6, 7, 8, 9, 10]},\n",
              "          pre_dispatch='2*n_jobs', random_state=None, refit=True,\n",
              "          return_train_score='warn', scoring='roc_auc', verbose=True)"
            ]
          },
          "metadata": {
            "tags": []
          },
          "execution_count": 15
        }
      ]
    },
    {
      "metadata": {
        "colab_type": "code",
        "outputId": "8d0342b8-80ec-4773-9b07-d61f78a194ad",
        "id": "toTt0IA1PRGn",
        "colab": {
          "base_uri": "https://localhost:8080/",
          "height": 34
        }
      },
      "cell_type": "code",
      "source": [
        "model.best_params_"
      ],
      "execution_count": 0,
      "outputs": [
        {
          "output_type": "execute_result",
          "data": {
            "text/plain": [
              "{'max_depth': 9, 'n_estimators': 1000}"
            ]
          },
          "metadata": {
            "tags": []
          },
          "execution_count": 16
        }
      ]
    },
    {
      "metadata": {
        "colab_type": "code",
        "id": "xvvPKy3kPRGv",
        "colab": {}
      },
      "cell_type": "code",
      "source": [
        "results = pd.DataFrame(model.cv_results_['params'])"
      ],
      "execution_count": 0,
      "outputs": []
    },
    {
      "metadata": {
        "colab_type": "code",
        "id": "yPr0tJyvPRGz",
        "colab": {}
      },
      "cell_type": "code",
      "source": [
        "results['Test_Score'] = model.cv_results_['mean_test_score'] * 100\n",
        "results['Train_Score'] = model.cv_results_['mean_train_score'] * 100\n",
        "results['Difference'] = results['Train_Score'] - results['Test_Score'] "
      ],
      "execution_count": 0,
      "outputs": []
    },
    {
      "metadata": {
        "colab_type": "text",
        "id": "HTj9oqRVPRG3"
      },
      "cell_type": "markdown",
      "source": [
        "____ \n",
        "** Visualising the results : HEATMAP ** "
      ]
    },
    {
      "metadata": {
        "colab_type": "text",
        "id": "zQk00kSUPRG7"
      },
      "cell_type": "markdown",
      "source": [
        "** 1. Cross validated : Test Scores ** \n",
        "\n"
      ]
    },
    {
      "metadata": {
        "colab_type": "code",
        "outputId": "b763a1a5-4be6-4fc1-f73b-55c74b9fdde8",
        "id": "ARVshSMrPRG8",
        "colab": {
          "base_uri": "https://localhost:8080/",
          "height": 378
        }
      },
      "cell_type": "code",
      "source": [
        "sns.heatmap(results.pivot_table(index = \"n_estimators\",columns = \"max_depth\",values = \"Test_Score\"),annot= True)"
      ],
      "execution_count": 0,
      "outputs": [
        {
          "output_type": "execute_result",
          "data": {
            "text/plain": [
              "<matplotlib.axes._subplots.AxesSubplot at 0x7fe583939a58>"
            ]
          },
          "metadata": {
            "tags": []
          },
          "execution_count": 19
        },
        {
          "output_type": "display_data",
          "data": {
            "image/png": "[encoded data removed]",
            "text/plain": [
              "<matplotlib.figure.Figure at 0x7fe583820630>"
            ]
          },
          "metadata": {
            "tags": []
          }
        }
      ]
    },
    {
      "metadata": {
        "colab_type": "text",
        "id": "0zFihp4uPRHC"
      },
      "cell_type": "markdown",
      "source": [
        "** 2. Cross validated : Train Scores ** \n"
      ]
    },
    {
      "metadata": {
        "colab_type": "code",
        "outputId": "65fbf84f-3022-4ad8-9e80-6ad1189ca244",
        "id": "Uu3g_aWkPRHC",
        "colab": {
          "base_uri": "https://localhost:8080/",
          "height": 378
        }
      },
      "cell_type": "code",
      "source": [
        "sns.heatmap(results.pivot_table(index = \"n_estimators\",columns = \"max_depth\",values = \"Train_Score\"),annot= True)"
      ],
      "execution_count": 0,
      "outputs": [
        {
          "output_type": "execute_result",
          "data": {
            "text/plain": [
              "<matplotlib.axes._subplots.AxesSubplot at 0x7fe5836eb6d8>"
            ]
          },
          "metadata": {
            "tags": []
          },
          "execution_count": 20
        },
        {
          "output_type": "display_data",
          "data": {
            "image/png": "[encoded data removed]",
            "text/plain": [
              "<matplotlib.figure.Figure at 0x7fe583766cc0>"
            ]
          },
          "metadata": {
            "tags": []
          }
        }
      ]
    },
    {
      "metadata": {
        "id": "m365x-5Aft7z",
        "colab_type": "text"
      },
      "cell_type": "markdown",
      "source": [
        "** Observations ** \n",
        "\n",
        "Has to be written"
      ]
    },
    {
      "metadata": {
        "colab_type": "code",
        "id": "4VtUI2eFc0Ir",
        "colab": {}
      },
      "cell_type": "code",
      "source": [
        "model = RandomForestClassifier(n_estimators = 1000,max_depth =9 ,n_jobs = -1,oob_score = True,max_features = None)\n",
        "model.fit(X_train,Y_train)\n",
        "pred = model.predict(tf_test)\n",
        "t_pred = model.predict(X_train)\n",
        "test_error = (1 - metrics.accuracy_score(pred,y_test)) * 100\n",
        "train_error = (1 - metrics.accuracy_score(t_pred,Y_train)) * 100"
      ],
      "execution_count": 0,
      "outputs": []
    },
    {
      "metadata": {
        "colab_type": "code",
        "outputId": "8441c2c9-b10f-4ea3-97d1-1ebf67269de6",
        "id": "L4AuKNRdc0It",
        "colab": {
          "base_uri": "https://localhost:8080/",
          "height": 34
        }
      },
      "cell_type": "code",
      "source": [
        "print(test_error)"
      ],
      "execution_count": 0,
      "outputs": [
        {
          "output_type": "stream",
          "text": [
            "11.765000000000004\n"
          ],
          "name": "stdout"
        }
      ]
    },
    {
      "metadata": {
        "colab_type": "code",
        "outputId": "f9d8d485-b949-481f-e7a4-ebd3c6a857fd",
        "id": "q0Al477Ac0I1",
        "colab": {
          "base_uri": "https://localhost:8080/",
          "height": 34
        }
      },
      "cell_type": "code",
      "source": [
        "print(train_error)"
      ],
      "execution_count": 0,
      "outputs": [
        {
          "output_type": "stream",
          "text": [
            "10.033749999999998\n"
          ],
          "name": "stdout"
        }
      ]
    },
    {
      "metadata": {
        "colab_type": "code",
        "outputId": "be46c06b-9c7e-45b8-b64f-cb9e8722460e",
        "id": "nQtfWiYAc0I4",
        "colab": {
          "base_uri": "https://localhost:8080/",
          "height": 170
        }
      },
      "cell_type": "code",
      "source": [
        "print(classification_report(y_pred = pred,y_true = y_test))"
      ],
      "execution_count": 0,
      "outputs": [
        {
          "output_type": "stream",
          "text": [
            "              precision    recall  f1-score   support\n",
            "\n",
            "           0       0.74      0.18      0.29      2674\n",
            "           1       0.89      0.99      0.94     17326\n",
            "\n",
            "   micro avg       0.88      0.88      0.88     20000\n",
            "   macro avg       0.82      0.59      0.61     20000\n",
            "weighted avg       0.87      0.88      0.85     20000\n",
            "\n"
          ],
          "name": "stdout"
        }
      ]
    },
    {
      "metadata": {
        "colab_type": "code",
        "outputId": "35ae3035-ecd2-44c4-f0cb-6023fe468ccb",
        "id": "fhGKjfJBc0I8",
        "colab": {
          "base_uri": "https://localhost:8080/",
          "height": 364
        }
      },
      "cell_type": "code",
      "source": [
        "sns.heatmap(confusion_matrix(y_pred = pred,y_true = y_test),annot= True,fmt='d')"
      ],
      "execution_count": 0,
      "outputs": [
        {
          "output_type": "execute_result",
          "data": {
            "text/plain": [
              "<matplotlib.axes._subplots.AxesSubplot at 0x7fe582505828>"
            ]
          },
          "metadata": {
            "tags": []
          },
          "execution_count": 25
        },
        {
          "output_type": "display_data",
          "data": {
            "image/png": "[encoded data removed]",
            "text/plain": [
              "<matplotlib.figure.Figure at 0x7fe583798358>"
            ]
          },
          "metadata": {
            "tags": []
          }
        }
      ]
    },
    {
      "metadata": {
        "colab_type": "code",
        "outputId": "7a7d1c01-7ca2-4674-8de8-09bb3fd6fcd0",
        "id": "nthdM338c0JF",
        "colab": {
          "base_uri": "https://localhost:8080/",
          "height": 364
        }
      },
      "cell_type": "code",
      "source": [
        "sns.heatmap(confusion_matrix(y_pred = t_pred,y_true =Y_train),annot=True,fmt='d')"
      ],
      "execution_count": 0,
      "outputs": [
        {
          "output_type": "execute_result",
          "data": {
            "text/plain": [
              "<matplotlib.axes._subplots.AxesSubplot at 0x7fe58239b240>"
            ]
          },
          "metadata": {
            "tags": []
          },
          "execution_count": 26
        },
        {
          "output_type": "display_data",
          "data": {
            "image/png": "[encoded data removed]",
            "text/plain": [
              "<matplotlib.figure.Figure at 0x7fe5837284e0>"
            ]
          },
          "metadata": {
            "tags": []
          }
        }
      ]
    },
    {
      "metadata": {
        "colab_type": "text",
        "id": "KWjlRmBrc0JK"
      },
      "cell_type": "markdown",
      "source": [
        "----\n",
        "<br>\n",
        "** Feature importance ** "
      ]
    },
    {
      "metadata": {
        "colab_type": "code",
        "id": "d8J-RIAjc0JL",
        "colab": {}
      },
      "cell_type": "code",
      "source": [
        "features = tfidf.get_feature_names()"
      ],
      "execution_count": 0,
      "outputs": []
    },
    {
      "metadata": {
        "colab_type": "code",
        "id": "V-PLTnIuc0JO",
        "colab": {}
      },
      "cell_type": "code",
      "source": [
        "f_imp = dict(zip(features,model.feature_importances_))"
      ],
      "execution_count": 0,
      "outputs": []
    },
    {
      "metadata": {
        "colab_type": "code",
        "id": "wszCJceTc0JR",
        "colab": {}
      },
      "cell_type": "code",
      "source": [
        "top_10 = {}\n",
        "for i in sorted(f_imp.items(), key=operator.itemgetter(1),reverse= True)[:10]:\n",
        "  top_10[i[0]] = i[1]"
      ],
      "execution_count": 0,
      "outputs": []
    },
    {
      "metadata": {
        "colab_type": "code",
        "outputId": "6152ce1d-a3b8-4e8c-cd8d-15b3737f70a4",
        "id": "31aXkMx2c0JU",
        "colab": {
          "base_uri": "https://localhost:8080/",
          "height": 612
        }
      },
      "cell_type": "code",
      "source": [
        "plt.figure( figsize=(20,10))\n",
        "plt.imshow(wordcloud.WordCloud(background_color='white',width = 1000,height= 800).generate_from_frequencies(top_10))"
      ],
      "execution_count": 0,
      "outputs": [
        {
          "output_type": "execute_result",
          "data": {
            "text/plain": [
              "<matplotlib.image.AxesImage at 0x7fe581f7ce80>"
            ]
          },
          "metadata": {
            "tags": []
          },
          "execution_count": 30
        },
        {
          "output_type": "display_data",
          "data": {
            "image/png": "[encoded data removed]",
            "text/plain": [
              "<matplotlib.figure.Figure at 0x7fe582027518>"
            ]
          },
          "metadata": {
            "tags": []
          }
        }
      ]
    },
    {
      "metadata": {
        "id": "6oYTMEEydLIn",
        "colab_type": "text"
      },
      "cell_type": "markdown",
      "source": [
        "<br>\n",
        "<Br>\n",
        "  <br>"
      ]
    },
    {
      "metadata": {
        "colab_type": "text",
        "id": "oGXKU5UzVlLd"
      },
      "cell_type": "markdown",
      "source": [
        "<Br>\n",
        "  <br>\n",
        "  \n",
        "  ## FEATURIZATION : TFIDF WORD2VEC\n",
        "\n",
        "** Importing the data **"
      ]
    },
    {
      "metadata": {
        "id": "7ekuO_H2QY2P",
        "colab_type": "code",
        "colab": {}
      },
      "cell_type": "code",
      "source": [
        "tfw2v_train = pickle.load(open('/content/gdrive/My Drive/AppliedAI/Amazon Fine Food Reviews/Train_TFW2V.sav','rb'))\n",
        "tfw2v_test = pickle.load(open('/content/gdrive/My Drive/AppliedAI/Amazon Fine Food Reviews/Test_TFW2V.sav','rb'))"
      ],
      "execution_count": 0,
      "outputs": []
    },
    {
      "metadata": {
        "id": "HPIRP09dehKn",
        "colab_type": "code",
        "colab": {}
      },
      "cell_type": "code",
      "source": [
        "X_train = tfw2v_train.iloc[:,0:50].copy(deep=True)\n",
        "X_test = tfw2v_test.iloc[:,0:50].copy(deep=True)\n",
        "Y_train = tfw2v_train['Score']\n",
        "\n",
        "y_test = tfw2v_test['Score']"
      ],
      "execution_count": 0,
      "outputs": []
    },
    {
      "metadata": {
        "id": "fArt6665dzNM",
        "colab_type": "text"
      },
      "cell_type": "markdown",
      "source": [
        " **DEFINING THE PARAMETERS GRID : **"
      ]
    },
    {
      "metadata": {
        "colab_type": "code",
        "id": "QqugNjMbdw8W",
        "colab": {}
      },
      "cell_type": "code",
      "source": [
        "estimators = [5, 10, 50, 100, 200, 500, 1000]\n",
        "max_depth = [2, 3, 4, 5, 6, 7, 8, 9, 10]\n",
        "param_grid = {\"n_estimators\":estimators,\"max_depth\":max_depth}"
      ],
      "execution_count": 0,
      "outputs": []
    },
    {
      "metadata": {
        "colab_type": "text",
        "id": "Jwjw-3gSdw8b"
      },
      "cell_type": "markdown",
      "source": [
        "** GRID SEARCH ** \n",
        "\n",
        "1. SCORING : F1 SCORE OF NEGATIVE REVIEWS"
      ]
    },
    {
      "metadata": {
        "colab_type": "code",
        "outputId": "d5cfba6b-183a-4984-d0cf-b26de27c4b5b",
        "id": "PVhk-wIedw8b",
        "colab": {
          "base_uri": "https://localhost:8080/",
          "height": 255
        }
      },
      "cell_type": "code",
      "source": [
        "model = RandomizedSearchCV(RandomForestClassifier(n_jobs = -1,oob_score = True,max_features = None),param_grid,n_jobs =-1,scoring= 'roc_auc',verbose=True,cv=2)\n",
        "model.fit(X_train,Y_train)"
      ],
      "execution_count": 0,
      "outputs": [
        {
          "output_type": "stream",
          "text": [
            "Fitting 2 folds for each of 10 candidates, totalling 20 fits\n"
          ],
          "name": "stdout"
        },
        {
          "output_type": "stream",
          "text": [
            "[Parallel(n_jobs=-1)]: Using backend LokyBackend with 2 concurrent workers.\n",
            "[Parallel(n_jobs=-1)]: Done  20 out of  20 | elapsed: 50.9min finished\n"
          ],
          "name": "stderr"
        },
        {
          "output_type": "execute_result",
          "data": {
            "text/plain": [
              "RandomizedSearchCV(cv=2, error_score='raise-deprecating',\n",
              "          estimator=RandomForestClassifier(bootstrap=True, class_weight=None, criterion='gini',\n",
              "            max_depth=None, max_features=None, max_leaf_nodes=None,\n",
              "            min_impurity_decrease=0.0, min_impurity_split=None,\n",
              "            min_samples_leaf=1, min_samples_split=2,\n",
              "            min_weight_fraction_leaf=0.0, n_estimators='warn', n_jobs=-1,\n",
              "            oob_score=True, random_state=None, verbose=0, warm_start=False),\n",
              "          fit_params=None, iid='warn', n_iter=10, n_jobs=-1,\n",
              "          param_distributions={'n_estimators': [5, 10, 50, 100, 200, 500, 1000], 'max_depth': [2, 3, 4, 5, 6, 7, 8, 9, 10]},\n",
              "          pre_dispatch='2*n_jobs', random_state=None, refit=True,\n",
              "          return_train_score='warn', scoring='roc_auc', verbose=True)"
            ]
          },
          "metadata": {
            "tags": []
          },
          "execution_count": 34
        }
      ]
    },
    {
      "metadata": {
        "colab_type": "code",
        "outputId": "f9c5bb13-6cee-4026-9747-9e71b9416a1e",
        "id": "qP30SztMdw8f",
        "colab": {
          "base_uri": "https://localhost:8080/",
          "height": 34
        }
      },
      "cell_type": "code",
      "source": [
        "model.best_params_"
      ],
      "execution_count": 0,
      "outputs": [
        {
          "output_type": "execute_result",
          "data": {
            "text/plain": [
              "{'max_depth': 8, 'n_estimators': 1000}"
            ]
          },
          "metadata": {
            "tags": []
          },
          "execution_count": 35
        }
      ]
    },
    {
      "metadata": {
        "colab_type": "code",
        "id": "CbM6qOlYdw8m",
        "colab": {}
      },
      "cell_type": "code",
      "source": [
        "results = pd.DataFrame(model.cv_results_['params'])"
      ],
      "execution_count": 0,
      "outputs": []
    },
    {
      "metadata": {
        "colab_type": "code",
        "id": "nx5SQ5zUdw8o",
        "colab": {}
      },
      "cell_type": "code",
      "source": [
        "results['Test_Score'] = model.cv_results_['mean_test_score'] * 100\n",
        "results['Train_Score'] = model.cv_results_['mean_train_score'] * 100\n",
        "results['Difference'] = results['Train_Score'] - results['Test_Score'] "
      ],
      "execution_count": 0,
      "outputs": []
    },
    {
      "metadata": {
        "colab_type": "text",
        "id": "PLjO3AFmdw8q"
      },
      "cell_type": "markdown",
      "source": [
        "____ \n",
        "** Visualising the results : HEATMAP ** "
      ]
    },
    {
      "metadata": {
        "colab_type": "text",
        "id": "34Ucet2fdw8t"
      },
      "cell_type": "markdown",
      "source": [
        "** 1. Cross validated : Test Scores ** \n",
        "\n"
      ]
    },
    {
      "metadata": {
        "colab_type": "code",
        "outputId": "ae561a6a-5f82-49cc-f430-02fcb0492b83",
        "id": "qLkdAy_Jdw8v",
        "colab": {
          "base_uri": "https://localhost:8080/",
          "height": 378
        }
      },
      "cell_type": "code",
      "source": [
        "sns.heatmap(results.pivot_table(index = \"n_estimators\",columns = \"max_depth\",values = \"Test_Score\"),annot= True)"
      ],
      "execution_count": 0,
      "outputs": [
        {
          "output_type": "execute_result",
          "data": {
            "text/plain": [
              "<matplotlib.axes._subplots.AxesSubplot at 0x7fe581edb198>"
            ]
          },
          "metadata": {
            "tags": []
          },
          "execution_count": 39
        },
        {
          "output_type": "display_data",
          "data": {
            "image/png": "[encoded data removed]",
            "text/plain": [
              "<matplotlib.figure.Figure at 0x7fe5838ac438>"
            ]
          },
          "metadata": {
            "tags": []
          }
        }
      ]
    },
    {
      "metadata": {
        "colab_type": "text",
        "id": "P3ec9JGKdw81"
      },
      "cell_type": "markdown",
      "source": [
        "** 2. Cross validated : Train Scores ** \n"
      ]
    },
    {
      "metadata": {
        "colab_type": "code",
        "outputId": "aa9e38f1-a12e-4648-e344-cf809aa456b6",
        "id": "BAkt9Totdw82",
        "colab": {
          "base_uri": "https://localhost:8080/",
          "height": 378
        }
      },
      "cell_type": "code",
      "source": [
        "sns.heatmap(results.pivot_table(index = \"n_estimators\",columns = \"max_depth\",values = \"Train_Score\"),annot= True)"
      ],
      "execution_count": 0,
      "outputs": [
        {
          "output_type": "execute_result",
          "data": {
            "text/plain": [
              "<matplotlib.axes._subplots.AxesSubplot at 0x7fe581e585c0>"
            ]
          },
          "metadata": {
            "tags": []
          },
          "execution_count": 40
        },
        {
          "output_type": "display_data",
          "data": {
            "image/png": "[encoded data removed]",
            "text/plain": [
              "<matplotlib.figure.Figure at 0x7fe581e29198>"
            ]
          },
          "metadata": {
            "tags": []
          }
        }
      ]
    },
    {
      "metadata": {
        "colab_type": "text",
        "id": "tgwSpsPzVvlg"
      },
      "cell_type": "markdown",
      "source": [
        "<br> <br>\n",
        "** Observations ** "
      ]
    },
    {
      "metadata": {
        "colab_type": "text",
        "id": "fCpneWQMVvlk"
      },
      "cell_type": "markdown",
      "source": [
        " Has to be written"
      ]
    },
    {
      "metadata": {
        "colab_type": "code",
        "id": "tsJ9xiFvVvlm",
        "colab": {}
      },
      "cell_type": "code",
      "source": [
        "model = RandomForestClassifier(n_estimators = 1000,max_depth = 8,n_jobs = -1,oob_score = True,max_features = None)\n",
        "model.fit(X_train,Y_train)\n",
        "pred = model.predict(X_test)\n",
        "t_pred = model.predict(X_train)\n",
        "test_error = (1 - metrics.accuracy_score(pred,y_test)) * 100\n",
        "train_error = (1 - metrics.accuracy_score(t_pred,Y_train)) * 100"
      ],
      "execution_count": 0,
      "outputs": []
    },
    {
      "metadata": {
        "colab_type": "code",
        "outputId": "3e2d6627-0d40-4688-f80d-1cdfa74f2e2b",
        "id": "IKUaOw03Vvlr",
        "colab": {
          "base_uri": "https://localhost:8080/",
          "height": 34
        }
      },
      "cell_type": "code",
      "source": [
        "print(test_error)"
      ],
      "execution_count": 0,
      "outputs": [
        {
          "output_type": "stream",
          "text": [
            "12.56666666666667\n"
          ],
          "name": "stdout"
        }
      ]
    },
    {
      "metadata": {
        "colab_type": "code",
        "outputId": "35f9f5a4-376f-4829-da51-a2d1820e3227",
        "id": "bfxg_uTYVvly",
        "colab": {
          "base_uri": "https://localhost:8080/",
          "height": 34
        }
      },
      "cell_type": "code",
      "source": [
        "print(train_error)"
      ],
      "execution_count": 0,
      "outputs": [
        {
          "output_type": "stream",
          "text": [
            "10.08\n"
          ],
          "name": "stdout"
        }
      ]
    },
    {
      "metadata": {
        "colab_type": "code",
        "outputId": "0d0779d0-b8b4-4646-8b97-1efe92940919",
        "id": "TxER2rqlVvl7",
        "colab": {
          "base_uri": "https://localhost:8080/",
          "height": 170
        }
      },
      "cell_type": "code",
      "source": [
        "print(classification_report(y_pred=pred,y_true = y_test))"
      ],
      "execution_count": 0,
      "outputs": [
        {
          "output_type": "stream",
          "text": [
            "              precision    recall  f1-score   support\n",
            "\n",
            "           0       0.71      0.14      0.23      4101\n",
            "           1       0.88      0.99      0.93     25899\n",
            "\n",
            "   micro avg       0.87      0.87      0.87     30000\n",
            "   macro avg       0.79      0.56      0.58     30000\n",
            "weighted avg       0.86      0.87      0.84     30000\n",
            "\n"
          ],
          "name": "stdout"
        }
      ]
    },
    {
      "metadata": {
        "colab_type": "code",
        "outputId": "b4652f7f-df16-4de9-e47c-47875c9b1c1b",
        "id": "yaBPDwVMVvl_",
        "colab": {
          "base_uri": "https://localhost:8080/",
          "height": 364
        }
      },
      "cell_type": "code",
      "source": [
        "sns.heatmap(confusion_matrix(y_pred=pred,y_true = y_test),annot= True,fmt='d')"
      ],
      "execution_count": 0,
      "outputs": [
        {
          "output_type": "execute_result",
          "data": {
            "text/plain": [
              "<matplotlib.axes._subplots.AxesSubplot at 0x7fe581d37dd8>"
            ]
          },
          "metadata": {
            "tags": []
          },
          "execution_count": 45
        },
        {
          "output_type": "display_data",
          "data": {
            "image/png": "[encoded data removed]",
            "text/plain": [
              "<matplotlib.figure.Figure at 0x7fe581e04240>"
            ]
          },
          "metadata": {
            "tags": []
          }
        }
      ]
    },
    {
      "metadata": {
        "colab_type": "code",
        "outputId": "48c18adc-97d7-4439-bf53-4e0c577a3654",
        "id": "cknbqY89VvmD",
        "colab": {
          "base_uri": "https://localhost:8080/",
          "height": 364
        }
      },
      "cell_type": "code",
      "source": [
        "sns.heatmap(confusion_matrix(y_pred =t_pred,y_true=Y_train),annot=True,fmt='d')"
      ],
      "execution_count": 0,
      "outputs": [
        {
          "output_type": "execute_result",
          "data": {
            "text/plain": [
              "<matplotlib.axes._subplots.AxesSubplot at 0x7fe581d01630>"
            ]
          },
          "metadata": {
            "tags": []
          },
          "execution_count": 46
        },
        {
          "output_type": "display_data",
          "data": {
            "image/png": "[encoded data removed]",
            "text/plain": [
              "<matplotlib.figure.Figure at 0x7fe581cb2ef0>"
            ]
          },
          "metadata": {
            "tags": []
          }
        }
      ]
    },
    {
      "metadata": {
        "id": "eLCEKAD41gX6",
        "colab_type": "text"
      },
      "cell_type": "markdown",
      "source": [
        "<br>\n",
        "<Br>\n",
        "  <br>\n",
        "  \n",
        "  ## SUMMARY\n",
        "  \n",
        "  <br>"
      ]
    },
    {
      "metadata": {
        "id": "-Ckar-ZW08pF",
        "colab_type": "text"
      },
      "cell_type": "markdown",
      "source": [
        "|FEATURIZATION| MAX-DEPTH | N_ESTIMATORS|ACCURACY   |  RECALL : NEGATIVE REVIEWS |TRAIN ERROR | TEST ERROR | DIFFERENCE|\n",
        "|------|------|-----|-----|----|----|\n",
        "|WORD2VEC|13|12|88.58|68%|4.06%|11.42 %|7.36|\n",
        "|BOW|13|9|88.33|74%|9.42%|11.67%|2.25|\n",
        "|TF-IDF|15|8|88.71|75%|8.70%|11.19%|2.49|\n",
        "|TF-IDF WORD2VEC|13|8|87.57|62%|5.19%|12.43%|7.24|"
      ]
    }
  ]
}