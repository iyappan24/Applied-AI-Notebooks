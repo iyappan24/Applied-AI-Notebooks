{
  "nbformat": 4,
  "nbformat_minor": 0,
  "metadata": {
    "colab": {
      "name": "GBDT.ipynb",
      "version": "0.3.2",
      "provenance": [],
      "collapsed_sections": []
    },
    "kernelspec": {
      "name": "python3",
      "display_name": "Python 3"
    }
  },
  "cells": [
    {
      "metadata": {
        "id": "fRc_EmeGwfJo",
        "colab_type": "text"
      },
      "cell_type": "markdown",
      "source": [
        "## AMAZON FINE FOOD REVIEWS : GRADIENT BOOSTED DECISION TREES"
      ]
    },
    {
      "metadata": {
        "id": "O6SkzWMMwdfk",
        "colab_type": "text"
      },
      "cell_type": "markdown",
      "source": [
        "Data Source: https://www.kaggle.com/snap/amazon-fine-food-reviews\n",
        "\n",
        "The Amazon Fine Food Reviews dataset consists of reviews of fine foods from Amazon.<br>\n",
        "\n",
        "Number of reviews: 568,454<br>\n",
        "Number of users: 256,059<br>\n",
        "Number of products: 74,258<br>\n",
        "Timespan: Oct 1999 - Oct 2012<br>\n",
        "Number of Attributes/Columns in data: 10 \n",
        "\n",
        "Attribute Information:\n",
        "\n",
        "1. Id\n",
        "2. ProductId - unique identifier for the product\n",
        "3. UserId - unqiue identifier for the user\n",
        "4. ProfileName\n",
        "5. HelpfulnessNumerator - number of users who found the review helpful\n",
        "6. HelpfulnessDenominator - number of users who indicated whether they found the review helpful or not\n",
        "7. Score - rating between 1 and 5\n",
        "8. Time - timestamp for the review\n",
        "9. Summary - brief summary of the review\n",
        "10. Text - text of the review\n",
        "\n",
        "\n",
        "**DATA SET SPLITS ** \n",
        "\n",
        "1. AVG_WORD2VEC : 70K TRAIN,  30K TEST\n",
        "2. TFIDF_WORD2VEC : 70K TRAIN ,  30K TEST\n",
        "3. BOW : 60K TRAIN,  20K CV,  20K TEST\n",
        "4. TFIDF : 60K TRAIN, 20K CV,  20K TEST"
      ]
    },
    {
      "metadata": {
        "id": "mbt6p7G8wMt7",
        "colab_type": "code",
        "outputId": "e9c4d67f-58a6-43bb-eb44-9d59f701bbf4",
        "colab": {
          "base_uri": "https://localhost:8080/",
          "height": 17
        }
      },
      "cell_type": "code",
      "source": [
        "import pandas as pd\n",
        "import numpy as np\n",
        "from sklearn.metrics import confusion_matrix,classification_report,accuracy_score,f1_score,roc_auc_score,precision_score, recall_score\n",
        "from sklearn.model_selection import cross_val_score\n",
        "import xgboost as xgb\n",
        "import pickle\n",
        "import seaborn as sns\n",
        "import matplotlib.pyplot as plt\n",
        "import warnings\n",
        "warnings.filterwarnings('ignore')\n",
        "from sklearn.model_selection import GridSearchCV\n",
        "from scipy.sparse import vstack\n",
        "import operator\n",
        "import wordcloud\n",
        "import sklearn.metrics as metrics\n",
        "import collections\n",
        "import plotly as py\n",
        "import plotly.graph_objs  as go\n",
        "from plotly.offline import download_plotlyjs, init_notebook_mode, plot, iplot\n",
        "init_notebook_mode(connected=True)"
      ],
      "execution_count": 0,
      "outputs": [
        {
          "output_type": "display_data",
          "data": {
            "text/html": [
              "<script>requirejs.config({paths: { 'plotly': ['https://cdn.plot.ly/plotly-latest.min']},});if(!window.Plotly) {{require(['plotly'],function(plotly) {window.Plotly=plotly;});}}</script>"
            ],
            "text/plain": [
              "<IPython.core.display.HTML object>"
            ]
          },
          "metadata": {
            "tags": []
          }
        }
      ]
    },
    {
      "metadata": {
        "id": "3_D6LtS0Z-Wk",
        "colab_type": "code",
        "outputId": "b91f36c5-83b9-4a54-8f01-26a8cec76a97",
        "colab": {
          "base_uri": "https://localhost:8080/",
          "height": 68
        }
      },
      "cell_type": "code",
      "source": [
        "!free -m"
      ],
      "execution_count": 0,
      "outputs": [
        {
          "output_type": "stream",
          "text": [
            "              total        used        free      shared  buff/cache   available\n",
            "Mem:          13022         403       11244           0        1374       12354\n",
            "Swap:             0           0           0\n"
          ],
          "name": "stdout"
        }
      ]
    },
    {
      "metadata": {
        "id": "BLxbCl076YcL",
        "colab_type": "code",
        "colab": {}
      },
      "cell_type": "code",
      "source": [
        "def configure_plotly_browser_state():\n",
        "  import IPython\n",
        "  display(IPython.core.display.HTML('''\n",
        "        <script src=\"/static/components/requirejs/require.js\"></script>\n",
        "        <script>\n",
        "          requirejs.config({\n",
        "            paths: {\n",
        "              base: '/static/base',\n",
        "              plotly: 'https://cdn.plot.ly/plotly-latest.min.js?noext',\n",
        "            },\n",
        "          });\n",
        "        </script>\n",
        "        '''))"
      ],
      "execution_count": 0,
      "outputs": []
    },
    {
      "metadata": {
        "id": "ds9maNyxXTnO",
        "colab_type": "text"
      },
      "cell_type": "markdown",
      "source": [
        "** MOUNTING GOOGLE DRIVE TO GET THE DATA **"
      ]
    },
    {
      "metadata": {
        "id": "OICe8LYmXIXC",
        "colab_type": "code",
        "outputId": "d6eb90d0-aa63-44d1-8305-4d7725265818",
        "colab": {
          "base_uri": "https://localhost:8080/",
          "height": 122
        }
      },
      "cell_type": "code",
      "source": [
        "from google.colab import drive\n",
        "drive.mount('/content/gdrive',force_remount=True)"
      ],
      "execution_count": 0,
      "outputs": [
        {
          "output_type": "stream",
          "text": [
            "Go to this URL in a browser: https://accounts.google.com/o/oauth2/auth?client_id=947318989803-6bn6qk8qdgf4n4g3pfee6491hc0brc4i.apps.googleusercontent.com&redirect_uri=urn%3Aietf%3Awg%3Aoauth%3A2.0%3Aoob&scope=email%20https%3A%2F%2Fwww.googleapis.com%2Fauth%2Fdocs.test%20https%3A%2F%2Fwww.googleapis.com%2Fauth%2Fdrive%20https%3A%2F%2Fwww.googleapis.com%2Fauth%2Fdrive.photos.readonly%20https%3A%2F%2Fwww.googleapis.com%2Fauth%2Fpeopleapi.readonly&response_type=code\n",
            "\n",
            "Enter your authorization code:\n",
            "··········\n",
            "Mounted at /content/gdrive\n"
          ],
          "name": "stdout"
        }
      ]
    },
    {
      "metadata": {
        "id": "IgBWLzOGHV0b",
        "colab_type": "text"
      },
      "cell_type": "markdown",
      "source": [
        "## FEATURISATION  1: BOW "
      ]
    },
    {
      "metadata": {
        "id": "1_F8696THRP4",
        "colab_type": "code",
        "colab": {}
      },
      "cell_type": "code",
      "source": [
        "bow_train = pickle.load(open('/content/gdrive/My Drive/AppliedAI/Amazon Fine Food Reviews/train_bow.sav','rb'))\n",
        "bow_cv = pickle.load(open('/content/gdrive/My Drive/AppliedAI/Amazon Fine Food Reviews/cv_bow.sav','rb'))\n",
        "bow_test = pickle.load(open('/content/gdrive/My Drive/AppliedAI/Amazon Fine Food Reviews/test_bow.sav','rb'))\n",
        "y_train = pickle.load(open('/content/gdrive/My Drive/AppliedAI/Amazon Fine Food Reviews/y_train.sav','rb'))\n",
        "y_test = pickle.load(open('/content/gdrive/My Drive/AppliedAI/Amazon Fine Food Reviews/y_test.sav','rb'))\n",
        "y_cv = pickle.load(open('/content/gdrive/My Drive/AppliedAI/Amazon Fine Food Reviews/y_cv.sav','rb'))\n",
        "bow = pickle.load(open('/content/gdrive/My Drive/AppliedAI/Amazon Fine Food Reviews/BOW.sav','rb'))"
      ],
      "execution_count": 0,
      "outputs": []
    },
    {
      "metadata": {
        "id": "6ZFCy8_xv2bD",
        "colab_type": "text"
      },
      "cell_type": "markdown",
      "source": [
        "** APPROACH : **\n",
        "\n",
        "1. First run a simple cross validation of the increasing the number of estimators by the multiples of 5 and see the improvement in the scoring metric for BOW and narrow down the range of estimators to perfrom grid search for different parameters.\n",
        "\n",
        "2. Scoring metrics used : RECALL ,PRECISION  for negative class and AUC \n",
        "3. We also need to examine the train test error difference to see the intensity of overfit as N-estimators increase.\n",
        "\n",
        "\n",
        "** Constants : **\n",
        "\n",
        "1. max_depth = 5\n",
        "2. colsample_bytree = 1\n",
        "3. booster =  gbtree\n",
        "4. learning rate = 0.07\n",
        "5. objective = binay : logistic \n",
        "6. eval_metric = auc \n"
      ]
    },
    {
      "metadata": {
        "id": "w1xc8FJ-mBfp",
        "colab_type": "code",
        "outputId": "0112b4b1-7341-46cb-b786-1c69d156697d",
        "colab": {
          "base_uri": "https://localhost:8080/",
          "height": 425
        }
      },
      "cell_type": "code",
      "source": [
        "recall = {}\n",
        "precision = {}\n",
        "train_error = {}\n",
        "test_error = {}\n",
        "auc = {}\n",
        "\n",
        "for i in [25,50,75,100,125,150,175,200,225,250,275,300]:\n",
        "  print(\"Training for n_estimators = \" + str(i) + \"\\n\")\n",
        "  model = xgb.XGBClassifier(max_depth = 5,n_estimators = i,booster = 'gbtree',colsample_bytree=1,learning_rate = 0.07,objective = 'binary:logistic',eval_metric = 'auc')\n",
        "  model.fit(bow_train,y_train)\n",
        "  pred = model.predict(bow_cv)\n",
        "  test_error[i] = (1 - accuracy_score(y_true = y_cv,y_pred=pred)) * 100\n",
        "  train_error[i] = (1 - accuracy_score(y_true = y_train,y_pred=model.predict(bow_train))) * 100\n",
        "  recall[i] = recall_score(y_true = y_cv,y_pred = pred,pos_label = 0) * 100\n",
        "  precision[i] = precision_score(y_true =y_cv,y_pred = pred,pos_label = 0) * 100 \n",
        "  auc[i] = roc_auc_score(y_true = y_cv,y_score = pred)"
      ],
      "execution_count": 0,
      "outputs": [
        {
          "output_type": "stream",
          "text": [
            "Training for n_estimators = 25\n",
            "\n",
            "Training for n_estimators = 50\n",
            "\n",
            "Training for n_estimators = 75\n",
            "\n",
            "Training for n_estimators = 100\n",
            "\n",
            "Training for n_estimators = 125\n",
            "\n",
            "Training for n_estimators = 150\n",
            "\n",
            "Training for n_estimators = 175\n",
            "\n",
            "Training for n_estimators = 200\n",
            "\n",
            "Training for n_estimators = 225\n",
            "\n",
            "Training for n_estimators = 250\n",
            "\n",
            "Training for n_estimators = 275\n",
            "\n",
            "Training for n_estimators = 300\n",
            "\n"
          ],
          "name": "stdout"
        }
      ]
    },
    {
      "metadata": {
        "id": "6Va1Sc1Z-a5K",
        "colab_type": "text"
      },
      "cell_type": "markdown",
      "source": [
        " ** TRAIN AND CV ERRORS  ** "
      ]
    },
    {
      "metadata": {
        "id": "gD7R2GxNdxjC",
        "colab_type": "code",
        "outputId": "0a586a2f-53b8-445f-de3c-d824d905a5e5",
        "colab": {
          "base_uri": "https://localhost:8080/",
          "height": 609
        }
      },
      "cell_type": "code",
      "source": [
        "plt.figure(figsize = (19,10))\n",
        "sns.pointplot(list(train_error.keys()),list(train_error.values()),color = 'blue')\n",
        "sns.pointplot(list(test_error.keys()),list(test_error.values()),color = 'red')\n",
        "plt.legend(('blue','red'),('Test_error','Train_error'))"
      ],
      "execution_count": 0,
      "outputs": [
        {
          "output_type": "execute_result",
          "data": {
            "text/plain": [
              "<matplotlib.legend.Legend at 0x7f788b5166a0>"
            ]
          },
          "metadata": {
            "tags": []
          },
          "execution_count": 6
        },
        {
          "output_type": "display_data",
          "data": {
            "image/png": "[encoded data removed]",
            "text/plain": [
              "<matplotlib.figure.Figure at 0x7f788f99f978>"
            ]
          },
          "metadata": {
            "tags": []
          }
        }
      ]
    },
    {
      "metadata": {
        "id": "E0eG56R_-Wr8",
        "colab_type": "text"
      },
      "cell_type": "markdown",
      "source": [
        "** RECALL OF TRAIN AND CV ** "
      ]
    },
    {
      "metadata": {
        "id": "CdxD66tOpHqa",
        "colab_type": "code",
        "outputId": "53a140b9-271b-4f54-cb3e-24aa0cad8098",
        "colab": {
          "base_uri": "https://localhost:8080/",
          "height": 609
        }
      },
      "cell_type": "code",
      "source": [
        "plt.figure(figsize = (19,10))\n",
        "sns.pointplot(list(recall.keys()),list(recall.values()),color = 'red')\n",
        "sns.pointplot(list(precision.keys()),list(precision.values()),color = 'green')\n",
        "plt.legend(('blue','red'),('Test_error','Train_error'))"
      ],
      "execution_count": 0,
      "outputs": [
        {
          "output_type": "execute_result",
          "data": {
            "text/plain": [
              "<matplotlib.legend.Legend at 0x7f7888c457b8>"
            ]
          },
          "metadata": {
            "tags": []
          },
          "execution_count": 7
        },
        {
          "output_type": "display_data",
          "data": {
            "image/png": "[encoded data removed]",
            "text/plain": [
              "<matplotlib.figure.Figure at 0x7f788b547208>"
            ]
          },
          "metadata": {
            "tags": []
          }
        }
      ]
    },
    {
      "metadata": {
        "id": "eMzPUkmX-U78",
        "colab_type": "text"
      },
      "cell_type": "markdown",
      "source": [
        "** AUC SCORE ** "
      ]
    },
    {
      "metadata": {
        "id": "plvJwDFC2OCi",
        "colab_type": "code",
        "outputId": "306e59b0-d071-48ef-cf26-dd3a336cb6dc",
        "colab": {
          "base_uri": "https://localhost:8080/",
          "height": 609
        }
      },
      "cell_type": "code",
      "source": [
        "plt.figure(figsize = (19,10))\n",
        "sns.pointplot(list(auc.keys()),list(auc.values()),color = 'blue')"
      ],
      "execution_count": 0,
      "outputs": [
        {
          "output_type": "execute_result",
          "data": {
            "text/plain": [
              "<matplotlib.axes._subplots.AxesSubplot at 0x7f7888c412e8>"
            ]
          },
          "metadata": {
            "tags": []
          },
          "execution_count": 8
        },
        {
          "output_type": "display_data",
          "data": {
            "image/png": "[encoded data removed]",
            "text/plain": [
              "<matplotlib.figure.Figure at 0x7f788b632c88>"
            ]
          },
          "metadata": {
            "tags": []
          }
        }
      ]
    },
    {
      "metadata": {
        "id": "q0eKJekHq_7W",
        "colab_type": "text"
      },
      "cell_type": "markdown",
      "source": [
        "** Observations  : ** \n",
        "\n",
        "1. The bias is considerably reducing  i.e the maginitude of train error and test error are reducing  as the N-estimators are increased. \n",
        "2. The margin of difference between train and test does not widen as the N-estimators increase till 300. \n",
        "3. The ideal thing is to perform grid search with above range of n_estimators"
      ]
    },
    {
      "metadata": {
        "id": "1yQiE-pd-y2v",
        "colab_type": "text"
      },
      "cell_type": "markdown",
      "source": [
        "<br>\n",
        "<br>\n",
        "** PERFORMING GRID SEARCH **\n",
        "\n",
        "** PARAM GRID : ** \n",
        "\n",
        "Constants:\n",
        "1. Booster : Gbtree\n",
        "2. eval-metric : auc\n",
        "\n",
        "Variables: \n",
        "\n",
        "1. Learning Rate\n",
        "2. max Depth \n",
        "3. N_estimators : 100,125,150,175,200,225,250,275,300\n",
        "4. colsample_bytree "
      ]
    },
    {
      "metadata": {
        "id": "_TOASWVf9chJ",
        "colab_type": "code",
        "colab": {}
      },
      "cell_type": "code",
      "source": [
        "params = {'learning_rate':[0.05,0.1,0.2],'max_depth':[4,5,6],'n_estimators':[100,125,150,175,200,225,250,275,300],'colsample_bytree':[0.5,0.75]}"
      ],
      "execution_count": 0,
      "outputs": []
    },
    {
      "metadata": {
        "colab_type": "code",
        "id": "x6GMMaQC_xfN",
        "colab": {}
      },
      "cell_type": "code",
      "source": [
        "gridModel = GridSearchCV(estimator = xgb.XGBClassifier(booster = 'gbtree',eval_metric = 'auc'),param_grid = params,n_jobs =-1,scoring='roc_auc',verbose=True,cv = 2)"
      ],
      "execution_count": 0,
      "outputs": []
    },
    {
      "metadata": {
        "colab_type": "code",
        "outputId": "e70cf712-cf3e-4ebe-947d-1bd9cf782461",
        "id": "PNrDZR5Q_xfR",
        "colab": {
          "base_uri": "https://localhost:8080/",
          "height": 326
        }
      },
      "cell_type": "code",
      "source": [
        "gridModel.fit(X_train,Y_train)"
      ],
      "execution_count": 0,
      "outputs": [
        {
          "output_type": "stream",
          "text": [
            "Fitting 2 folds for each of 162 candidates, totalling 324 fits\n"
          ],
          "name": "stdout"
        },
        {
          "output_type": "stream",
          "text": [
            "[Parallel(n_jobs=-1)]: Using backend LokyBackend with 2 concurrent workers.\n",
            "[Parallel(n_jobs=-1)]: Done  46 tasks      | elapsed:  9.3min\n",
            "[Parallel(n_jobs=-1)]: Done 196 tasks      | elapsed: 43.5min\n",
            "[Parallel(n_jobs=-1)]: Done 324 out of 324 | elapsed: 80.7min finished\n"
          ],
          "name": "stderr"
        },
        {
          "output_type": "execute_result",
          "data": {
            "text/plain": [
              "GridSearchCV(cv=2, error_score='raise-deprecating',\n",
              "       estimator=XGBClassifier(base_score=0.5, booster='gbtree', colsample_bylevel=1,\n",
              "       colsample_bytree=1, eval_metric='auc', gamma=0, learning_rate=0.1,\n",
              "       max_delta_step=0, max_depth=3, min_child_weight=1, missing=None,\n",
              "       n_estimators=100, n_jobs=1, nthread=None,\n",
              "       objective='binary:logistic', random_state=0, reg_alpha=0,\n",
              "       reg_lambda=1, scale_pos_weight=1, seed=None, silent=True,\n",
              "       subsample=1),\n",
              "       fit_params=None, iid='warn', n_jobs=-1,\n",
              "       param_grid={'learning_rate': [0.05, 0.1, 0.2], 'max_depth': [4, 5, 6], 'n_estimators': [100, 125, 150, 175, 200, 225, 250, 275, 300], 'colsample_bytree': [0.5, 0.75]},\n",
              "       pre_dispatch='2*n_jobs', refit=True, return_train_score='warn',\n",
              "       scoring='roc_auc', verbose=True)"
            ]
          },
          "metadata": {
            "tags": []
          },
          "execution_count": 19
        }
      ]
    },
    {
      "metadata": {
        "colab_type": "code",
        "outputId": "5c36cf94-f5f7-4539-d009-47e8f8f6ef94",
        "id": "nXcIhgFl_xfW",
        "colab": {
          "base_uri": "https://localhost:8080/",
          "height": 34
        }
      },
      "cell_type": "code",
      "source": [
        "#best auc score \n",
        "gridModel.best_score_"
      ],
      "execution_count": 0,
      "outputs": [
        {
          "output_type": "execute_result",
          "data": {
            "text/plain": [
              "0.9281085840189383"
            ]
          },
          "metadata": {
            "tags": []
          },
          "execution_count": 20
        }
      ]
    },
    {
      "metadata": {
        "colab_type": "code",
        "outputId": "6eaba3c2-1b5d-43be-f535-85598cc0da7e",
        "id": "VZ-hbvGJ_xfY",
        "colab": {
          "base_uri": "https://localhost:8080/",
          "height": 85
        }
      },
      "cell_type": "code",
      "source": [
        "#best params \n",
        "gridModel.best_params_"
      ],
      "execution_count": 0,
      "outputs": [
        {
          "output_type": "execute_result",
          "data": {
            "text/plain": [
              "{'colsample_bytree': 0.75,\n",
              " 'learning_rate': 0.2,\n",
              " 'max_depth': 5,\n",
              " 'n_estimators': 300}"
            ]
          },
          "metadata": {
            "tags": []
          },
          "execution_count": 21
        }
      ]
    },
    {
      "metadata": {
        "colab_type": "text",
        "id": "aXNfCEdb_xfd"
      },
      "cell_type": "markdown",
      "source": [
        "** Preparing the dataframe for visualisaiton ** "
      ]
    },
    {
      "metadata": {
        "colab_type": "code",
        "id": "-4K7gOOl_xfd",
        "colab": {}
      },
      "cell_type": "code",
      "source": [
        "results = pd.DataFrame(gridModel.cv_results_['params'])"
      ],
      "execution_count": 0,
      "outputs": []
    },
    {
      "metadata": {
        "colab_type": "code",
        "id": "TnpZuLgy_xfi",
        "colab": {}
      },
      "cell_type": "code",
      "source": [
        "results['Train_AUC_SCORE'] = gridModel.cv_results_['mean_train_score']\n",
        "results['Test_AUC_SCORE'] = gridModel.cv_results_['mean_test_score']"
      ],
      "execution_count": 0,
      "outputs": []
    },
    {
      "metadata": {
        "colab_type": "text",
        "id": "Y3c-wvEiDUm8"
      },
      "cell_type": "markdown",
      "source": [
        "** Analysis and visualisation of influence of various parameters on the AUC score ** "
      ]
    },
    {
      "metadata": {
        "colab_type": "text",
        "id": "lBAdzQnYDUnA"
      },
      "cell_type": "markdown",
      "source": [
        "** HEATMAP : TEST_AUC_SCORE **"
      ]
    },
    {
      "metadata": {
        "colab_type": "code",
        "outputId": "34ebcdaa-9b94-44fe-801d-bbd96cff72f5",
        "id": "0eXD-LtUDUnB",
        "colab": {
          "base_uri": "https://localhost:8080/",
          "height": 378
        }
      },
      "cell_type": "code",
      "source": [
        "sns.heatmap(results.pivot_table(index = \"n_estimators\",columns = \"max_depth\",values = \"Test_AUC_SCORE\"),annot= True)"
      ],
      "execution_count": 0,
      "outputs": [
        {
          "output_type": "execute_result",
          "data": {
            "text/plain": [
              "<matplotlib.axes._subplots.AxesSubplot at 0x7f7888b2a6a0>"
            ]
          },
          "metadata": {
            "tags": []
          },
          "execution_count": 24
        },
        {
          "output_type": "display_data",
          "data": {
            "image/png": "[encoded data removed]",
            "text/plain": [
              "<matplotlib.figure.Figure at 0x7f78882b5dd8>"
            ]
          },
          "metadata": {
            "tags": []
          }
        }
      ]
    },
    {
      "metadata": {
        "colab_type": "text",
        "id": "DWPHY5PwDUnL"
      },
      "cell_type": "markdown",
      "source": [
        "** HEATMAP : TRAIN_AUC_SCORE ** "
      ]
    },
    {
      "metadata": {
        "colab_type": "code",
        "outputId": "a51042a0-c458-49bb-d522-6cb97b718c91",
        "id": "KoBjBfgcDUnO",
        "colab": {
          "base_uri": "https://localhost:8080/",
          "height": 378
        }
      },
      "cell_type": "code",
      "source": [
        "sns.heatmap(results.pivot_table(index = \"n_estimators\",columns = \"max_depth\",values = \"Train_AUC_SCORE\"),annot= True)"
      ],
      "execution_count": 0,
      "outputs": [
        {
          "output_type": "execute_result",
          "data": {
            "text/plain": [
              "<matplotlib.axes._subplots.AxesSubplot at 0x7f7888b2ad30>"
            ]
          },
          "metadata": {
            "tags": []
          },
          "execution_count": 25
        },
        {
          "output_type": "display_data",
          "data": {
            "image/png": "[encoded data removed]",
            "text/plain": [
              "<matplotlib.figure.Figure at 0x7f7886614550>"
            ]
          },
          "metadata": {
            "tags": []
          }
        }
      ]
    },
    {
      "metadata": {
        "colab_type": "text",
        "id": "9Gbzhx1wDUnU"
      },
      "cell_type": "markdown",
      "source": [
        "** IMPACT OF COLUMN SAMPLING AND LEARNING RATE ** "
      ]
    },
    {
      "metadata": {
        "colab_type": "code",
        "outputId": "bd2b6a8d-1a09-4f34-c50a-9c4ee7e5c5fd",
        "id": "Th1oVJfPDUnU",
        "colab": {
          "base_uri": "https://localhost:8080/",
          "height": 173
        }
      },
      "cell_type": "code",
      "source": [
        "results.groupby('learning_rate').aggregate(np.mean)[['Train_AUC_SCORE','Test_AUC_SCORE']]"
      ],
      "execution_count": 0,
      "outputs": [
        {
          "output_type": "execute_result",
          "data": {
            "text/html": [
              "<div>\n",
              "<style scoped>\n",
              "    .dataframe tbody tr th:only-of-type {\n",
              "        vertical-align: middle;\n",
              "    }\n",
              "\n",
              "    .dataframe tbody tr th {\n",
              "        vertical-align: top;\n",
              "    }\n",
              "\n",
              "    .dataframe thead th {\n",
              "        text-align: right;\n",
              "    }\n",
              "</style>\n",
              "<table border=\"1\" class=\"dataframe\">\n",
              "  <thead>\n",
              "    <tr style=\"text-align: right;\">\n",
              "      <th></th>\n",
              "      <th>Train_AUC_SCORE</th>\n",
              "      <th>Test_AUC_SCORE</th>\n",
              "    </tr>\n",
              "    <tr>\n",
              "      <th>learning_rate</th>\n",
              "      <th></th>\n",
              "      <th></th>\n",
              "    </tr>\n",
              "  </thead>\n",
              "  <tbody>\n",
              "    <tr>\n",
              "      <th>0.05</th>\n",
              "      <td>0.923623</td>\n",
              "      <td>0.890930</td>\n",
              "    </tr>\n",
              "    <tr>\n",
              "      <th>0.10</th>\n",
              "      <td>0.950277</td>\n",
              "      <td>0.910610</td>\n",
              "    </tr>\n",
              "    <tr>\n",
              "      <th>0.20</th>\n",
              "      <td>0.969798</td>\n",
              "      <td>0.921434</td>\n",
              "    </tr>\n",
              "  </tbody>\n",
              "</table>\n",
              "</div>"
            ],
            "text/plain": [
              "               Train_AUC_SCORE  Test_AUC_SCORE\n",
              "learning_rate                                 \n",
              "0.05                  0.923623        0.890930\n",
              "0.10                  0.950277        0.910610\n",
              "0.20                  0.969798        0.921434"
            ]
          },
          "metadata": {
            "tags": []
          },
          "execution_count": 26
        }
      ]
    },
    {
      "metadata": {
        "colab_type": "code",
        "outputId": "37bdc0a6-220c-4f31-824b-48d336617e41",
        "id": "BzghwjPuDUnZ",
        "colab": {
          "base_uri": "https://localhost:8080/",
          "height": 142
        }
      },
      "cell_type": "code",
      "source": [
        "results.groupby('colsample_bytree').aggregate(np.mean)[['Train_AUC_SCORE','Test_AUC_SCORE']]"
      ],
      "execution_count": 0,
      "outputs": [
        {
          "output_type": "execute_result",
          "data": {
            "text/html": [
              "<div>\n",
              "<style scoped>\n",
              "    .dataframe tbody tr th:only-of-type {\n",
              "        vertical-align: middle;\n",
              "    }\n",
              "\n",
              "    .dataframe tbody tr th {\n",
              "        vertical-align: top;\n",
              "    }\n",
              "\n",
              "    .dataframe thead th {\n",
              "        text-align: right;\n",
              "    }\n",
              "</style>\n",
              "<table border=\"1\" class=\"dataframe\">\n",
              "  <thead>\n",
              "    <tr style=\"text-align: right;\">\n",
              "      <th></th>\n",
              "      <th>Train_AUC_SCORE</th>\n",
              "      <th>Test_AUC_SCORE</th>\n",
              "    </tr>\n",
              "    <tr>\n",
              "      <th>colsample_bytree</th>\n",
              "      <th></th>\n",
              "      <th></th>\n",
              "    </tr>\n",
              "  </thead>\n",
              "  <tbody>\n",
              "    <tr>\n",
              "      <th>0.50</th>\n",
              "      <td>0.947354</td>\n",
              "      <td>0.907797</td>\n",
              "    </tr>\n",
              "    <tr>\n",
              "      <th>0.75</th>\n",
              "      <td>0.948445</td>\n",
              "      <td>0.907519</td>\n",
              "    </tr>\n",
              "  </tbody>\n",
              "</table>\n",
              "</div>"
            ],
            "text/plain": [
              "                  Train_AUC_SCORE  Test_AUC_SCORE\n",
              "colsample_bytree                                 \n",
              "0.50                     0.947354        0.907797\n",
              "0.75                     0.948445        0.907519"
            ]
          },
          "metadata": {
            "tags": []
          },
          "execution_count": 27
        }
      ]
    },
    {
      "metadata": {
        "colab_type": "code",
        "id": "7ArLAy3VDUnf",
        "colab": {}
      },
      "cell_type": "code",
      "source": [
        "#prediciting for test values \n",
        "pred = gridModel.predict(bow_test)"
      ],
      "execution_count": 0,
      "outputs": []
    },
    {
      "metadata": {
        "id": "HK0Tear-oclz",
        "colab_type": "code",
        "colab": {}
      },
      "cell_type": "code",
      "source": [
        "tpred = gridModel.predict(X_train)"
      ],
      "execution_count": 0,
      "outputs": []
    },
    {
      "metadata": {
        "colab_type": "code",
        "outputId": "c0973ad9-53d3-439e-d8ad-6612feadeb36",
        "id": "SmqDim25DUnk",
        "colab": {
          "base_uri": "https://localhost:8080/",
          "height": 170
        }
      },
      "cell_type": "code",
      "source": [
        "print(classification_report(y_true = y_test,y_pred=pred))"
      ],
      "execution_count": 0,
      "outputs": [
        {
          "output_type": "stream",
          "text": [
            "              precision    recall  f1-score   support\n",
            "\n",
            "           0       0.82      0.50      0.62      2674\n",
            "           1       0.93      0.98      0.95     17326\n",
            "\n",
            "   micro avg       0.92      0.92      0.92     20000\n",
            "   macro avg       0.87      0.74      0.79     20000\n",
            "weighted avg       0.91      0.92      0.91     20000\n",
            "\n"
          ],
          "name": "stdout"
        }
      ]
    },
    {
      "metadata": {
        "colab_type": "code",
        "outputId": "a4eeed4f-1722-4381-c36a-477819fd7144",
        "id": "FtSL13K5DUns",
        "colab": {
          "base_uri": "https://localhost:8080/",
          "height": 364
        }
      },
      "cell_type": "code",
      "source": [
        "sns.heatmap(confusion_matrix(y_true = y_test,y_pred=pred),annot= True,fmt='d')"
      ],
      "execution_count": 0,
      "outputs": [
        {
          "output_type": "execute_result",
          "data": {
            "text/plain": [
              "<matplotlib.axes._subplots.AxesSubplot at 0x7f78865d44e0>"
            ]
          },
          "metadata": {
            "tags": []
          },
          "execution_count": 30
        },
        {
          "output_type": "display_data",
          "data": {
            "image/png": "[encoded data removed]",
            "text/plain": [
              "<matplotlib.figure.Figure at 0x7f7886534908>"
            ]
          },
          "metadata": {
            "tags": []
          }
        }
      ]
    },
    {
      "metadata": {
        "colab_type": "code",
        "outputId": "2a29578d-f118-4356-c149-650f8ebf157d",
        "id": "yMWzivbOoW5c",
        "colab": {
          "base_uri": "https://localhost:8080/",
          "height": 34
        }
      },
      "cell_type": "code",
      "source": [
        "print(\"TRAIN ERROR : \" + str(1-(accuracy_score(y_true = Y_train,y_pred=tpred))))"
      ],
      "execution_count": 0,
      "outputs": [
        {
          "output_type": "stream",
          "text": [
            "TRAIN ERROR : 0.0531625\n"
          ],
          "name": "stdout"
        }
      ]
    },
    {
      "metadata": {
        "colab_type": "code",
        "outputId": "572a27ce-ea81-4b5f-d640-712eacf2508d",
        "id": "lPg0QKkHoW5f",
        "colab": {
          "base_uri": "https://localhost:8080/",
          "height": 34
        }
      },
      "cell_type": "code",
      "source": [
        "print(\"TEST ERROR : \" + str(1-(accuracy_score(y_true = y_test,y_pred=pred))))"
      ],
      "execution_count": 0,
      "outputs": [
        {
          "output_type": "stream",
          "text": [
            "TEST ERROR : 0.08235000000000003\n"
          ],
          "name": "stdout"
        }
      ]
    },
    {
      "metadata": {
        "id": "737nD5lSEuAc",
        "colab_type": "text"
      },
      "cell_type": "markdown",
      "source": [
        "** Observations ** \n",
        "\n",
        "1. There is 3 % difference between the train and test error.\n",
        "2. The recall for negative reviews and  precision are considerably high.\n",
        "3. Final model : Grid Search best params : max Depth : 5 , n estimators 300"
      ]
    },
    {
      "metadata": {
        "id": "ArVWg641ExJX",
        "colab_type": "code",
        "colab": {}
      },
      "cell_type": "code",
      "source": [
        "model = xgb.XGBClassifier(max_depth = 5,n_estimators = 300,booster = 'gbtree',colsample_bytree=0.75,learning_rate = 0.2,objective = 'binary:logistic',eval_metric = 'auc') \n",
        "model.fit(X_train,Y_train)\n",
        "pred = model.predict(bow_test)"
      ],
      "execution_count": 0,
      "outputs": []
    },
    {
      "metadata": {
        "id": "QPA5YPK5DgmD",
        "colab_type": "code",
        "colab": {}
      },
      "cell_type": "code",
      "source": [
        "tpred = model.predict(X_train)"
      ],
      "execution_count": 0,
      "outputs": []
    },
    {
      "metadata": {
        "id": "6xp4b4qjFUpd",
        "colab_type": "code",
        "outputId": "fa70f723-e868-45e9-bc9d-f0d812f1129e",
        "colab": {
          "base_uri": "https://localhost:8080/",
          "height": 170
        }
      },
      "cell_type": "code",
      "source": [
        "print(classification_report(y_true = y_test,y_pred=pred))"
      ],
      "execution_count": 0,
      "outputs": [
        {
          "output_type": "stream",
          "text": [
            "              precision    recall  f1-score   support\n",
            "\n",
            "           0       0.82      0.50      0.62      2674\n",
            "           1       0.93      0.98      0.95     17326\n",
            "\n",
            "   micro avg       0.92      0.92      0.92     20000\n",
            "   macro avg       0.87      0.74      0.79     20000\n",
            "weighted avg       0.91      0.92      0.91     20000\n",
            "\n"
          ],
          "name": "stdout"
        }
      ]
    },
    {
      "metadata": {
        "id": "DTdKw8SwGIrw",
        "colab_type": "text"
      },
      "cell_type": "markdown",
      "source": [
        "** CONFUSION MATRIC : TEST  SET ** "
      ]
    },
    {
      "metadata": {
        "id": "cw8prqv9FdCu",
        "colab_type": "code",
        "outputId": "14838170-1349-4bb6-b3ab-73f7f421adf9",
        "colab": {
          "base_uri": "https://localhost:8080/",
          "height": 364
        }
      },
      "cell_type": "code",
      "source": [
        "sns.heatmap(confusion_matrix(y_true = y_test,y_pred=pred),annot= True,fmt='d')"
      ],
      "execution_count": 0,
      "outputs": [
        {
          "output_type": "execute_result",
          "data": {
            "text/plain": [
              "<matplotlib.axes._subplots.AxesSubplot at 0x7f78864f7f98>"
            ]
          },
          "metadata": {
            "tags": []
          },
          "execution_count": 39
        },
        {
          "output_type": "display_data",
          "data": {
            "image/png": "[encoded data removed]",
            "text/plain": [
              "<matplotlib.figure.Figure at 0x7f7888bc2da0>"
            ]
          },
          "metadata": {
            "tags": []
          }
        }
      ]
    },
    {
      "metadata": {
        "id": "sx5u0xVGGPfO",
        "colab_type": "text"
      },
      "cell_type": "markdown",
      "source": [
        "** CONFUSION MATRIX : TRAIN SET **"
      ]
    },
    {
      "metadata": {
        "id": "ZKkoFhZFGOgJ",
        "colab_type": "code",
        "outputId": "1a703e20-37d1-42b6-c07c-f24df146cbc2",
        "colab": {
          "base_uri": "https://localhost:8080/",
          "height": 364
        }
      },
      "cell_type": "code",
      "source": [
        "sns.heatmap(confusion_matrix(y_pred =tpred,y_true = Y_train),annot= True,fmt='d')"
      ],
      "execution_count": 0,
      "outputs": [
        {
          "output_type": "execute_result",
          "data": {
            "text/plain": [
              "<matplotlib.axes._subplots.AxesSubplot at 0x7f788b5aaef0>"
            ]
          },
          "metadata": {
            "tags": []
          },
          "execution_count": 40
        },
        {
          "output_type": "display_data",
          "data": {
            "image/png": "[encoded data removed]",
            "text/plain": [
              "<matplotlib.figure.Figure at 0x7f7886452978>"
            ]
          },
          "metadata": {
            "tags": []
          }
        }
      ]
    },
    {
      "metadata": {
        "id": "iQoYC9EAH8gH",
        "colab_type": "code",
        "outputId": "e07ad231-b8be-4cb0-b380-952b12d8a572",
        "colab": {
          "base_uri": "https://localhost:8080/",
          "height": 34
        }
      },
      "cell_type": "code",
      "source": [
        "print(\"TRAIN ERROR : \" + str(1-(accuracy_score(y_true = Y_train,y_pred=tpred))))"
      ],
      "execution_count": 0,
      "outputs": [
        {
          "output_type": "stream",
          "text": [
            "TRAIN ERROR : 0.0531625\n"
          ],
          "name": "stdout"
        }
      ]
    },
    {
      "metadata": {
        "id": "7fQnHDnVJpaR",
        "colab_type": "code",
        "outputId": "22f2eeef-c345-4a4d-9e64-4448183413ef",
        "colab": {
          "base_uri": "https://localhost:8080/",
          "height": 34
        }
      },
      "cell_type": "code",
      "source": [
        "print(\"TEST ERROR : \" + str(1-(accuracy_score(y_true = y_test,y_pred=pred))))"
      ],
      "execution_count": 0,
      "outputs": [
        {
          "output_type": "stream",
          "text": [
            "TEST ERROR : 0.08235000000000003\n"
          ],
          "name": "stdout"
        }
      ]
    },
    {
      "metadata": {
        "id": "NgDsVzG9GhkA",
        "colab_type": "text"
      },
      "cell_type": "markdown",
      "source": [
        "<br>\n",
        "<br>\n",
        "** FEATURE IMPORTANCE  : BAG OF WORDS **"
      ]
    },
    {
      "metadata": {
        "id": "alaY_XUdm8EV",
        "colab_type": "code",
        "colab": {}
      },
      "cell_type": "code",
      "source": [
        "features = bow.get_feature_names()"
      ],
      "execution_count": 0,
      "outputs": []
    },
    {
      "metadata": {
        "id": "jR6D19odnN3o",
        "colab_type": "code",
        "colab": {}
      },
      "cell_type": "code",
      "source": [
        "f_imp = dict(zip(features,model.feature_importances_))"
      ],
      "execution_count": 0,
      "outputs": []
    },
    {
      "metadata": {
        "id": "tj7jB3K0nXnJ",
        "colab_type": "code",
        "colab": {}
      },
      "cell_type": "code",
      "source": [
        "top_20 = {}\n",
        "for i in sorted(f_imp.items(), key=operator.itemgetter(1),reverse= True)[:20]:\n",
        "  top_20[i[0]] = i[1]"
      ],
      "execution_count": 0,
      "outputs": []
    },
    {
      "metadata": {
        "id": "Aprd1FJUpIVM",
        "colab_type": "code",
        "outputId": "c3514313-fc96-47f4-c6fd-4ae534096926",
        "colab": {
          "base_uri": "https://localhost:8080/",
          "height": 612
        }
      },
      "cell_type": "code",
      "source": [
        "plt.figure( figsize=(20,10))\n",
        "plt.imshow(wordcloud.WordCloud(background_color='white',width = 1000,height= 800).generate_from_frequencies(top_20))"
      ],
      "execution_count": 0,
      "outputs": [
        {
          "output_type": "execute_result",
          "data": {
            "text/plain": [
              "<matplotlib.image.AxesImage at 0x7f7886308be0>"
            ]
          },
          "metadata": {
            "tags": []
          },
          "execution_count": 46
        },
        {
          "output_type": "display_data",
          "data": {
            "image/png": "[encoded data removed]",
            "text/plain": [
              "<matplotlib.figure.Figure at 0x7f7886387ac8>"
            ]
          },
          "metadata": {
            "tags": []
          }
        }
      ]
    },
    {
      "metadata": {
        "id": "Ne6mK7YqHtP9",
        "colab_type": "text"
      },
      "cell_type": "markdown",
      "source": [
        "<br>\n",
        "<Br>\n",
        "  <br>\n",
        "  <br>"
      ]
    },
    {
      "metadata": {
        "id": "GjxYR6zXrlXZ",
        "colab_type": "text"
      },
      "cell_type": "markdown",
      "source": [
        "<Br>\n",
        "  <br>\n",
        "  \n",
        "  ## FEATURIZATION 2 : TFIDF \n",
        "\n",
        "** Importing the data **"
      ]
    },
    {
      "metadata": {
        "id": "VcWMmgH7qKPm",
        "colab_type": "code",
        "colab": {}
      },
      "cell_type": "code",
      "source": [
        "tf_train = pickle.load(open('/content/gdrive/My Drive/AppliedAI/Amazon Fine Food Reviews/train_tfidf.sav','rb'))\n",
        "tf_cv = pickle.load(open('/content/gdrive/My Drive/AppliedAI/Amazon Fine Food Reviews/cv_tfidf.sav','rb'))\n",
        "tf_test = pickle.load(open('/content/gdrive/My Drive/AppliedAI/Amazon Fine Food Reviews/test_tfidf.sav','rb'))\n",
        "y_train = pickle.load(open('/content/gdrive/My Drive/AppliedAI/Amazon Fine Food Reviews/y_train.sav','rb'))\n",
        "y_test = pickle.load(open('/content/gdrive/My Drive/AppliedAI/Amazon Fine Food Reviews/y_test.sav','rb'))\n",
        "y_cv = pickle.load(open('/content/gdrive/My Drive/AppliedAI/Amazon Fine Food Reviews/y_cv.sav','rb'))\n",
        "tfidf = pickle.load(open('/content/gdrive/My Drive/AppliedAI/Amazon Fine Food Reviews/tfidf.sav','rb'))"
      ],
      "execution_count": 0,
      "outputs": []
    },
    {
      "metadata": {
        "id": "ajtOIx5fMMOg",
        "colab_type": "text"
      },
      "cell_type": "markdown",
      "source": [
        "** CONCATENATING TRAIN AND CV  TO CREATE DATASET FOR CROSS VALIDATION** "
      ]
    },
    {
      "metadata": {
        "id": "V4mttv0nrf0N",
        "colab_type": "code",
        "colab": {}
      },
      "cell_type": "code",
      "source": [
        "X_train = vstack([tf_train,tf_cv])\n",
        "Y_train = pd.concat([y_train,y_cv],axis = 0,ignore_index = True)"
      ],
      "execution_count": 0,
      "outputs": []
    },
    {
      "metadata": {
        "id": "eGWOEDwauChT",
        "colab_type": "code",
        "outputId": "e135a738-310d-43e5-979b-5ff436d6a3d1",
        "colab": {
          "base_uri": "https://localhost:8080/",
          "height": 51
        }
      },
      "cell_type": "code",
      "source": [
        "X_train"
      ],
      "execution_count": 0,
      "outputs": [
        {
          "output_type": "execute_result",
          "data": {
            "text/plain": [
              "<80000x29133 sparse matrix of type '<class 'numpy.float64'>'\n",
              "\twith 2424650 stored elements in Compressed Sparse Row format>"
            ]
          },
          "metadata": {
            "tags": []
          },
          "execution_count": 49
        }
      ]
    },
    {
      "metadata": {
        "id": "ukreGlSqS39B",
        "colab_type": "text"
      },
      "cell_type": "markdown",
      "source": [
        "** PERFORMING GRID SEARCH **\n",
        "\n",
        "** PARAM GRID : ** \n",
        "\n",
        "Constants:\n",
        "1. Booster : Gbtree\n",
        "2. eval-metric : auc\n",
        "\n",
        "Variables: \n",
        "\n",
        "1. Learning Rate : 0.1,0.2,0.07,0.3\n",
        "2. max Depth  : 4,5,6\n",
        "3. N_estimators : 100,125,150,175,200,225,250,275,300\n",
        "4. colsample_bytree :0.5,0.75\n"
      ]
    },
    {
      "metadata": {
        "id": "0ow2xe3TH3Ka",
        "colab_type": "code",
        "colab": {}
      },
      "cell_type": "code",
      "source": [
        "params = {'learning_rate':[0.07,0.1,0.2,0.3],'max_depth':[4,5,6],'n_estimators':[100,125,150,175,200,225,250,275,300],'colsample_bytree':[0.5,0.75]}"
      ],
      "execution_count": 0,
      "outputs": []
    },
    {
      "metadata": {
        "id": "dmVzsO-ITXTs",
        "colab_type": "code",
        "colab": {}
      },
      "cell_type": "code",
      "source": [
        "gridModel = GridSearchCV(estimator = xgb.XGBClassifier(booster = 'gbtree',eval_metric = 'auc'),param_grid = params,n_jobs =-1,scoring='roc_auc',verbose=True,cv = 2)"
      ],
      "execution_count": 0,
      "outputs": []
    },
    {
      "metadata": {
        "id": "7TA9DkAWTb6x",
        "colab_type": "code",
        "outputId": "d419c38c-bbbe-4327-ccec-5542ebb9be8a",
        "colab": {
          "base_uri": "https://localhost:8080/",
          "height": 326
        }
      },
      "cell_type": "code",
      "source": [
        "gridModel.fit(X_train,Y_train)"
      ],
      "execution_count": 0,
      "outputs": [
        {
          "output_type": "stream",
          "text": [
            "Fitting 2 folds for each of 216 candidates, totalling 432 fits\n"
          ],
          "name": "stdout"
        },
        {
          "output_type": "stream",
          "text": [
            "[Parallel(n_jobs=-1)]: Using backend LokyBackend with 2 concurrent workers.\n",
            "[Parallel(n_jobs=-1)]: Done  46 tasks      | elapsed: 15.7min\n",
            "[Parallel(n_jobs=-1)]: Done 196 tasks      | elapsed: 70.4min\n",
            "[Parallel(n_jobs=-1)]: Done 432 out of 432 | elapsed: 187.4min finished\n"
          ],
          "name": "stderr"
        },
        {
          "output_type": "execute_result",
          "data": {
            "text/plain": [
              "GridSearchCV(cv=2, error_score='raise-deprecating',\n",
              "       estimator=XGBClassifier(base_score=0.5, booster='gbtree', colsample_bylevel=1,\n",
              "       colsample_bytree=1, eval_metric='auc', gamma=0, learning_rate=0.1,\n",
              "       max_delta_step=0, max_depth=3, min_child_weight=1, missing=None,\n",
              "       n_estimators=100, n_jobs=1, nthread=None,\n",
              "       objective='binary:logistic', random_state=0, reg_alpha=0,\n",
              "       reg_lambda=1, scale_pos_weight=1, seed=None, silent=True,\n",
              "       subsample=1),\n",
              "       fit_params=None, iid='warn', n_jobs=-1,\n",
              "       param_grid={'learning_rate': [0.07, 0.1, 0.2, 0.3], 'max_depth': [4, 5, 6], 'n_estimators': [100, 125, 150, 175, 200, 225, 250, 275, 300], 'colsample_bytree': [0.5, 0.75]},\n",
              "       pre_dispatch='2*n_jobs', refit=True, return_train_score='warn',\n",
              "       scoring='roc_auc', verbose=True)"
            ]
          },
          "metadata": {
            "tags": []
          },
          "execution_count": 52
        }
      ]
    },
    {
      "metadata": {
        "colab_type": "code",
        "outputId": "a7ee46b5-2fd5-4102-907d-2b5f63d4e45f",
        "id": "Ibvl9Sh1Y_cJ",
        "colab": {
          "base_uri": "https://localhost:8080/",
          "height": 34
        }
      },
      "cell_type": "code",
      "source": [
        "#best auc score \n",
        "gridModel.best_score_"
      ],
      "execution_count": 0,
      "outputs": [
        {
          "output_type": "execute_result",
          "data": {
            "text/plain": [
              "0.9305696189889819"
            ]
          },
          "metadata": {
            "tags": []
          },
          "execution_count": 53
        }
      ]
    },
    {
      "metadata": {
        "colab_type": "code",
        "outputId": "e126c7d5-ac10-4872-a5c3-a3ecf2be52d0",
        "id": "QA8wUGJCY_cN",
        "colab": {
          "base_uri": "https://localhost:8080/",
          "height": 85
        }
      },
      "cell_type": "code",
      "source": [
        "#best params \n",
        "gridModel.best_params_"
      ],
      "execution_count": 0,
      "outputs": [
        {
          "output_type": "execute_result",
          "data": {
            "text/plain": [
              "{'colsample_bytree': 0.75,\n",
              " 'learning_rate': 0.3,\n",
              " 'max_depth': 4,\n",
              " 'n_estimators': 300}"
            ]
          },
          "metadata": {
            "tags": []
          },
          "execution_count": 54
        }
      ]
    },
    {
      "metadata": {
        "colab_type": "text",
        "id": "tLVAjWayY_cU"
      },
      "cell_type": "markdown",
      "source": [
        "** Preparing the dataframe for visualisaiton ** "
      ]
    },
    {
      "metadata": {
        "colab_type": "code",
        "id": "YQ2K-9ZKY_cV",
        "colab": {}
      },
      "cell_type": "code",
      "source": [
        "results = pd.DataFrame(gridModel.cv_results_['params'])"
      ],
      "execution_count": 0,
      "outputs": []
    },
    {
      "metadata": {
        "colab_type": "code",
        "id": "uAVoJBImY_cX",
        "colab": {}
      },
      "cell_type": "code",
      "source": [
        "results['Train_AUC_SCORE'] = gridModel.cv_results_['mean_train_score']\n",
        "results['Test_AUC_SCORE'] = gridModel.cv_results_['mean_test_score']"
      ],
      "execution_count": 0,
      "outputs": []
    },
    {
      "metadata": {
        "colab_type": "text",
        "id": "zI_dqC2qY_cZ"
      },
      "cell_type": "markdown",
      "source": [
        "** Analysis and visualisation of influence of various parameters on the AUC score ** "
      ]
    },
    {
      "metadata": {
        "colab_type": "text",
        "id": "hRon0xvHY_cb"
      },
      "cell_type": "markdown",
      "source": [
        "** HEATMAP : TEST_AUC_SCORE **"
      ]
    },
    {
      "metadata": {
        "colab_type": "code",
        "outputId": "804149cb-a899-429e-9b28-356f6a2fe2ef",
        "id": "Iu226oe4Y_cb",
        "colab": {
          "base_uri": "https://localhost:8080/",
          "height": 378
        }
      },
      "cell_type": "code",
      "source": [
        "sns.heatmap(results.pivot_table(index = \"n_estimators\",columns = \"max_depth\",values = \"Test_AUC_SCORE\"),annot= True)"
      ],
      "execution_count": 0,
      "outputs": [
        {
          "output_type": "execute_result",
          "data": {
            "text/plain": [
              "<matplotlib.axes._subplots.AxesSubplot at 0x7f78860400f0>"
            ]
          },
          "metadata": {
            "tags": []
          },
          "execution_count": 57
        },
        {
          "output_type": "display_data",
          "data": {
            "image/png": "[encoded data removed]",
            "text/plain": [
              "<matplotlib.figure.Figure at 0x7f78863a9208>"
            ]
          },
          "metadata": {
            "tags": []
          }
        }
      ]
    },
    {
      "metadata": {
        "colab_type": "text",
        "id": "R9PdF3JkY_ch"
      },
      "cell_type": "markdown",
      "source": [
        "** HEATMAP : TRAIN_AUC_SCORE ** "
      ]
    },
    {
      "metadata": {
        "colab_type": "code",
        "outputId": "750341fb-624a-42af-e731-bb364c205ddd",
        "id": "8TSxE6BBY_ci",
        "colab": {
          "base_uri": "https://localhost:8080/",
          "height": 378
        }
      },
      "cell_type": "code",
      "source": [
        "sns.heatmap(results.pivot_table(index = \"n_estimators\",columns = \"max_depth\",values = \"Train_AUC_SCORE\"),annot= True)"
      ],
      "execution_count": 0,
      "outputs": [
        {
          "output_type": "execute_result",
          "data": {
            "text/plain": [
              "<matplotlib.axes._subplots.AxesSubplot at 0x7f7885f76f60>"
            ]
          },
          "metadata": {
            "tags": []
          },
          "execution_count": 58
        },
        {
          "output_type": "display_data",
          "data": {
            "image/png": "[encoded data removed]",
            "text/plain": [
              "<matplotlib.figure.Figure at 0x7f788458ca58>"
            ]
          },
          "metadata": {
            "tags": []
          }
        }
      ]
    },
    {
      "metadata": {
        "colab_type": "text",
        "id": "MpDha_b0Y_cn"
      },
      "cell_type": "markdown",
      "source": [
        "** IMPACT OF COLUMN SAMPLING AND LEARNING RATE ** "
      ]
    },
    {
      "metadata": {
        "colab_type": "code",
        "outputId": "7faf5d51-72b0-4513-e7ce-eed9648f19c6",
        "id": "PGD69DWuY_cn",
        "colab": {
          "base_uri": "https://localhost:8080/",
          "height": 204
        }
      },
      "cell_type": "code",
      "source": [
        "results.groupby('learning_rate').aggregate(np.mean)[['Train_AUC_SCORE','Test_AUC_SCORE']]"
      ],
      "execution_count": 0,
      "outputs": [
        {
          "output_type": "execute_result",
          "data": {
            "text/html": [
              "<div>\n",
              "<style scoped>\n",
              "    .dataframe tbody tr th:only-of-type {\n",
              "        vertical-align: middle;\n",
              "    }\n",
              "\n",
              "    .dataframe tbody tr th {\n",
              "        vertical-align: top;\n",
              "    }\n",
              "\n",
              "    .dataframe thead th {\n",
              "        text-align: right;\n",
              "    }\n",
              "</style>\n",
              "<table border=\"1\" class=\"dataframe\">\n",
              "  <thead>\n",
              "    <tr style=\"text-align: right;\">\n",
              "      <th></th>\n",
              "      <th>Train_AUC_SCORE</th>\n",
              "      <th>Test_AUC_SCORE</th>\n",
              "    </tr>\n",
              "    <tr>\n",
              "      <th>learning_rate</th>\n",
              "      <th></th>\n",
              "      <th></th>\n",
              "    </tr>\n",
              "  </thead>\n",
              "  <tbody>\n",
              "    <tr>\n",
              "      <th>0.07</th>\n",
              "      <td>0.947032</td>\n",
              "      <td>0.904116</td>\n",
              "    </tr>\n",
              "    <tr>\n",
              "      <th>0.10</th>\n",
              "      <td>0.959471</td>\n",
              "      <td>0.913191</td>\n",
              "    </tr>\n",
              "    <tr>\n",
              "      <th>0.20</th>\n",
              "      <td>0.977500</td>\n",
              "      <td>0.923914</td>\n",
              "    </tr>\n",
              "    <tr>\n",
              "      <th>0.30</th>\n",
              "      <td>0.984740</td>\n",
              "      <td>0.926523</td>\n",
              "    </tr>\n",
              "  </tbody>\n",
              "</table>\n",
              "</div>"
            ],
            "text/plain": [
              "               Train_AUC_SCORE  Test_AUC_SCORE\n",
              "learning_rate                                 \n",
              "0.07                  0.947032        0.904116\n",
              "0.10                  0.959471        0.913191\n",
              "0.20                  0.977500        0.923914\n",
              "0.30                  0.984740        0.926523"
            ]
          },
          "metadata": {
            "tags": []
          },
          "execution_count": 59
        }
      ]
    },
    {
      "metadata": {
        "colab_type": "code",
        "outputId": "f4ffde17-bd4f-4b80-80f5-1e3b2bc4fbff",
        "id": "iXma6a_OY_cr",
        "colab": {
          "base_uri": "https://localhost:8080/",
          "height": 142
        }
      },
      "cell_type": "code",
      "source": [
        "results.groupby('colsample_bytree').aggregate(np.mean)[['Train_AUC_SCORE','Test_AUC_SCORE']]"
      ],
      "execution_count": 0,
      "outputs": [
        {
          "output_type": "execute_result",
          "data": {
            "text/html": [
              "<div>\n",
              "<style scoped>\n",
              "    .dataframe tbody tr th:only-of-type {\n",
              "        vertical-align: middle;\n",
              "    }\n",
              "\n",
              "    .dataframe tbody tr th {\n",
              "        vertical-align: top;\n",
              "    }\n",
              "\n",
              "    .dataframe thead th {\n",
              "        text-align: right;\n",
              "    }\n",
              "</style>\n",
              "<table border=\"1\" class=\"dataframe\">\n",
              "  <thead>\n",
              "    <tr style=\"text-align: right;\">\n",
              "      <th></th>\n",
              "      <th>Train_AUC_SCORE</th>\n",
              "      <th>Test_AUC_SCORE</th>\n",
              "    </tr>\n",
              "    <tr>\n",
              "      <th>colsample_bytree</th>\n",
              "      <th></th>\n",
              "      <th></th>\n",
              "    </tr>\n",
              "  </thead>\n",
              "  <tbody>\n",
              "    <tr>\n",
              "      <th>0.50</th>\n",
              "      <td>0.966717</td>\n",
              "      <td>0.916787</td>\n",
              "    </tr>\n",
              "    <tr>\n",
              "      <th>0.75</th>\n",
              "      <td>0.967655</td>\n",
              "      <td>0.917085</td>\n",
              "    </tr>\n",
              "  </tbody>\n",
              "</table>\n",
              "</div>"
            ],
            "text/plain": [
              "                  Train_AUC_SCORE  Test_AUC_SCORE\n",
              "colsample_bytree                                 \n",
              "0.50                     0.966717        0.916787\n",
              "0.75                     0.967655        0.917085"
            ]
          },
          "metadata": {
            "tags": []
          },
          "execution_count": 60
        }
      ]
    },
    {
      "metadata": {
        "id": "g0BC_8Fmhe0e",
        "colab_type": "code",
        "colab": {}
      },
      "cell_type": "code",
      "source": [
        "pred = gridModel.predict(tf_test)\n",
        "tpred = gridModel.predict(X_train)"
      ],
      "execution_count": 0,
      "outputs": []
    },
    {
      "metadata": {
        "id": "QWKaUAtjnjgL",
        "colab_type": "code",
        "outputId": "4926e53f-d2e1-4be3-c14c-5c2533687291",
        "colab": {
          "base_uri": "https://localhost:8080/",
          "height": 170
        }
      },
      "cell_type": "code",
      "source": [
        "print(classification_report(y_true=y_test,y_pred=pred))"
      ],
      "execution_count": 0,
      "outputs": [
        {
          "output_type": "stream",
          "text": [
            "              precision    recall  f1-score   support\n",
            "\n",
            "           0       0.81      0.51      0.62      2674\n",
            "           1       0.93      0.98      0.95     17326\n",
            "\n",
            "   micro avg       0.92      0.92      0.92     20000\n",
            "   macro avg       0.87      0.75      0.79     20000\n",
            "weighted avg       0.91      0.92      0.91     20000\n",
            "\n"
          ],
          "name": "stdout"
        }
      ]
    },
    {
      "metadata": {
        "colab_type": "code",
        "outputId": "76643b27-4dab-47ca-b7bf-a9517af30d1a",
        "id": "EkEarmgQfye3",
        "colab": {
          "base_uri": "https://localhost:8080/",
          "height": 34
        }
      },
      "cell_type": "code",
      "source": [
        "print(\"TRAIN ERROR : \" + str(1-(accuracy_score(y_true = Y_train,y_pred=tpred))))"
      ],
      "execution_count": 0,
      "outputs": [
        {
          "output_type": "stream",
          "text": [
            "TRAIN ERROR : 0.047137500000000054\n"
          ],
          "name": "stdout"
        }
      ]
    },
    {
      "metadata": {
        "colab_type": "code",
        "outputId": "669715f8-a33b-4913-a6a3-305e9f1e695e",
        "id": "iOM_otZIfye8",
        "colab": {
          "base_uri": "https://localhost:8080/",
          "height": 34
        }
      },
      "cell_type": "code",
      "source": [
        "print(\"TEST ERROR : \" + str(1-(accuracy_score(y_true = y_test,y_pred=pred))))"
      ],
      "execution_count": 0,
      "outputs": [
        {
          "output_type": "stream",
          "text": [
            "TEST ERROR : 0.08184999999999998\n"
          ],
          "name": "stdout"
        }
      ]
    },
    {
      "metadata": {
        "id": "xX6Nxyf6erA9",
        "colab_type": "text"
      },
      "cell_type": "markdown",
      "source": [
        "** Observations :**\n",
        "\n",
        "1. The train and test error difference are not very wide\n",
        "2. There is a good overall F1 score of negative reviews.\n",
        "3. Final Model : Grid Search Best estimators : max_depth  = 4, n_estimators = 300"
      ]
    },
    {
      "metadata": {
        "id": "Obbssd6xpEUm",
        "colab_type": "text"
      },
      "cell_type": "markdown",
      "source": [
        "** FINAL MODEL : **"
      ]
    },
    {
      "metadata": {
        "colab_type": "code",
        "id": "d6STorM-pXaI",
        "colab": {}
      },
      "cell_type": "code",
      "source": [
        "model = xgb.XGBClassifier(max_depth = 4,n_estimators = 300,booster = 'gbtree',colsample_bytree=0.75,learning_rate = 0.3,objective = 'binary:logistic',eval_metric = 'auc') \n",
        "model.fit(X_train,Y_train)\n",
        "pred = model.predict(tf_test)"
      ],
      "execution_count": 0,
      "outputs": []
    },
    {
      "metadata": {
        "colab_type": "code",
        "id": "sMsBHiUcpXaK",
        "colab": {}
      },
      "cell_type": "code",
      "source": [
        "tpred = model.predict(X_train)"
      ],
      "execution_count": 0,
      "outputs": []
    },
    {
      "metadata": {
        "colab_type": "code",
        "outputId": "8af616b2-c386-4c1e-b481-f3f5f6f0669c",
        "id": "0ZcSeqiqpXaO",
        "colab": {
          "base_uri": "https://localhost:8080/",
          "height": 170
        }
      },
      "cell_type": "code",
      "source": [
        "print(classification_report(y_true = y_test,y_pred=pred))"
      ],
      "execution_count": 0,
      "outputs": [
        {
          "output_type": "stream",
          "text": [
            "              precision    recall  f1-score   support\n",
            "\n",
            "           0       0.81      0.51      0.62      2674\n",
            "           1       0.93      0.98      0.95     17326\n",
            "\n",
            "   micro avg       0.92      0.92      0.92     20000\n",
            "   macro avg       0.87      0.75      0.79     20000\n",
            "weighted avg       0.91      0.92      0.91     20000\n",
            "\n"
          ],
          "name": "stdout"
        }
      ]
    },
    {
      "metadata": {
        "colab_type": "text",
        "id": "gSjZp0nEpXaT"
      },
      "cell_type": "markdown",
      "source": [
        "** CONFUSION MATRIC : TEST  SET ** "
      ]
    },
    {
      "metadata": {
        "colab_type": "code",
        "outputId": "2ce271ad-0409-4cf7-977d-6bd54d5c6075",
        "id": "lHHmuRDYpXaV",
        "colab": {
          "base_uri": "https://localhost:8080/",
          "height": 364
        }
      },
      "cell_type": "code",
      "source": [
        "sns.heatmap(confusion_matrix(y_true = y_test,y_pred=pred),annot= True,fmt='d')"
      ],
      "execution_count": 0,
      "outputs": [
        {
          "output_type": "execute_result",
          "data": {
            "text/plain": [
              "<matplotlib.axes._subplots.AxesSubplot at 0x7f788b59a630>"
            ]
          },
          "metadata": {
            "tags": []
          },
          "execution_count": 69
        },
        {
          "output_type": "display_data",
          "data": {
            "image/png": "[encoded data removed]",
            "text/plain": [
              "<matplotlib.figure.Figure at 0x7f788b5ce278>"
            ]
          },
          "metadata": {
            "tags": []
          }
        }
      ]
    },
    {
      "metadata": {
        "colab_type": "text",
        "id": "jD8ajqf8pXaZ"
      },
      "cell_type": "markdown",
      "source": [
        "** CONFUSION MATRIX : TRAIN SET **"
      ]
    },
    {
      "metadata": {
        "colab_type": "code",
        "outputId": "63afd350-0b65-4bd5-fc24-c7ae7c62b877",
        "id": "yDueMNkDpXaa",
        "colab": {
          "base_uri": "https://localhost:8080/",
          "height": 364
        }
      },
      "cell_type": "code",
      "source": [
        "sns.heatmap(confusion_matrix(y_pred =tpred,y_true = Y_train),annot= True,fmt='d')"
      ],
      "execution_count": 0,
      "outputs": [
        {
          "output_type": "execute_result",
          "data": {
            "text/plain": [
              "<matplotlib.axes._subplots.AxesSubplot at 0x7f78845562b0>"
            ]
          },
          "metadata": {
            "tags": []
          },
          "execution_count": 70
        },
        {
          "output_type": "display_data",
          "data": {
            "image/png": "[encoded data removed]",
            "text/plain": [
              "<matplotlib.figure.Figure at 0x7f788b5aa5c0>"
            ]
          },
          "metadata": {
            "tags": []
          }
        }
      ]
    },
    {
      "metadata": {
        "colab_type": "code",
        "outputId": "b4ed1163-e2b0-472f-fdc6-2ce2b124e2c0",
        "id": "lY8xtibspXaf",
        "colab": {
          "base_uri": "https://localhost:8080/",
          "height": 34
        }
      },
      "cell_type": "code",
      "source": [
        "print(\"TRAIN ERROR : \" + str(1-(accuracy_score(y_true = Y_train,y_pred=tpred))))"
      ],
      "execution_count": 0,
      "outputs": [
        {
          "output_type": "stream",
          "text": [
            "TRAIN ERROR : 0.047137500000000054\n"
          ],
          "name": "stdout"
        }
      ]
    },
    {
      "metadata": {
        "colab_type": "code",
        "outputId": "40316aba-6f6a-4154-d8f9-b7fbc41e0a70",
        "id": "42tg4HqcpXam",
        "colab": {
          "base_uri": "https://localhost:8080/",
          "height": 34
        }
      },
      "cell_type": "code",
      "source": [
        "print(\"TEST ERROR : \" + str(1-(accuracy_score(y_true = y_test,y_pred=pred))))"
      ],
      "execution_count": 0,
      "outputs": [
        {
          "output_type": "stream",
          "text": [
            "TEST ERROR : 0.08184999999999998\n"
          ],
          "name": "stdout"
        }
      ]
    },
    {
      "metadata": {
        "colab_type": "text",
        "id": "-7MlADg7rzmq"
      },
      "cell_type": "markdown",
      "source": [
        "<br>\n",
        "<br>\n",
        "** FEATURE IMPORTANCE  : TFIDF **"
      ]
    },
    {
      "metadata": {
        "colab_type": "code",
        "id": "_HmJS1q3rzms",
        "colab": {}
      },
      "cell_type": "code",
      "source": [
        "features = tfidf.get_feature_names()"
      ],
      "execution_count": 0,
      "outputs": []
    },
    {
      "metadata": {
        "colab_type": "code",
        "id": "xzeqUNc8rzmu",
        "colab": {}
      },
      "cell_type": "code",
      "source": [
        "f_imp = dict(zip(features,model.feature_importances_))"
      ],
      "execution_count": 0,
      "outputs": []
    },
    {
      "metadata": {
        "colab_type": "code",
        "id": "5LtsDEn4rzmx",
        "colab": {}
      },
      "cell_type": "code",
      "source": [
        "top_20 = {}\n",
        "for i in sorted(f_imp.items(), key=operator.itemgetter(1),reverse= True)[:20]:\n",
        "  top_20[i[0]] = i[1]"
      ],
      "execution_count": 0,
      "outputs": []
    },
    {
      "metadata": {
        "colab_type": "code",
        "outputId": "e3effbd3-4a9f-49e6-a066-e0e786b40739",
        "id": "k2s-PXs0rzmz",
        "colab": {
          "base_uri": "https://localhost:8080/",
          "height": 612
        }
      },
      "cell_type": "code",
      "source": [
        "plt.figure( figsize=(20,10))\n",
        "plt.imshow(wordcloud.WordCloud(background_color='white',width = 1000,height= 800).generate_from_frequencies(top_20))"
      ],
      "execution_count": 0,
      "outputs": [
        {
          "output_type": "execute_result",
          "data": {
            "text/plain": [
              "<matplotlib.image.AxesImage at 0x7f7886317c50>"
            ]
          },
          "metadata": {
            "tags": []
          },
          "execution_count": 76
        },
        {
          "output_type": "display_data",
          "data": {
            "image/png": "[encoded data removed]",
            "text/plain": [
              "<matplotlib.figure.Figure at 0x7f78843c5dd8>"
            ]
          },
          "metadata": {
            "tags": []
          }
        }
      ]
    },
    {
      "metadata": {
        "id": "wNZrbx_bW8IO",
        "colab_type": "text"
      },
      "cell_type": "markdown",
      "source": [
        "<br>\n",
        "<Br>\n",
        "  <br>"
      ]
    },
    {
      "metadata": {
        "id": "wQAgxAauXYPH",
        "colab_type": "text"
      },
      "cell_type": "markdown",
      "source": [
        "## FEATURIZATION 3 : WORD2VEC\n",
        "\n",
        "** Importing the data **"
      ]
    },
    {
      "metadata": {
        "id": "0R9VmQFadnA4",
        "colab_type": "code",
        "colab": {}
      },
      "cell_type": "code",
      "source": [
        "w2v_train = pickle.load(open('/content/gdrive/My Drive/AppliedAI/Amazon Fine Food Reviews/avg_word2vec_train.sav','rb'))\n",
        "w2v_test = pickle.load(open('/content/gdrive/My Drive/AppliedAI/Amazon Fine Food Reviews/avg_word2vec_test.sav','rb'))"
      ],
      "execution_count": 0,
      "outputs": []
    },
    {
      "metadata": {
        "id": "1JoUNgQBeHYq",
        "colab_type": "code",
        "outputId": "009c7fdf-83d4-4e5b-a240-c7a16eaa285f",
        "colab": {
          "base_uri": "https://localhost:8080/",
          "height": 270
        }
      },
      "cell_type": "code",
      "source": [
        "w2v_train.head()"
      ],
      "execution_count": 0,
      "outputs": [
        {
          "output_type": "execute_result",
          "data": {
            "text/html": [
              "<div>\n",
              "<style scoped>\n",
              "    .dataframe tbody tr th:only-of-type {\n",
              "        vertical-align: middle;\n",
              "    }\n",
              "\n",
              "    .dataframe tbody tr th {\n",
              "        vertical-align: top;\n",
              "    }\n",
              "\n",
              "    .dataframe thead th {\n",
              "        text-align: right;\n",
              "    }\n",
              "</style>\n",
              "<table border=\"1\" class=\"dataframe\">\n",
              "  <thead>\n",
              "    <tr style=\"text-align: right;\">\n",
              "      <th></th>\n",
              "      <th>Vector 1</th>\n",
              "      <th>Vector 2</th>\n",
              "      <th>Vector 3</th>\n",
              "      <th>Vector 4</th>\n",
              "      <th>Vector 5</th>\n",
              "      <th>Vector 6</th>\n",
              "      <th>Vector 7</th>\n",
              "      <th>Vector 8</th>\n",
              "      <th>Vector 9</th>\n",
              "      <th>Vector 10</th>\n",
              "      <th>...</th>\n",
              "      <th>Vector 42</th>\n",
              "      <th>Vector 43</th>\n",
              "      <th>Vector 44</th>\n",
              "      <th>Vector 45</th>\n",
              "      <th>Vector 46</th>\n",
              "      <th>Vector 47</th>\n",
              "      <th>Vector 48</th>\n",
              "      <th>Vector 49</th>\n",
              "      <th>Vector 50</th>\n",
              "      <th>Score</th>\n",
              "    </tr>\n",
              "  </thead>\n",
              "  <tbody>\n",
              "    <tr>\n",
              "      <th>0</th>\n",
              "      <td>0.121816</td>\n",
              "      <td>0.112731</td>\n",
              "      <td>0.522326</td>\n",
              "      <td>0.513944</td>\n",
              "      <td>0.014699</td>\n",
              "      <td>-0.510498</td>\n",
              "      <td>0.332466</td>\n",
              "      <td>-0.006182</td>\n",
              "      <td>0.510940</td>\n",
              "      <td>0.342244</td>\n",
              "      <td>...</td>\n",
              "      <td>-0.260098</td>\n",
              "      <td>-0.572254</td>\n",
              "      <td>-0.001088</td>\n",
              "      <td>0.079892</td>\n",
              "      <td>-0.092751</td>\n",
              "      <td>0.165952</td>\n",
              "      <td>0.354566</td>\n",
              "      <td>0.263851</td>\n",
              "      <td>-0.243470</td>\n",
              "      <td>1</td>\n",
              "    </tr>\n",
              "    <tr>\n",
              "      <th>1</th>\n",
              "      <td>0.317572</td>\n",
              "      <td>0.159626</td>\n",
              "      <td>0.343828</td>\n",
              "      <td>0.280532</td>\n",
              "      <td>0.477560</td>\n",
              "      <td>-0.579655</td>\n",
              "      <td>-0.058227</td>\n",
              "      <td>0.002837</td>\n",
              "      <td>0.070905</td>\n",
              "      <td>-0.068868</td>\n",
              "      <td>...</td>\n",
              "      <td>-0.401967</td>\n",
              "      <td>-0.649971</td>\n",
              "      <td>-0.189747</td>\n",
              "      <td>0.091126</td>\n",
              "      <td>-0.250324</td>\n",
              "      <td>-0.020535</td>\n",
              "      <td>0.567875</td>\n",
              "      <td>0.291098</td>\n",
              "      <td>-0.287811</td>\n",
              "      <td>1</td>\n",
              "    </tr>\n",
              "    <tr>\n",
              "      <th>2</th>\n",
              "      <td>0.113726</td>\n",
              "      <td>-0.240282</td>\n",
              "      <td>0.779548</td>\n",
              "      <td>0.906329</td>\n",
              "      <td>0.285768</td>\n",
              "      <td>-0.143818</td>\n",
              "      <td>0.310017</td>\n",
              "      <td>-0.139928</td>\n",
              "      <td>0.367076</td>\n",
              "      <td>0.384066</td>\n",
              "      <td>...</td>\n",
              "      <td>-0.153836</td>\n",
              "      <td>-0.216731</td>\n",
              "      <td>-0.155472</td>\n",
              "      <td>0.010060</td>\n",
              "      <td>-0.179123</td>\n",
              "      <td>0.395463</td>\n",
              "      <td>-0.208602</td>\n",
              "      <td>-0.294666</td>\n",
              "      <td>0.091154</td>\n",
              "      <td>1</td>\n",
              "    </tr>\n",
              "    <tr>\n",
              "      <th>3</th>\n",
              "      <td>0.601365</td>\n",
              "      <td>0.113279</td>\n",
              "      <td>0.712399</td>\n",
              "      <td>0.237966</td>\n",
              "      <td>0.321083</td>\n",
              "      <td>-0.329348</td>\n",
              "      <td>0.301765</td>\n",
              "      <td>-0.035661</td>\n",
              "      <td>0.460765</td>\n",
              "      <td>-0.075949</td>\n",
              "      <td>...</td>\n",
              "      <td>-0.091186</td>\n",
              "      <td>-0.206183</td>\n",
              "      <td>0.062646</td>\n",
              "      <td>0.104041</td>\n",
              "      <td>0.018641</td>\n",
              "      <td>0.299300</td>\n",
              "      <td>-0.000715</td>\n",
              "      <td>-0.171055</td>\n",
              "      <td>-0.046017</td>\n",
              "      <td>1</td>\n",
              "    </tr>\n",
              "    <tr>\n",
              "      <th>4</th>\n",
              "      <td>0.110524</td>\n",
              "      <td>-0.161300</td>\n",
              "      <td>0.858878</td>\n",
              "      <td>1.161848</td>\n",
              "      <td>0.425219</td>\n",
              "      <td>-0.414926</td>\n",
              "      <td>0.006795</td>\n",
              "      <td>-0.259896</td>\n",
              "      <td>0.324213</td>\n",
              "      <td>0.731779</td>\n",
              "      <td>...</td>\n",
              "      <td>-0.187014</td>\n",
              "      <td>-0.071594</td>\n",
              "      <td>-0.525720</td>\n",
              "      <td>0.221244</td>\n",
              "      <td>-0.213230</td>\n",
              "      <td>0.498298</td>\n",
              "      <td>-0.212721</td>\n",
              "      <td>-0.079328</td>\n",
              "      <td>0.490372</td>\n",
              "      <td>1</td>\n",
              "    </tr>\n",
              "  </tbody>\n",
              "</table>\n",
              "<p>5 rows × 51 columns</p>\n",
              "</div>"
            ],
            "text/plain": [
              "   Vector 1  Vector 2  Vector 3  Vector 4  Vector 5  Vector 6  Vector 7  \\\n",
              "0  0.121816  0.112731  0.522326  0.513944  0.014699 -0.510498  0.332466   \n",
              "1  0.317572  0.159626  0.343828  0.280532  0.477560 -0.579655 -0.058227   \n",
              "2  0.113726 -0.240282  0.779548  0.906329  0.285768 -0.143818  0.310017   \n",
              "3  0.601365  0.113279  0.712399  0.237966  0.321083 -0.329348  0.301765   \n",
              "4  0.110524 -0.161300  0.858878  1.161848  0.425219 -0.414926  0.006795   \n",
              "\n",
              "   Vector 8  Vector 9  Vector 10  ...    Vector 42  Vector 43  Vector 44  \\\n",
              "0 -0.006182  0.510940   0.342244  ...    -0.260098  -0.572254  -0.001088   \n",
              "1  0.002837  0.070905  -0.068868  ...    -0.401967  -0.649971  -0.189747   \n",
              "2 -0.139928  0.367076   0.384066  ...    -0.153836  -0.216731  -0.155472   \n",
              "3 -0.035661  0.460765  -0.075949  ...    -0.091186  -0.206183   0.062646   \n",
              "4 -0.259896  0.324213   0.731779  ...    -0.187014  -0.071594  -0.525720   \n",
              "\n",
              "   Vector 45  Vector 46  Vector 47  Vector 48  Vector 49  Vector 50  Score  \n",
              "0   0.079892  -0.092751   0.165952   0.354566   0.263851  -0.243470      1  \n",
              "1   0.091126  -0.250324  -0.020535   0.567875   0.291098  -0.287811      1  \n",
              "2   0.010060  -0.179123   0.395463  -0.208602  -0.294666   0.091154      1  \n",
              "3   0.104041   0.018641   0.299300  -0.000715  -0.171055  -0.046017      1  \n",
              "4   0.221244  -0.213230   0.498298  -0.212721  -0.079328   0.490372      1  \n",
              "\n",
              "[5 rows x 51 columns]"
            ]
          },
          "metadata": {
            "tags": []
          },
          "execution_count": 7
        }
      ]
    },
    {
      "metadata": {
        "id": "Xv7voVaUeTpa",
        "colab_type": "text"
      },
      "cell_type": "markdown",
      "source": [
        "** Separating the X and Y from the datasets (train and test) ** \n",
        "1. X : Vectors 1 to 50 \n",
        "2. Y : Target  Variable "
      ]
    },
    {
      "metadata": {
        "id": "9z5_9h6ueOUO",
        "colab_type": "code",
        "colab": {}
      },
      "cell_type": "code",
      "source": [
        "X_train = w2v_train.iloc[:,0:50].copy(deep=True)\n",
        "X_test = w2v_test.iloc[:,0:50].copy(deep=True)\n",
        "y_train = w2v_train['Score']\n",
        "y_test = w2v_test['Score']"
      ],
      "execution_count": 0,
      "outputs": []
    },
    {
      "metadata": {
        "id": "05cfBhTKXEG3",
        "colab_type": "text"
      },
      "cell_type": "markdown",
      "source": [
        "** PARAMETERS TO TUNE : ** \n",
        "\n",
        "** PARAM GRID : ** \n",
        "\n",
        "Constants:\n",
        "1. Booster : Gbtree\n",
        "2. eval-metric : auc\n",
        "\n",
        "Variables: \n",
        "\n",
        "1. Learning Rate : 0.1,0.2,0.07,0.3\n",
        "2. max Depth  : 4,5,6\n",
        "3. N_estimators : 100,125,150,175,200,225,250,275,300\n",
        "4. colsample_bytree :0.5,0.75"
      ]
    },
    {
      "metadata": {
        "id": "t5zgmFuxXEvm",
        "colab_type": "code",
        "colab": {}
      },
      "cell_type": "code",
      "source": [
        "params = {'learning_rate':[0.07,0.1,0.2,0.3],'max_depth':[4,5,6],'n_estimators':[100,125,150,175,200,225,250,275,300],'colsample_bytree':[0.5,0.75]}"
      ],
      "execution_count": 0,
      "outputs": []
    },
    {
      "metadata": {
        "colab_type": "code",
        "id": "A-6DMQ86XkAU",
        "colab": {}
      },
      "cell_type": "code",
      "source": [
        "gridModel = GridSearchCV(estimator = xgb.XGBClassifier(booster = 'gbtree',eval_metric = 'auc'),param_grid = params,n_jobs =-1,scoring='roc_auc',verbose=True,cv = 2)"
      ],
      "execution_count": 0,
      "outputs": []
    },
    {
      "metadata": {
        "colab_type": "code",
        "outputId": "3605e090-582c-4e45-b51e-b6ffb66ed6ec",
        "id": "UznHpa9NXkAX",
        "colab": {
          "base_uri": "https://localhost:8080/",
          "height": 326
        }
      },
      "cell_type": "code",
      "source": [
        "gridModel.fit(X_train,y_train)"
      ],
      "execution_count": 0,
      "outputs": [
        {
          "output_type": "stream",
          "text": [
            "Fitting 2 folds for each of 216 candidates, totalling 432 fits\n"
          ],
          "name": "stdout"
        },
        {
          "output_type": "stream",
          "text": [
            "[Parallel(n_jobs=-1)]: Using backend LokyBackend with 2 concurrent workers.\n",
            "[Parallel(n_jobs=-1)]: Done  46 tasks      | elapsed: 10.5min\n",
            "[Parallel(n_jobs=-1)]: Done 196 tasks      | elapsed: 47.7min\n",
            "[Parallel(n_jobs=-1)]: Done 432 out of 432 | elapsed: 127.4min finished\n"
          ],
          "name": "stderr"
        },
        {
          "output_type": "execute_result",
          "data": {
            "text/plain": [
              "GridSearchCV(cv=2, error_score='raise-deprecating',\n",
              "       estimator=XGBClassifier(base_score=0.5, booster='gbtree', colsample_bylevel=1,\n",
              "       colsample_bytree=1, eval_metric='auc', gamma=0, learning_rate=0.1,\n",
              "       max_delta_step=0, max_depth=3, min_child_weight=1, missing=None,\n",
              "       n_estimators=100, n_jobs=1, nthread=None,\n",
              "       objective='binary:logistic', random_state=0, reg_alpha=0,\n",
              "       reg_lambda=1, scale_pos_weight=1, seed=None, silent=True,\n",
              "       subsample=1),\n",
              "       fit_params=None, iid='warn', n_jobs=-1,\n",
              "       param_grid={'learning_rate': [0.07, 0.1, 0.2, 0.3], 'max_depth': [4, 5, 6], 'n_estimators': [100, 125, 150, 175, 200, 225, 250, 275, 300], 'colsample_bytree': [0.5, 0.75]},\n",
              "       pre_dispatch='2*n_jobs', refit=True, return_train_score='warn',\n",
              "       scoring='roc_auc', verbose=True)"
            ]
          },
          "metadata": {
            "tags": []
          },
          "execution_count": 14
        }
      ]
    },
    {
      "metadata": {
        "colab_type": "code",
        "outputId": "94244120-eb34-4534-a3b1-b44a24a29d0a",
        "id": "8ovzA_MrXkAf",
        "colab": {
          "base_uri": "https://localhost:8080/",
          "height": 34
        }
      },
      "cell_type": "code",
      "source": [
        "#best auc score \n",
        "gridModel.best_score_"
      ],
      "execution_count": 0,
      "outputs": [
        {
          "output_type": "execute_result",
          "data": {
            "text/plain": [
              "0.9025413888082446"
            ]
          },
          "metadata": {
            "tags": []
          },
          "execution_count": 17
        }
      ]
    },
    {
      "metadata": {
        "colab_type": "code",
        "outputId": "22117465-da9d-435b-e942-8abf891e98b5",
        "id": "ECy1MS8cXkAi",
        "colab": {
          "base_uri": "https://localhost:8080/",
          "height": 85
        }
      },
      "cell_type": "code",
      "source": [
        "#best params \n",
        "gridModel.best_params_"
      ],
      "execution_count": 0,
      "outputs": [
        {
          "output_type": "execute_result",
          "data": {
            "text/plain": [
              "{'colsample_bytree': 0.5,\n",
              " 'learning_rate': 0.07,\n",
              " 'max_depth': 5,\n",
              " 'n_estimators': 300}"
            ]
          },
          "metadata": {
            "tags": []
          },
          "execution_count": 18
        }
      ]
    },
    {
      "metadata": {
        "colab_type": "text",
        "id": "qAoGLhCIdq6V"
      },
      "cell_type": "markdown",
      "source": [
        "** Preparing the dataframe for visualisaiton ** "
      ]
    },
    {
      "metadata": {
        "colab_type": "code",
        "id": "kJs30O2_dq6Y",
        "colab": {}
      },
      "cell_type": "code",
      "source": [
        "results = pd.DataFrame(gridModel.cv_results_['params'])"
      ],
      "execution_count": 0,
      "outputs": []
    },
    {
      "metadata": {
        "colab_type": "code",
        "id": "ejPYUv9qdq6a",
        "colab": {}
      },
      "cell_type": "code",
      "source": [
        "results['Train_AUC_SCORE'] = gridModel.cv_results_['mean_train_score']\n",
        "results['Test_AUC_SCORE'] = gridModel.cv_results_['mean_test_score']"
      ],
      "execution_count": 0,
      "outputs": []
    },
    {
      "metadata": {
        "colab_type": "text",
        "id": "21G56WDXdq6d"
      },
      "cell_type": "markdown",
      "source": [
        "** Analysis and visualisation of influence of various parameters on the AUC score ** "
      ]
    },
    {
      "metadata": {
        "colab_type": "text",
        "id": "cE_pqOk0dq6e"
      },
      "cell_type": "markdown",
      "source": [
        "** HEATMAP : TEST_AUC_SCORE **"
      ]
    },
    {
      "metadata": {
        "colab_type": "code",
        "outputId": "3b4b0dc2-8c91-4541-be04-eff615c6309b",
        "id": "MytvOdgOdq6f",
        "colab": {
          "base_uri": "https://localhost:8080/",
          "height": 378
        }
      },
      "cell_type": "code",
      "source": [
        "sns.heatmap(results.pivot_table(index = \"n_estimators\",columns = \"max_depth\",values = \"Test_AUC_SCORE\"),annot= True)"
      ],
      "execution_count": 0,
      "outputs": [
        {
          "output_type": "execute_result",
          "data": {
            "text/plain": [
              "<matplotlib.axes._subplots.AxesSubplot at 0x7fbf91fe4fd0>"
            ]
          },
          "metadata": {
            "tags": []
          },
          "execution_count": 21
        },
        {
          "output_type": "display_data",
          "data": {
            "image/png": "[encoded data removed]",
            "text/plain": [
              "<matplotlib.figure.Figure at 0x7fbf91f9c4e0>"
            ]
          },
          "metadata": {
            "tags": []
          }
        }
      ]
    },
    {
      "metadata": {
        "colab_type": "text",
        "id": "mT8ip1-cdq6m"
      },
      "cell_type": "markdown",
      "source": [
        "** HEATMAP : TRAIN_AUC_SCORE ** "
      ]
    },
    {
      "metadata": {
        "colab_type": "code",
        "outputId": "1dce5cfa-5967-49c9-c711-ed61ed96bf8c",
        "id": "3NMJp0Bldq6o",
        "colab": {
          "base_uri": "https://localhost:8080/",
          "height": 378
        }
      },
      "cell_type": "code",
      "source": [
        "sns.heatmap(results.pivot_table(index = \"n_estimators\",columns = \"max_depth\",values = \"Train_AUC_SCORE\"),annot= True)"
      ],
      "execution_count": 0,
      "outputs": [
        {
          "output_type": "execute_result",
          "data": {
            "text/plain": [
              "<matplotlib.axes._subplots.AxesSubplot at 0x7fbf93055ba8>"
            ]
          },
          "metadata": {
            "tags": []
          },
          "execution_count": 22
        },
        {
          "output_type": "display_data",
          "data": {
            "image/png": "[encoded data removed]",
            "text/plain": [
              "<matplotlib.figure.Figure at 0x7fbf90d2a2e8>"
            ]
          },
          "metadata": {
            "tags": []
          }
        }
      ]
    },
    {
      "metadata": {
        "colab_type": "text",
        "id": "-SjqtK5ldq6s"
      },
      "cell_type": "markdown",
      "source": [
        "** IMPACT OF COLUMN SAMPLING AND LEARNING RATE ** "
      ]
    },
    {
      "metadata": {
        "colab_type": "code",
        "outputId": "6ffcceba-801e-4d60-d335-b40095b29b20",
        "id": "3f9tbo69dq6s",
        "colab": {
          "base_uri": "https://localhost:8080/",
          "height": 204
        }
      },
      "cell_type": "code",
      "source": [
        "results.groupby('learning_rate').aggregate(np.mean)[['Train_AUC_SCORE','Test_AUC_SCORE']]"
      ],
      "execution_count": 0,
      "outputs": [
        {
          "output_type": "execute_result",
          "data": {
            "text/html": [
              "<div>\n",
              "<style scoped>\n",
              "    .dataframe tbody tr th:only-of-type {\n",
              "        vertical-align: middle;\n",
              "    }\n",
              "\n",
              "    .dataframe tbody tr th {\n",
              "        vertical-align: top;\n",
              "    }\n",
              "\n",
              "    .dataframe thead th {\n",
              "        text-align: right;\n",
              "    }\n",
              "</style>\n",
              "<table border=\"1\" class=\"dataframe\">\n",
              "  <thead>\n",
              "    <tr style=\"text-align: right;\">\n",
              "      <th></th>\n",
              "      <th>Train_AUC_SCORE</th>\n",
              "      <th>Test_AUC_SCORE</th>\n",
              "    </tr>\n",
              "    <tr>\n",
              "      <th>learning_rate</th>\n",
              "      <th></th>\n",
              "      <th></th>\n",
              "    </tr>\n",
              "  </thead>\n",
              "  <tbody>\n",
              "    <tr>\n",
              "      <th>0.07</th>\n",
              "      <td>0.961982</td>\n",
              "      <td>0.899646</td>\n",
              "    </tr>\n",
              "    <tr>\n",
              "      <th>0.10</th>\n",
              "      <td>0.971348</td>\n",
              "      <td>0.900436</td>\n",
              "    </tr>\n",
              "    <tr>\n",
              "      <th>0.20</th>\n",
              "      <td>0.986393</td>\n",
              "      <td>0.897212</td>\n",
              "    </tr>\n",
              "    <tr>\n",
              "      <th>0.30</th>\n",
              "      <td>0.992421</td>\n",
              "      <td>0.892671</td>\n",
              "    </tr>\n",
              "  </tbody>\n",
              "</table>\n",
              "</div>"
            ],
            "text/plain": [
              "               Train_AUC_SCORE  Test_AUC_SCORE\n",
              "learning_rate                                 \n",
              "0.07                  0.961982        0.899646\n",
              "0.10                  0.971348        0.900436\n",
              "0.20                  0.986393        0.897212\n",
              "0.30                  0.992421        0.892671"
            ]
          },
          "metadata": {
            "tags": []
          },
          "execution_count": 23
        }
      ]
    },
    {
      "metadata": {
        "colab_type": "code",
        "outputId": "1cb81b62-ff97-4555-f452-62b7c45cf7e8",
        "id": "ZcJ10pPxdq6w",
        "colab": {
          "base_uri": "https://localhost:8080/",
          "height": 142
        }
      },
      "cell_type": "code",
      "source": [
        "results.groupby('colsample_bytree').aggregate(np.mean)[['Train_AUC_SCORE','Test_AUC_SCORE']]"
      ],
      "execution_count": 0,
      "outputs": [
        {
          "output_type": "execute_result",
          "data": {
            "text/html": [
              "<div>\n",
              "<style scoped>\n",
              "    .dataframe tbody tr th:only-of-type {\n",
              "        vertical-align: middle;\n",
              "    }\n",
              "\n",
              "    .dataframe tbody tr th {\n",
              "        vertical-align: top;\n",
              "    }\n",
              "\n",
              "    .dataframe thead th {\n",
              "        text-align: right;\n",
              "    }\n",
              "</style>\n",
              "<table border=\"1\" class=\"dataframe\">\n",
              "  <thead>\n",
              "    <tr style=\"text-align: right;\">\n",
              "      <th></th>\n",
              "      <th>Train_AUC_SCORE</th>\n",
              "      <th>Test_AUC_SCORE</th>\n",
              "    </tr>\n",
              "    <tr>\n",
              "      <th>colsample_bytree</th>\n",
              "      <th></th>\n",
              "      <th></th>\n",
              "    </tr>\n",
              "  </thead>\n",
              "  <tbody>\n",
              "    <tr>\n",
              "      <th>0.50</th>\n",
              "      <td>0.977543</td>\n",
              "      <td>0.897708</td>\n",
              "    </tr>\n",
              "    <tr>\n",
              "      <th>0.75</th>\n",
              "      <td>0.978529</td>\n",
              "      <td>0.897275</td>\n",
              "    </tr>\n",
              "  </tbody>\n",
              "</table>\n",
              "</div>"
            ],
            "text/plain": [
              "                  Train_AUC_SCORE  Test_AUC_SCORE\n",
              "colsample_bytree                                 \n",
              "0.50                     0.977543        0.897708\n",
              "0.75                     0.978529        0.897275"
            ]
          },
          "metadata": {
            "tags": []
          },
          "execution_count": 24
        }
      ]
    },
    {
      "metadata": {
        "colab_type": "code",
        "id": "dj-8rOAydq60",
        "colab": {}
      },
      "cell_type": "code",
      "source": [
        "pred = gridModel.predict(X_test)\n",
        "tpred = gridModel.predict(X_train)"
      ],
      "execution_count": 0,
      "outputs": []
    },
    {
      "metadata": {
        "colab_type": "code",
        "outputId": "f8372eea-f8ad-48ab-e028-217c62c31d64",
        "id": "4XphA4XZdq63",
        "colab": {
          "base_uri": "https://localhost:8080/",
          "height": 170
        }
      },
      "cell_type": "code",
      "source": [
        "print(classification_report(y_true=y_test,y_pred=pred))"
      ],
      "execution_count": 0,
      "outputs": [
        {
          "output_type": "stream",
          "text": [
            "              precision    recall  f1-score   support\n",
            "\n",
            "           0       0.74      0.42      0.54      4101\n",
            "           1       0.91      0.98      0.94     25899\n",
            "\n",
            "   micro avg       0.90      0.90      0.90     30000\n",
            "   macro avg       0.83      0.70      0.74     30000\n",
            "weighted avg       0.89      0.90      0.89     30000\n",
            "\n"
          ],
          "name": "stdout"
        }
      ]
    },
    {
      "metadata": {
        "colab_type": "code",
        "outputId": "c9145b48-2750-40f7-c12c-cb3fbfd82bd9",
        "id": "yYGD9-PqzL7E",
        "colab": {
          "base_uri": "https://localhost:8080/",
          "height": 34
        }
      },
      "cell_type": "code",
      "source": [
        "print(\"TRAIN ERROR : \" + str(1-(accuracy_score(y_true = y_train,y_pred=tpred))))"
      ],
      "execution_count": 0,
      "outputs": [
        {
          "output_type": "stream",
          "text": [
            "TRAIN ERROR : 0.0652571428571429\n"
          ],
          "name": "stdout"
        }
      ]
    },
    {
      "metadata": {
        "colab_type": "code",
        "outputId": "c99ee8a8-9ced-449c-d4da-ed63937adbb1",
        "id": "bJ9zAEClzL7P",
        "colab": {
          "base_uri": "https://localhost:8080/",
          "height": 34
        }
      },
      "cell_type": "code",
      "source": [
        "print(\"TEST ERROR : \" + str(1-(accuracy_score(y_true = y_test,y_pred=pred))))"
      ],
      "execution_count": 0,
      "outputs": [
        {
          "output_type": "stream",
          "text": [
            "TEST ERROR : 0.09926666666666661\n"
          ],
          "name": "stdout"
        }
      ]
    },
    {
      "metadata": {
        "id": "HdyX7RS7f60V",
        "colab_type": "text"
      },
      "cell_type": "markdown",
      "source": [
        "** Observations : **\n",
        "\n",
        "1. The model with max Depth with 6 and very high number of base learners are overfitting as they have 100%  99% Train AUC score and Test AUC score is around 90% which is almost 10% difference.\n",
        "2.  We can go with max depth of 5 by tapping the learning rate : making it 0.07 where there will be less difference.\n",
        "3. Final model : Max- Depth = 5, n-estimators = 300 and  Learning rate : 0.07"
      ]
    },
    {
      "metadata": {
        "colab_type": "text",
        "id": "TRjBgU23e_YW"
      },
      "cell_type": "markdown",
      "source": [
        "** FINAL MODEL : **"
      ]
    },
    {
      "metadata": {
        "colab_type": "code",
        "id": "PO9GGU_Ce_YY",
        "colab": {}
      },
      "cell_type": "code",
      "source": [
        "model = xgb.XGBClassifier(max_depth = 5,n_estimators = 300,booster = 'gbtree',colsample_bytree=0.5,learning_rate = 0.07,objective = 'binary:logistic',eval_metric = 'auc') \n",
        "model.fit(X_train,y_train)\n",
        "pred = model.predict(X_test)"
      ],
      "execution_count": 0,
      "outputs": []
    },
    {
      "metadata": {
        "colab_type": "code",
        "id": "IFCtxir4e_Yb",
        "colab": {}
      },
      "cell_type": "code",
      "source": [
        "tpred = model.predict(X_train)"
      ],
      "execution_count": 0,
      "outputs": []
    },
    {
      "metadata": {
        "colab_type": "code",
        "outputId": "792fd501-7c1c-40ff-8e8b-8f921cf11ec0",
        "id": "gfRiT0ove_Yj",
        "colab": {
          "base_uri": "https://localhost:8080/",
          "height": 170
        }
      },
      "cell_type": "code",
      "source": [
        "print(classification_report(y_true = y_test,y_pred=pred))"
      ],
      "execution_count": 0,
      "outputs": [
        {
          "output_type": "stream",
          "text": [
            "              precision    recall  f1-score   support\n",
            "\n",
            "           0       0.74      0.42      0.54      4101\n",
            "           1       0.91      0.98      0.94     25899\n",
            "\n",
            "   micro avg       0.90      0.90      0.90     30000\n",
            "   macro avg       0.83      0.70      0.74     30000\n",
            "weighted avg       0.89      0.90      0.89     30000\n",
            "\n"
          ],
          "name": "stdout"
        }
      ]
    },
    {
      "metadata": {
        "colab_type": "text",
        "id": "iLTFW9H0e_Yr"
      },
      "cell_type": "markdown",
      "source": [
        "** CONFUSION MATRIC : TEST  SET ** "
      ]
    },
    {
      "metadata": {
        "colab_type": "code",
        "outputId": "1c9ad806-a5b5-4225-b6c2-0ae7990b3791",
        "id": "43KZXWWFe_Yu",
        "colab": {
          "base_uri": "https://localhost:8080/",
          "height": 364
        }
      },
      "cell_type": "code",
      "source": [
        "sns.heatmap(confusion_matrix(y_true = y_test,y_pred=pred),annot= True,fmt='d')"
      ],
      "execution_count": 0,
      "outputs": [
        {
          "output_type": "execute_result",
          "data": {
            "text/plain": [
              "<matplotlib.axes._subplots.AxesSubplot at 0x7fbf8e4c0fd0>"
            ]
          },
          "metadata": {
            "tags": []
          },
          "execution_count": 34
        },
        {
          "output_type": "display_data",
          "data": {
            "image/png": "[encoded data removed]",
            "text/plain": [
              "<matplotlib.figure.Figure at 0x7fbf9200ae10>"
            ]
          },
          "metadata": {
            "tags": []
          }
        }
      ]
    },
    {
      "metadata": {
        "colab_type": "text",
        "id": "fWOhg3QOe_Yx"
      },
      "cell_type": "markdown",
      "source": [
        "** CONFUSION MATRIX : TRAIN SET **"
      ]
    },
    {
      "metadata": {
        "colab_type": "code",
        "outputId": "31278aa4-26a4-420c-ec0d-1bfc0c1d477d",
        "id": "5Y3WIJzBe_Yy",
        "colab": {
          "base_uri": "https://localhost:8080/",
          "height": 364
        }
      },
      "cell_type": "code",
      "source": [
        "sns.heatmap(confusion_matrix(y_pred =tpred,y_true = y_train),annot= True,fmt='d')"
      ],
      "execution_count": 0,
      "outputs": [
        {
          "output_type": "execute_result",
          "data": {
            "text/plain": [
              "<matplotlib.axes._subplots.AxesSubplot at 0x7fbf8e405860>"
            ]
          },
          "metadata": {
            "tags": []
          },
          "execution_count": 35
        },
        {
          "output_type": "display_data",
          "data": {
            "image/png": "[encoded data removed]",
            "text/plain": [
              "<matplotlib.figure.Figure at 0x7fbf8e3b3978>"
            ]
          },
          "metadata": {
            "tags": []
          }
        }
      ]
    },
    {
      "metadata": {
        "colab_type": "code",
        "outputId": "641445fb-1434-43b2-86f0-f0173c6000c7",
        "id": "Un-v0Ihle_Y0",
        "colab": {
          "base_uri": "https://localhost:8080/",
          "height": 34
        }
      },
      "cell_type": "code",
      "source": [
        "print(\"TRAIN ERROR : \" + str(1-(accuracy_score(y_true = y_train,y_pred=tpred))))"
      ],
      "execution_count": 0,
      "outputs": [
        {
          "output_type": "stream",
          "text": [
            "TRAIN ERROR : 0.0652571428571429\n"
          ],
          "name": "stdout"
        }
      ]
    },
    {
      "metadata": {
        "colab_type": "code",
        "outputId": "7899025d-b110-464f-9f9c-b1014c82b4be",
        "id": "CPyrtPD5e_Y5",
        "colab": {
          "base_uri": "https://localhost:8080/",
          "height": 34
        }
      },
      "cell_type": "code",
      "source": [
        "print(\"TEST ERROR : \" + str(1-(accuracy_score(y_true = y_test,y_pred=pred))))"
      ],
      "execution_count": 0,
      "outputs": [
        {
          "output_type": "stream",
          "text": [
            "TEST ERROR : 0.09926666666666661\n"
          ],
          "name": "stdout"
        }
      ]
    },
    {
      "metadata": {
        "id": "azLcoRc4f6qX",
        "colab_type": "text"
      },
      "cell_type": "markdown",
      "source": [
        "<br>\n",
        "<Br>\n",
        "  <br>"
      ]
    },
    {
      "metadata": {
        "colab_type": "text",
        "id": "oGXKU5UzVlLd"
      },
      "cell_type": "markdown",
      "source": [
        "<Br>\n",
        "  <br>\n",
        "  \n",
        "  ## FEATURIZATION 4: TFIDF WORD2VEC\n",
        "\n",
        "** Importing the data **"
      ]
    },
    {
      "metadata": {
        "id": "7ekuO_H2QY2P",
        "colab_type": "code",
        "colab": {}
      },
      "cell_type": "code",
      "source": [
        "tfw2v_train = pickle.load(open('/content/gdrive/My Drive/AppliedAI/Amazon Fine Food Reviews/Train_TFW2V.sav','rb'))\n",
        "tfw2v_test = pickle.load(open('/content/gdrive/My Drive/AppliedAI/Amazon Fine Food Reviews/Test_TFW2V.sav','rb'))"
      ],
      "execution_count": 0,
      "outputs": []
    },
    {
      "metadata": {
        "id": "HPIRP09dehKn",
        "colab_type": "code",
        "colab": {}
      },
      "cell_type": "code",
      "source": [
        "X_train = tfw2v_train.iloc[:,0:50].copy(deep=True)\n",
        "X_test = tfw2v_test.iloc[:,0:50].copy(deep=True)\n",
        "y_train = tfw2v_train['Score']\n",
        "\n",
        "y_test = tfw2v_test['Score']"
      ],
      "execution_count": 0,
      "outputs": []
    },
    {
      "metadata": {
        "id": "WJywgRSIgFNr",
        "colab_type": "text"
      },
      "cell_type": "markdown",
      "source": [
        "** PERFORMING GRID SEARCH **\n",
        "\n",
        "** PARAM GRID : ** \n",
        "\n",
        "Constants:\n",
        "1. Booster : Gbtree\n",
        "2. eval-metric : auc\n",
        "\n",
        "Variables: \n",
        "\n",
        "1. Learning Rate : 0.1,0.2,0.07,0.3\n",
        "2. max Depth  : 4,5,6\n",
        "3. N_estimators : 100,125,150,175,200,225,250,275,300\n",
        "4. colsample_bytree :0.5,0.75"
      ]
    },
    {
      "metadata": {
        "colab_type": "code",
        "id": "zYgTSxXPgMLs",
        "colab": {}
      },
      "cell_type": "code",
      "source": [
        "params = {'learning_rate':[0.07,0.1,0.2],'max_depth':[4,5,6],'n_estimators':[150,175,200,225,250,275,300],'colsample_bytree':[0.5,0.75]}"
      ],
      "execution_count": 0,
      "outputs": []
    },
    {
      "metadata": {
        "colab_type": "code",
        "id": "BxAQujs2gMLv",
        "colab": {}
      },
      "cell_type": "code",
      "source": [
        "gridModel = GridSearchCV(estimator = xgb.XGBClassifier(booster = 'gbtree',eval_metric = 'auc'),param_grid = params,n_jobs =-1,scoring='roc_auc',verbose=True,cv = 2)"
      ],
      "execution_count": 0,
      "outputs": []
    },
    {
      "metadata": {
        "colab_type": "code",
        "outputId": "0ea27326-7f07-4586-8191-30f475b7b313",
        "id": "zUGKVEnzgMLx",
        "colab": {
          "base_uri": "https://localhost:8080/",
          "height": 326
        }
      },
      "cell_type": "code",
      "source": [
        "gridModel.fit(X_train,y_train)"
      ],
      "execution_count": 0,
      "outputs": [
        {
          "output_type": "stream",
          "text": [
            "Fitting 2 folds for each of 126 candidates, totalling 252 fits\n"
          ],
          "name": "stdout"
        },
        {
          "output_type": "stream",
          "text": [
            "[Parallel(n_jobs=-1)]: Using backend LokyBackend with 2 concurrent workers.\n",
            "[Parallel(n_jobs=-1)]: Done  46 tasks      | elapsed: 12.8min\n",
            "[Parallel(n_jobs=-1)]: Done 196 tasks      | elapsed: 62.3min\n",
            "[Parallel(n_jobs=-1)]: Done 252 out of 252 | elapsed: 84.9min finished\n"
          ],
          "name": "stderr"
        },
        {
          "output_type": "execute_result",
          "data": {
            "text/plain": [
              "GridSearchCV(cv=2, error_score='raise-deprecating',\n",
              "       estimator=XGBClassifier(base_score=0.5, booster='gbtree', colsample_bylevel=1,\n",
              "       colsample_bytree=1, eval_metric='auc', gamma=0, learning_rate=0.1,\n",
              "       max_delta_step=0, max_depth=3, min_child_weight=1, missing=None,\n",
              "       n_estimators=100, n_jobs=1, nthread=None,\n",
              "       objective='binary:logistic', random_state=0, reg_alpha=0,\n",
              "       reg_lambda=1, scale_pos_weight=1, seed=None, silent=True,\n",
              "       subsample=1),\n",
              "       fit_params=None, iid='warn', n_jobs=-1,\n",
              "       param_grid={'learning_rate': [0.07, 0.1, 0.2], 'max_depth': [4, 5, 6], 'n_estimators': [150, 175, 200, 225, 250, 275, 300], 'colsample_bytree': [0.5, 0.75]},\n",
              "       pre_dispatch='2*n_jobs', refit=True, return_train_score='warn',\n",
              "       scoring='roc_auc', verbose=True)"
            ]
          },
          "metadata": {
            "tags": []
          },
          "execution_count": 50
        }
      ]
    },
    {
      "metadata": {
        "colab_type": "code",
        "outputId": "fdf27ed9-0ce0-4297-d6ff-eadfaf3b7837",
        "id": "0sn4ngl_gML0",
        "colab": {
          "base_uri": "https://localhost:8080/",
          "height": 34
        }
      },
      "cell_type": "code",
      "source": [
        "#best auc score \n",
        "gridModel.best_score_"
      ],
      "execution_count": 0,
      "outputs": [
        {
          "output_type": "execute_result",
          "data": {
            "text/plain": [
              "0.8752933527884917"
            ]
          },
          "metadata": {
            "tags": []
          },
          "execution_count": 51
        }
      ]
    },
    {
      "metadata": {
        "colab_type": "code",
        "outputId": "08dc55d2-b123-40f3-d390-d44cdd044f55",
        "id": "v2dskOD7gML5",
        "colab": {
          "base_uri": "https://localhost:8080/",
          "height": 85
        }
      },
      "cell_type": "code",
      "source": [
        "#best params \n",
        "gridModel.best_params_"
      ],
      "execution_count": 0,
      "outputs": [
        {
          "output_type": "execute_result",
          "data": {
            "text/plain": [
              "{'colsample_bytree': 0.5,\n",
              " 'learning_rate': 0.07,\n",
              " 'max_depth': 6,\n",
              " 'n_estimators': 300}"
            ]
          },
          "metadata": {
            "tags": []
          },
          "execution_count": 52
        }
      ]
    },
    {
      "metadata": {
        "colab_type": "text",
        "id": "yL3FFGoLqNvf"
      },
      "cell_type": "markdown",
      "source": [
        "** Preparing the dataframe for visualisaiton ** "
      ]
    },
    {
      "metadata": {
        "colab_type": "code",
        "id": "dRshS90dqNvg",
        "colab": {}
      },
      "cell_type": "code",
      "source": [
        "results = pd.DataFrame(gridModel.cv_results_['params'])"
      ],
      "execution_count": 0,
      "outputs": []
    },
    {
      "metadata": {
        "colab_type": "code",
        "id": "asVciGm8qNvi",
        "colab": {}
      },
      "cell_type": "code",
      "source": [
        "results['Train_AUC_SCORE'] = gridModel.cv_results_['mean_train_score']\n",
        "results['Test_AUC_SCORE'] = gridModel.cv_results_['mean_test_score']"
      ],
      "execution_count": 0,
      "outputs": []
    },
    {
      "metadata": {
        "colab_type": "text",
        "id": "J157hvvDqNvl"
      },
      "cell_type": "markdown",
      "source": [
        "** Analysis and visualisation of influence of various parameters on the AUC score ** "
      ]
    },
    {
      "metadata": {
        "colab_type": "text",
        "id": "QViV7QZ_qNvl"
      },
      "cell_type": "markdown",
      "source": [
        "** HEATMAP : TEST_AUC_SCORE **"
      ]
    },
    {
      "metadata": {
        "colab_type": "code",
        "outputId": "924d12d9-61c8-4f8d-b773-8e954bbaa06e",
        "id": "Zsign_uHqNvn",
        "colab": {
          "base_uri": "https://localhost:8080/",
          "height": 378
        }
      },
      "cell_type": "code",
      "source": [
        "sns.heatmap(results.pivot_table(index = \"n_estimators\",columns = \"max_depth\",values = \"Test_AUC_SCORE\"),annot= True)"
      ],
      "execution_count": 0,
      "outputs": [
        {
          "output_type": "execute_result",
          "data": {
            "text/plain": [
              "<matplotlib.axes._subplots.AxesSubplot at 0x7fbf8e1a00f0>"
            ]
          },
          "metadata": {
            "tags": []
          },
          "execution_count": 55
        },
        {
          "output_type": "display_data",
          "data": {
            "image/png": "[encoded data removed]",
            "text/plain": [
              "<matplotlib.figure.Figure at 0x7fbf8e1a0cc0>"
            ]
          },
          "metadata": {
            "tags": []
          }
        }
      ]
    },
    {
      "metadata": {
        "colab_type": "text",
        "id": "Ojt118HfqNvu"
      },
      "cell_type": "markdown",
      "source": [
        "** HEATMAP : TRAIN_AUC_SCORE ** "
      ]
    },
    {
      "metadata": {
        "colab_type": "code",
        "outputId": "2ba1c8fe-23f4-4ebc-c1e5-3dfcb4291576",
        "id": "-VMXA426qNvv",
        "colab": {
          "base_uri": "https://localhost:8080/",
          "height": 378
        }
      },
      "cell_type": "code",
      "source": [
        "sns.heatmap(results.pivot_table(index = \"n_estimators\",columns = \"max_depth\",values = \"Train_AUC_SCORE\"),annot= True)"
      ],
      "execution_count": 0,
      "outputs": [
        {
          "output_type": "execute_result",
          "data": {
            "text/plain": [
              "<matplotlib.axes._subplots.AxesSubplot at 0x7fbf8e17d9e8>"
            ]
          },
          "metadata": {
            "tags": []
          },
          "execution_count": 65
        },
        {
          "output_type": "display_data",
          "data": {
            "image/png": "[encoded data removed]",
            "text/plain": [
              "<matplotlib.figure.Figure at 0x7fbf8e12a4a8>"
            ]
          },
          "metadata": {
            "tags": []
          }
        }
      ]
    },
    {
      "metadata": {
        "colab_type": "text",
        "id": "bpT9ATCsqNv0"
      },
      "cell_type": "markdown",
      "source": [
        "** IMPACT OF COLUMN SAMPLING AND LEARNING RATE ** "
      ]
    },
    {
      "metadata": {
        "colab_type": "code",
        "outputId": "24d3c062-f293-47f3-c3e8-019f5313a433",
        "id": "oul0ZwM3qNv1",
        "colab": {
          "base_uri": "https://localhost:8080/",
          "height": 173
        }
      },
      "cell_type": "code",
      "source": [
        "results.groupby('learning_rate').aggregate(np.mean)[['Train_AUC_SCORE','Test_AUC_SCORE']]"
      ],
      "execution_count": 0,
      "outputs": [
        {
          "output_type": "execute_result",
          "data": {
            "text/html": [
              "<div>\n",
              "<style scoped>\n",
              "    .dataframe tbody tr th:only-of-type {\n",
              "        vertical-align: middle;\n",
              "    }\n",
              "\n",
              "    .dataframe tbody tr th {\n",
              "        vertical-align: top;\n",
              "    }\n",
              "\n",
              "    .dataframe thead th {\n",
              "        text-align: right;\n",
              "    }\n",
              "</style>\n",
              "<table border=\"1\" class=\"dataframe\">\n",
              "  <thead>\n",
              "    <tr style=\"text-align: right;\">\n",
              "      <th></th>\n",
              "      <th>Train_AUC_SCORE</th>\n",
              "      <th>Test_AUC_SCORE</th>\n",
              "    </tr>\n",
              "    <tr>\n",
              "      <th>learning_rate</th>\n",
              "      <th></th>\n",
              "      <th></th>\n",
              "    </tr>\n",
              "  </thead>\n",
              "  <tbody>\n",
              "    <tr>\n",
              "      <th>0.07</th>\n",
              "      <td>0.957886</td>\n",
              "      <td>0.872250</td>\n",
              "    </tr>\n",
              "    <tr>\n",
              "      <th>0.10</th>\n",
              "      <td>0.968681</td>\n",
              "      <td>0.872861</td>\n",
              "    </tr>\n",
              "    <tr>\n",
              "      <th>0.20</th>\n",
              "      <td>0.985908</td>\n",
              "      <td>0.868978</td>\n",
              "    </tr>\n",
              "  </tbody>\n",
              "</table>\n",
              "</div>"
            ],
            "text/plain": [
              "               Train_AUC_SCORE  Test_AUC_SCORE\n",
              "learning_rate                                 \n",
              "0.07                  0.957886        0.872250\n",
              "0.10                  0.968681        0.872861\n",
              "0.20                  0.985908        0.868978"
            ]
          },
          "metadata": {
            "tags": []
          },
          "execution_count": 57
        }
      ]
    },
    {
      "metadata": {
        "colab_type": "code",
        "outputId": "98850e70-f677-4bf6-bd47-403d5e3eeed9",
        "id": "QyIfj6L1qNv7",
        "colab": {
          "base_uri": "https://localhost:8080/",
          "height": 142
        }
      },
      "cell_type": "code",
      "source": [
        "results.groupby('colsample_bytree').aggregate(np.mean)[['Train_AUC_SCORE','Test_AUC_SCORE']]"
      ],
      "execution_count": 0,
      "outputs": [
        {
          "output_type": "execute_result",
          "data": {
            "text/html": [
              "<div>\n",
              "<style scoped>\n",
              "    .dataframe tbody tr th:only-of-type {\n",
              "        vertical-align: middle;\n",
              "    }\n",
              "\n",
              "    .dataframe tbody tr th {\n",
              "        vertical-align: top;\n",
              "    }\n",
              "\n",
              "    .dataframe thead th {\n",
              "        text-align: right;\n",
              "    }\n",
              "</style>\n",
              "<table border=\"1\" class=\"dataframe\">\n",
              "  <thead>\n",
              "    <tr style=\"text-align: right;\">\n",
              "      <th></th>\n",
              "      <th>Train_AUC_SCORE</th>\n",
              "      <th>Test_AUC_SCORE</th>\n",
              "    </tr>\n",
              "    <tr>\n",
              "      <th>colsample_bytree</th>\n",
              "      <th></th>\n",
              "      <th></th>\n",
              "    </tr>\n",
              "  </thead>\n",
              "  <tbody>\n",
              "    <tr>\n",
              "      <th>0.50</th>\n",
              "      <td>0.970173</td>\n",
              "      <td>0.871320</td>\n",
              "    </tr>\n",
              "    <tr>\n",
              "      <th>0.75</th>\n",
              "      <td>0.971477</td>\n",
              "      <td>0.871407</td>\n",
              "    </tr>\n",
              "  </tbody>\n",
              "</table>\n",
              "</div>"
            ],
            "text/plain": [
              "                  Train_AUC_SCORE  Test_AUC_SCORE\n",
              "colsample_bytree                                 \n",
              "0.50                     0.970173        0.871320\n",
              "0.75                     0.971477        0.871407"
            ]
          },
          "metadata": {
            "tags": []
          },
          "execution_count": 58
        }
      ]
    },
    {
      "metadata": {
        "colab_type": "code",
        "id": "yinVWxpIqNwB",
        "colab": {}
      },
      "cell_type": "code",
      "source": [
        "pred = gridModel.predict(X_test)\n",
        "tpred = gridModel.predict(X_train)"
      ],
      "execution_count": 0,
      "outputs": []
    },
    {
      "metadata": {
        "colab_type": "code",
        "outputId": "d1691365-cdc5-4c34-bd44-b3286b5b7401",
        "id": "to-zKa1TqNwF",
        "colab": {
          "base_uri": "https://localhost:8080/",
          "height": 170
        }
      },
      "cell_type": "code",
      "source": [
        "print(classification_report(y_true=y_test,y_pred=pred))"
      ],
      "execution_count": 0,
      "outputs": [
        {
          "output_type": "stream",
          "text": [
            "              precision    recall  f1-score   support\n",
            "\n",
            "           0       0.73      0.34      0.46      4101\n",
            "           1       0.90      0.98      0.94     25899\n",
            "\n",
            "   micro avg       0.89      0.89      0.89     30000\n",
            "   macro avg       0.82      0.66      0.70     30000\n",
            "weighted avg       0.88      0.89      0.87     30000\n",
            "\n"
          ],
          "name": "stdout"
        }
      ]
    },
    {
      "metadata": {
        "colab_type": "text",
        "id": "6Pd74yk0rKct"
      },
      "cell_type": "markdown",
      "source": [
        "** Observations : **\n",
        "\n",
        "1. There is no significant difference between the test auc scores for different models"
      ]
    },
    {
      "metadata": {
        "colab_type": "code",
        "outputId": "0733cba3-1d8d-473d-8b66-9c2ae231c96e",
        "id": "MDOFmRPBrKdD",
        "colab": {
          "base_uri": "https://localhost:8080/",
          "height": 34
        }
      },
      "cell_type": "code",
      "source": [
        "print(\"TRAIN ERROR : \" + str(1-(accuracy_score(y_true = y_train,y_pred=tpred))))"
      ],
      "execution_count": 0,
      "outputs": [
        {
          "output_type": "stream",
          "text": [
            "TRAIN ERROR : 0.059528571428571375\n"
          ],
          "name": "stdout"
        }
      ]
    },
    {
      "metadata": {
        "colab_type": "code",
        "outputId": "5e8a424d-6e50-44f0-be88-66d7b85e7cff",
        "id": "1zSUpniirKdG",
        "colab": {
          "base_uri": "https://localhost:8080/",
          "height": 34
        }
      },
      "cell_type": "code",
      "source": [
        "print(\"TEST ERROR : \" + str(1-(accuracy_score(y_true = y_test,y_pred=pred))))"
      ],
      "execution_count": 0,
      "outputs": [
        {
          "output_type": "stream",
          "text": [
            "TEST ERROR : 0.10773333333333335\n"
          ],
          "name": "stdout"
        }
      ]
    },
    {
      "metadata": {
        "id": "SW7wLcsuv04b",
        "colab_type": "text"
      },
      "cell_type": "markdown",
      "source": [
        "** Observations : ** \n",
        "\n",
        "1. There is significant difference of 4% between the train and test error. As almost all the classifiers give similar performance in the test CV , we have to see other low N-estimators to reduce the difference between train and test error.\n",
        "2. Metrics to see : Recall , Precision  and erro difference \n",
        "\n",
        "** Constants: ** \n",
        "\n",
        "1. max Depth = 6\n",
        "2. Learning Rate = 0.2\n",
        "3. ColSample By Tree = 0.75"
      ]
    },
    {
      "metadata": {
        "id": "9yIf9AeBrtFC",
        "colab_type": "code",
        "outputId": "4783ed88-9a63-4797-b4b7-d0bf61c3f5f7",
        "colab": {
          "base_uri": "https://localhost:8080/",
          "height": 255
        }
      },
      "cell_type": "code",
      "source": [
        "recall = {}\n",
        "precision = {}\n",
        "diff = {}\n",
        "#keeping max Depth , learning rate and col sample bytree\n",
        "for i in [150,175,200,225,250,275,300]:\n",
        "  print(\"Training for n_estimators = \" + str(i) + \"\\n\")\n",
        "  model = xgb.XGBClassifier(max_depth = 6,n_estimators = i,booster = 'gbtree',colsample_bytree=0.75,learning_rate = 0.2,objective = 'binary:logistic',eval_metric = 'auc')\n",
        "  model.fit(X_train,y_train)\n",
        "  pred = model.predict(X_test)\n",
        "  test_error = (1 - accuracy_score(y_true = y_test,y_pred=pred)) * 100\n",
        "  train_error = (1 - accuracy_score(y_true = y_train,y_pred=model.predict(X_train))) * 100\n",
        "  recall[i] = recall_score(y_true = y_test,y_pred = pred,pos_label = 0) * 100\n",
        "  precision[i] = precision_score(y_true =y_test,y_pred = pred,pos_label = 0) * 100 \n",
        "  diff[i] = test_error-train_error"
      ],
      "execution_count": 0,
      "outputs": [
        {
          "output_type": "stream",
          "text": [
            "Training for n_estimators = 150\n",
            "\n",
            "Training for n_estimators = 175\n",
            "\n",
            "Training for n_estimators = 200\n",
            "\n",
            "Training for n_estimators = 225\n",
            "\n",
            "Training for n_estimators = 250\n",
            "\n",
            "Training for n_estimators = 275\n",
            "\n",
            "Training for n_estimators = 300\n",
            "\n"
          ],
          "name": "stdout"
        }
      ]
    },
    {
      "metadata": {
        "id": "PXf8MA-YwQe7",
        "colab_type": "code",
        "outputId": "bd48af2e-6dee-4174-d272-d9d6caad05cd",
        "colab": {
          "base_uri": "https://localhost:8080/",
          "height": 609
        }
      },
      "cell_type": "code",
      "source": [
        "plt.figure(figsize = (19,10))\n",
        "sns.pointplot(list(diff.keys()),list(diff.values()),color = 'red')"
      ],
      "execution_count": 0,
      "outputs": [
        {
          "output_type": "execute_result",
          "data": {
            "text/plain": [
              "<matplotlib.axes._subplots.AxesSubplot at 0x7f4be2b07438>"
            ]
          },
          "metadata": {
            "tags": []
          },
          "execution_count": 15
        },
        {
          "output_type": "display_data",
          "data": {
            "image/png": "[encoded data removed]",
            "text/plain": [
              "<matplotlib.figure.Figure at 0x7f4be2af4fd0>"
            ]
          },
          "metadata": {
            "tags": []
          }
        }
      ]
    },
    {
      "metadata": {
        "id": "ZPM55SCNzxAF",
        "colab_type": "code",
        "outputId": "8ee0c858-a64d-420e-fe37-f157e8fb85aa",
        "colab": {
          "base_uri": "https://localhost:8080/",
          "height": 609
        }
      },
      "cell_type": "code",
      "source": [
        "plt.figure(figsize = (19,10))\n",
        "sns.pointplot(list(recall.keys()),list(recall.values()),color = 'green')"
      ],
      "execution_count": 0,
      "outputs": [
        {
          "output_type": "execute_result",
          "data": {
            "text/plain": [
              "<matplotlib.axes._subplots.AxesSubplot at 0x7f4be2b33860>"
            ]
          },
          "metadata": {
            "tags": []
          },
          "execution_count": 13
        },
        {
          "output_type": "display_data",
          "data": {
            "image/png": "[encoded data removed]",
            "text/plain": [
              "<matplotlib.figure.Figure at 0x7f4be2b2f198>"
            ]
          },
          "metadata": {
            "tags": []
          }
        }
      ]
    },
    {
      "metadata": {
        "id": "W6q0ZumW2Pih",
        "colab_type": "code",
        "outputId": "e36f6e63-8a00-4631-801d-4010148d3884",
        "colab": {
          "base_uri": "https://localhost:8080/",
          "height": 609
        }
      },
      "cell_type": "code",
      "source": [
        "plt.figure(figsize = (19,10))\n",
        "sns.pointplot(list(precision.keys()),list(precision.values()),color = 'blue')"
      ],
      "execution_count": 0,
      "outputs": [
        {
          "output_type": "execute_result",
          "data": {
            "text/plain": [
              "<matplotlib.axes._subplots.AxesSubplot at 0x7f4be2b02908>"
            ]
          },
          "metadata": {
            "tags": []
          },
          "execution_count": 14
        },
        {
          "output_type": "display_data",
          "data": {
            "image/png": "[encoded data removed]",
            "text/plain": [
              "<matplotlib.figure.Figure at 0x7f4be2b52518>"
            ]
          },
          "metadata": {
            "tags": []
          }
        }
      ]
    },
    {
      "metadata": {
        "id": "BcfMxKuv1bqB",
        "colab_type": "text"
      },
      "cell_type": "markdown",
      "source": [
        "** Observations ** :\n",
        "1. The precision and recall do not improve drastically as N-estimators increase from 200 to 300. \n",
        "2. But the difference between the train and test error increase drastically as n-estimators increase.\n",
        "3. Precision is high at the N-estimator  =175 and corresponding is recall is also considerably good.\n",
        "4. Final Model max-depth = 6, n_estimators = 175"
      ]
    },
    {
      "metadata": {
        "id": "jhthp-DE2h_2",
        "colab_type": "text"
      },
      "cell_type": "markdown",
      "source": [
        "** FINAL MODEL **"
      ]
    },
    {
      "metadata": {
        "colab_type": "code",
        "id": "1Ik8OO6K2g79",
        "colab": {}
      },
      "cell_type": "code",
      "source": [
        "model = xgb.XGBClassifier(max_depth = 6,n_estimators = 175,booster = 'gbtree',colsample_bytree=0.75,learning_rate = 0.07,objective = 'binary:logistic',eval_metric = 'auc') \n",
        "model.fit(X_train,Y_train)\n",
        "pred = model.predict(X_test)"
      ],
      "execution_count": 0,
      "outputs": []
    },
    {
      "metadata": {
        "colab_type": "code",
        "id": "nze6HTFL2g8B",
        "colab": {}
      },
      "cell_type": "code",
      "source": [
        "tpred = model.predict(X_train)"
      ],
      "execution_count": 0,
      "outputs": []
    },
    {
      "metadata": {
        "colab_type": "code",
        "outputId": "76fb3414-28ba-4e4e-992d-8c3db3ef7567",
        "id": "Oiv16F732g8E",
        "colab": {
          "base_uri": "https://localhost:8080/",
          "height": 170
        }
      },
      "cell_type": "code",
      "source": [
        "print(classification_report(y_true = y_test,y_pred=pred))"
      ],
      "execution_count": 0,
      "outputs": [
        {
          "output_type": "stream",
          "text": [
            "              precision    recall  f1-score   support\n",
            "\n",
            "           0       0.72      0.32      0.44      4101\n",
            "           1       0.90      0.98      0.94     25899\n",
            "\n",
            "   micro avg       0.89      0.89      0.89     30000\n",
            "   macro avg       0.81      0.65      0.69     30000\n",
            "weighted avg       0.88      0.89      0.87     30000\n",
            "\n"
          ],
          "name": "stdout"
        }
      ]
    },
    {
      "metadata": {
        "colab_type": "text",
        "id": "3dNTE_PE2g8H"
      },
      "cell_type": "markdown",
      "source": [
        "** CONFUSION MATRIC : TEST  SET ** "
      ]
    },
    {
      "metadata": {
        "colab_type": "code",
        "outputId": "a2bb5345-6e14-4790-c2d6-83a13d8a30f1",
        "id": "Eb9_43yq2g8I",
        "colab": {
          "base_uri": "https://localhost:8080/",
          "height": 364
        }
      },
      "cell_type": "code",
      "source": [
        "sns.heatmap(confusion_matrix(y_true = y_test,y_pred=pred),annot= True,fmt='d')"
      ],
      "execution_count": 0,
      "outputs": [
        {
          "output_type": "execute_result",
          "data": {
            "text/plain": [
              "<matplotlib.axes._subplots.AxesSubplot at 0x7f4be29c3080>"
            ]
          },
          "metadata": {
            "tags": []
          },
          "execution_count": 19
        },
        {
          "output_type": "display_data",
          "data": {
            "image/png": "[encoded data removed]",
            "text/plain": [
              "<matplotlib.figure.Figure at 0x7f4be55057b8>"
            ]
          },
          "metadata": {
            "tags": []
          }
        }
      ]
    },
    {
      "metadata": {
        "colab_type": "text",
        "id": "pO9yN_uq2g8L"
      },
      "cell_type": "markdown",
      "source": [
        "** CONFUSION MATRIX : TRAIN SET **"
      ]
    },
    {
      "metadata": {
        "colab_type": "code",
        "outputId": "b6e1c911-86d2-4307-c0c0-6d7130befebf",
        "id": "1jiarD_A2g8M",
        "colab": {
          "base_uri": "https://localhost:8080/",
          "height": 364
        }
      },
      "cell_type": "code",
      "source": [
        "sns.heatmap(confusion_matrix(y_pred =tpred,y_true = Y_train),annot= True,fmt='d')"
      ],
      "execution_count": 0,
      "outputs": [
        {
          "output_type": "execute_result",
          "data": {
            "text/plain": [
              "<matplotlib.axes._subplots.AxesSubplot at 0x7f4be29c3ba8>"
            ]
          },
          "metadata": {
            "tags": []
          },
          "execution_count": 20
        },
        {
          "output_type": "display_data",
          "data": {
            "image/png": "[encoded data removed]",
            "text/plain": [
              "<matplotlib.figure.Figure at 0x7f4be1722208>"
            ]
          },
          "metadata": {
            "tags": []
          }
        }
      ]
    },
    {
      "metadata": {
        "colab_type": "code",
        "outputId": "93e018b4-9733-43ba-e8b9-694f1da75031",
        "id": "zlqeo3Qh2g8U",
        "colab": {
          "base_uri": "https://localhost:8080/",
          "height": 34
        }
      },
      "cell_type": "code",
      "source": [
        "print(\"TRAIN ERROR : \" + str(1-(accuracy_score(y_true = Y_train,y_pred=tpred))))"
      ],
      "execution_count": 0,
      "outputs": [
        {
          "output_type": "stream",
          "text": [
            "TRAIN ERROR : 0.07237142857142853\n"
          ],
          "name": "stdout"
        }
      ]
    },
    {
      "metadata": {
        "colab_type": "code",
        "outputId": "b783ceec-63dd-4c54-d95c-52a87425544b",
        "id": "CuQlojwc2g8Z",
        "colab": {
          "base_uri": "https://localhost:8080/",
          "height": 34
        }
      },
      "cell_type": "code",
      "source": [
        "print(\"TEST ERROR : \" + str(1-(accuracy_score(y_true = y_test,y_pred=pred))))"
      ],
      "execution_count": 0,
      "outputs": [
        {
          "output_type": "stream",
          "text": [
            "TEST ERROR : 0.10986666666666667\n"
          ],
          "name": "stdout"
        }
      ]
    },
    {
      "metadata": {
        "id": "z7nCp08h3tl4",
        "colab_type": "text"
      },
      "cell_type": "markdown",
      "source": [
        "<br>\n",
        "<Br>\n",
        "  <Br>"
      ]
    },
    {
      "metadata": {
        "id": "ma_Y5ksr325Y",
        "colab_type": "text"
      },
      "cell_type": "markdown",
      "source": [
        "\n",
        "\n",
        "---\n",
        "\n",
        "\n",
        "## SUMMARY\n",
        "\n",
        "<br>\n",
        "<Br>\n",
        "\n"
      ]
    },
    {
      "metadata": {
        "id": "YtgEo290Ah_G",
        "colab_type": "text"
      },
      "cell_type": "markdown",
      "source": [
        "|FEATURIZATION| MAX-DEPTH | N_ESTIMATORS|LEARNING RATE |COLUMN RATIO |ACCURACY  | AUC SCORE |TRAIN ERROR | TEST ERROR | DIFFERENCE|\n",
        "|------|------|-----|-----|----|----|----|----|\n",
        "|BOW|5|300|0.2|0.75|91.8| 92.81 | 5.3|8.2 | 2.9|\n",
        "|TFIDF|4|300|0.3|0.75|91.9|93.06| 4.7 | 8.1 | 3.4|\n",
        "|WORD2VEC|5|300|0.07|0.5|90.2|90.254|6.52|9.92|3.4|\n",
        "|TFIDF WORD2VEC|6|175|0.07|0.75|89.1|87.529|7.23|10.9|3.67|"
      ]
    }
  ]
}