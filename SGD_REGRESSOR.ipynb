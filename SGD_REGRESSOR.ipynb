{
  "nbformat": 4,
  "nbformat_minor": 0,
  "metadata": {
    "colab": {
      "name": "SGD REGRESSOR.ipynb",
      "version": "0.3.2",
      "provenance": [],
      "include_colab_link": true
    },
    "kernelspec": {
      "display_name": "Python 3",
      "language": "python",
      "name": "python3"
    }
  },
  "cells": [
    {
      "cell_type": "markdown",
      "metadata": {
        "id": "view-in-github",
        "colab_type": "text"
      },
      "source": [
        "<a href=\"https://colab.research.google.com/github/iyappan24/Applied-AI-Notebooks/blob/master/SGD_REGRESSOR.ipynb\" target=\"_parent\"><img src=\"https://colab.research.google.com/assets/colab-badge.svg\" alt=\"Open In Colab\"/></a>"
      ]
    },
    {
      "metadata": {
        "id": "pbUcfmOhJF2w",
        "colab_type": "text"
      },
      "cell_type": "markdown",
      "source": [
        " # SGD REGRESSOR FROM SCRATCH"
      ]
    },
    {
      "metadata": {
        "id": "zTDlRgJ0JF2x",
        "colab_type": "text"
      },
      "cell_type": "markdown",
      "source": [
        "-----\n",
        "### Importing the libraries"
      ]
    },
    {
      "metadata": {
        "id": "FVnujGSYJF2y",
        "colab_type": "code",
        "colab": {}
      },
      "cell_type": "code",
      "source": [
        "import pandas as pd\n",
        "import numpy as np\n",
        "from sklearn.linear_model import LinearRegression\n",
        "from sklearn.preprocessing import StandardScaler\n",
        "from sklearn import datasets\n",
        "import matplotlib.pyplot as plt\n",
        "import seaborn as sns\n",
        "from sklearn.metrics import mean_squared_error\n",
        "import tqdm\n",
        "%matplotlib inline\n",
        "from tqdm import tqdm"
      ],
      "execution_count": 0,
      "outputs": []
    },
    {
      "metadata": {
        "id": "EPebqEJQJF22",
        "colab_type": "code",
        "colab": {}
      },
      "cell_type": "code",
      "source": [
        "df = pd.DataFrame(datasets.load_boston()['data'])"
      ],
      "execution_count": 0,
      "outputs": []
    },
    {
      "metadata": {
        "id": "8US6dm9sJF25",
        "colab_type": "code",
        "colab": {}
      },
      "cell_type": "code",
      "source": [
        "df.columns = datasets.load_boston().feature_names"
      ],
      "execution_count": 0,
      "outputs": []
    },
    {
      "metadata": {
        "id": "Z8_9RbeoJF28",
        "colab_type": "code",
        "colab": {},
        "outputId": "5b3c3f90-c861-4d99-805f-8b12f82234da"
      },
      "cell_type": "code",
      "source": [
        "df.head()"
      ],
      "execution_count": 0,
      "outputs": [
        {
          "output_type": "execute_result",
          "data": {
            "text/html": [
              "<div>\n",
              "<style>\n",
              "    .dataframe thead tr:only-child th {\n",
              "        text-align: right;\n",
              "    }\n",
              "\n",
              "    .dataframe thead th {\n",
              "        text-align: left;\n",
              "    }\n",
              "\n",
              "    .dataframe tbody tr th {\n",
              "        vertical-align: top;\n",
              "    }\n",
              "</style>\n",
              "<table border=\"1\" class=\"dataframe\">\n",
              "  <thead>\n",
              "    <tr style=\"text-align: right;\">\n",
              "      <th></th>\n",
              "      <th>CRIM</th>\n",
              "      <th>ZN</th>\n",
              "      <th>INDUS</th>\n",
              "      <th>CHAS</th>\n",
              "      <th>NOX</th>\n",
              "      <th>RM</th>\n",
              "      <th>AGE</th>\n",
              "      <th>DIS</th>\n",
              "      <th>RAD</th>\n",
              "      <th>TAX</th>\n",
              "      <th>PTRATIO</th>\n",
              "      <th>B</th>\n",
              "      <th>LSTAT</th>\n",
              "    </tr>\n",
              "  </thead>\n",
              "  <tbody>\n",
              "    <tr>\n",
              "      <th>0</th>\n",
              "      <td>0.00632</td>\n",
              "      <td>18.0</td>\n",
              "      <td>2.31</td>\n",
              "      <td>0.0</td>\n",
              "      <td>0.538</td>\n",
              "      <td>6.575</td>\n",
              "      <td>65.2</td>\n",
              "      <td>4.0900</td>\n",
              "      <td>1.0</td>\n",
              "      <td>296.0</td>\n",
              "      <td>15.3</td>\n",
              "      <td>396.90</td>\n",
              "      <td>4.98</td>\n",
              "    </tr>\n",
              "    <tr>\n",
              "      <th>1</th>\n",
              "      <td>0.02731</td>\n",
              "      <td>0.0</td>\n",
              "      <td>7.07</td>\n",
              "      <td>0.0</td>\n",
              "      <td>0.469</td>\n",
              "      <td>6.421</td>\n",
              "      <td>78.9</td>\n",
              "      <td>4.9671</td>\n",
              "      <td>2.0</td>\n",
              "      <td>242.0</td>\n",
              "      <td>17.8</td>\n",
              "      <td>396.90</td>\n",
              "      <td>9.14</td>\n",
              "    </tr>\n",
              "    <tr>\n",
              "      <th>2</th>\n",
              "      <td>0.02729</td>\n",
              "      <td>0.0</td>\n",
              "      <td>7.07</td>\n",
              "      <td>0.0</td>\n",
              "      <td>0.469</td>\n",
              "      <td>7.185</td>\n",
              "      <td>61.1</td>\n",
              "      <td>4.9671</td>\n",
              "      <td>2.0</td>\n",
              "      <td>242.0</td>\n",
              "      <td>17.8</td>\n",
              "      <td>392.83</td>\n",
              "      <td>4.03</td>\n",
              "    </tr>\n",
              "    <tr>\n",
              "      <th>3</th>\n",
              "      <td>0.03237</td>\n",
              "      <td>0.0</td>\n",
              "      <td>2.18</td>\n",
              "      <td>0.0</td>\n",
              "      <td>0.458</td>\n",
              "      <td>6.998</td>\n",
              "      <td>45.8</td>\n",
              "      <td>6.0622</td>\n",
              "      <td>3.0</td>\n",
              "      <td>222.0</td>\n",
              "      <td>18.7</td>\n",
              "      <td>394.63</td>\n",
              "      <td>2.94</td>\n",
              "    </tr>\n",
              "    <tr>\n",
              "      <th>4</th>\n",
              "      <td>0.06905</td>\n",
              "      <td>0.0</td>\n",
              "      <td>2.18</td>\n",
              "      <td>0.0</td>\n",
              "      <td>0.458</td>\n",
              "      <td>7.147</td>\n",
              "      <td>54.2</td>\n",
              "      <td>6.0622</td>\n",
              "      <td>3.0</td>\n",
              "      <td>222.0</td>\n",
              "      <td>18.7</td>\n",
              "      <td>396.90</td>\n",
              "      <td>5.33</td>\n",
              "    </tr>\n",
              "  </tbody>\n",
              "</table>\n",
              "</div>"
            ],
            "text/plain": [
              "      CRIM    ZN  INDUS  CHAS    NOX     RM   AGE     DIS  RAD    TAX  \\\n",
              "0  0.00632  18.0   2.31   0.0  0.538  6.575  65.2  4.0900  1.0  296.0   \n",
              "1  0.02731   0.0   7.07   0.0  0.469  6.421  78.9  4.9671  2.0  242.0   \n",
              "2  0.02729   0.0   7.07   0.0  0.469  7.185  61.1  4.9671  2.0  242.0   \n",
              "3  0.03237   0.0   2.18   0.0  0.458  6.998  45.8  6.0622  3.0  222.0   \n",
              "4  0.06905   0.0   2.18   0.0  0.458  7.147  54.2  6.0622  3.0  222.0   \n",
              "\n",
              "   PTRATIO       B  LSTAT  \n",
              "0     15.3  396.90   4.98  \n",
              "1     17.8  396.90   9.14  \n",
              "2     17.8  392.83   4.03  \n",
              "3     18.7  394.63   2.94  \n",
              "4     18.7  396.90   5.33  "
            ]
          },
          "metadata": {
            "tags": []
          },
          "execution_count": 4
        }
      ]
    },
    {
      "metadata": {
        "id": "_vmMBQcXJF3C",
        "colab_type": "code",
        "colab": {}
      },
      "cell_type": "code",
      "source": [
        "#loading the data\n",
        "X = df\n",
        "Y = datasets.load_boston().target"
      ],
      "execution_count": 0,
      "outputs": []
    },
    {
      "metadata": {
        "id": "0XJw-sQgJF3F",
        "colab_type": "code",
        "colab": {},
        "outputId": "0ead99bf-54b8-4938-e036-26b8b6c4527d"
      },
      "cell_type": "code",
      "source": [
        "X.shape"
      ],
      "execution_count": 0,
      "outputs": [
        {
          "output_type": "execute_result",
          "data": {
            "text/plain": [
              "(506, 13)"
            ]
          },
          "metadata": {
            "tags": []
          },
          "execution_count": 6
        }
      ]
    },
    {
      "metadata": {
        "id": "KOWxyRzJJF3J",
        "colab_type": "text"
      },
      "cell_type": "markdown",
      "source": [
        "** Standarad Scaling the Data ** "
      ]
    },
    {
      "metadata": {
        "id": "CgtPPJq9JF3K",
        "colab_type": "code",
        "colab": {}
      },
      "cell_type": "code",
      "source": [
        "sc= StandardScaler()\n",
        "x = sc.fit_transform(X)\n",
        "sc1 = StandardScaler()\n",
        "y = sc1.fit_transform(Y.reshape(len(Y),1))"
      ],
      "execution_count": 0,
      "outputs": []
    },
    {
      "metadata": {
        "id": "OhL_m48XJF3N",
        "colab_type": "text"
      },
      "cell_type": "markdown",
      "source": [
        "** Calculating the baseline Linear Regression Model from Sklearn for Comaprison ** "
      ]
    },
    {
      "metadata": {
        "id": "q9L4HFiYJF3O",
        "colab_type": "code",
        "colab": {}
      },
      "cell_type": "code",
      "source": [
        "lr = LinearRegression(fit_intercept=True)\n",
        "lr.fit(x,y)\n",
        "lpred = lr.predict(x)"
      ],
      "execution_count": 0,
      "outputs": []
    },
    {
      "metadata": {
        "id": "vG1RDBe0JF3R",
        "colab_type": "code",
        "colab": {},
        "outputId": "360ef961-1334-49a7-f2ed-43f57225d15c"
      },
      "cell_type": "code",
      "source": [
        "mean_squared_error(sc1.inverse_transform(np.array(lpred)),sc1.inverse_transform(y))"
      ],
      "execution_count": 0,
      "outputs": [
        {
          "output_type": "execute_result",
          "data": {
            "text/plain": [
              "21.897779217687496"
            ]
          },
          "metadata": {
            "tags": []
          },
          "execution_count": 39
        }
      ]
    },
    {
      "metadata": {
        "id": "FWCat57DJF3U",
        "colab_type": "code",
        "colab": {},
        "outputId": "1370b843-17f4-4066-ac84-b1a5e97ae315"
      },
      "cell_type": "code",
      "source": [
        "sns.regplot(sc1.inverse_transform(np.array(lpred)),sc1.inverse_transform(y),fit_reg=False)"
      ],
      "execution_count": 0,
      "outputs": [
        {
          "output_type": "execute_result",
          "data": {
            "text/plain": [
              "<matplotlib.axes._subplots.AxesSubplot at 0x1122e8710>"
            ]
          },
          "metadata": {
            "tags": []
          },
          "execution_count": 10
        },
        {
          "output_type": "display_data",
          "data": {
            "image/png": "[encoded data removed]",
            "text/plain": [
              "<matplotlib.figure.Figure at 0x107bd7390>"
            ]
          },
          "metadata": {
            "tags": []
          }
        }
      ]
    },
    {
      "metadata": {
        "id": "hqF94NLOJF3Z",
        "colab_type": "text"
      },
      "cell_type": "markdown",
      "source": [
        "** BaseLine Model Score : MSE : 21.897779 ** "
      ]
    },
    {
      "metadata": {
        "id": "eg39f_fnJF3Z",
        "colab_type": "text"
      },
      "cell_type": "markdown",
      "source": [
        "------\n",
        "** Feature importance and intercepts **"
      ]
    },
    {
      "metadata": {
        "id": "kqbh12AXJF3a",
        "colab_type": "code",
        "colab": {},
        "outputId": "8be9048e-6802-4a82-d501-db6492721ead"
      },
      "cell_type": "code",
      "source": [
        "plt.figure(figsize = (19,10))\n",
        "sns.barplot(y = lr.coef_[0],x= df.columns)"
      ],
      "execution_count": 0,
      "outputs": [
        {
          "output_type": "execute_result",
          "data": {
            "text/plain": [
              "<matplotlib.axes._subplots.AxesSubplot at 0x1157e4f98>"
            ]
          },
          "metadata": {
            "tags": []
          },
          "execution_count": 40
        },
        {
          "output_type": "display_data",
          "data": {
            "image/png": "[encoded data removed]",
            "text/plain": [
              "<matplotlib.figure.Figure at 0x11630cef0>"
            ]
          },
          "metadata": {
            "tags": []
          }
        }
      ]
    },
    {
      "metadata": {
        "id": "eL74Twu_JF3d",
        "colab_type": "text"
      },
      "cell_type": "markdown",
      "source": [
        "** Intecept Term: ** "
      ]
    },
    {
      "metadata": {
        "id": "b6vU3FyOJF3f",
        "colab_type": "code",
        "colab": {},
        "outputId": "3196fd43-5d66-4352-b80d-f53196a71dac"
      },
      "cell_type": "code",
      "source": [
        "lr.intercept_"
      ],
      "execution_count": 0,
      "outputs": [
        {
          "output_type": "execute_result",
          "data": {
            "text/plain": [
              "array([4.4733314e-16])"
            ]
          },
          "metadata": {
            "tags": []
          },
          "execution_count": 41
        }
      ]
    },
    {
      "metadata": {
        "id": "iKr8_GFrJF3i",
        "colab_type": "text"
      },
      "cell_type": "markdown",
      "source": [
        "<br>\n",
        "\n",
        "____\n",
        "\n",
        "** SGD REGRESSOR FROM SCRATCH : ** "
      ]
    },
    {
      "metadata": {
        "id": "CBDrLmHSJF3j",
        "colab_type": "code",
        "colab": {}
      },
      "cell_type": "code",
      "source": [
        "class sgdRegressor:\n",
        "     def __init__(self):\n",
        "        self.__prev_w  = 0\n",
        "        self.__prev_b = 0\n",
        "        self.final_w = 0\n",
        "        self.final_intercept = 0\n",
        "        #function to print the learning rate        \n",
        "             \n",
        "     def learning_rate(self,initial,epoch,step,interval):\n",
        "            \"\"\"\n",
        "            Initial : Initial Learning Rate \n",
        "            step_size : Size to divide the learning rate\n",
        "            interval : Interval after which the step decay must happen\n",
        "        \n",
        "            \"\"\"\n",
        "            if epoch % interval == 0:\n",
        "                return initial/step\n",
        "            else:\n",
        "                 return initial\n",
        "    \n",
        "     def fit(self,X,Y,Learning_Rate,step_size,interval,n_iterations):\n",
        "        \"\"\"\n",
        "        X : Dataset\n",
        "        Y : Target variable\n",
        "        Learning_rate : Initial Learning Rate \n",
        "        step_size : Size to divide the learning rate\n",
        "        interval : Interval after which the step decay must happen\n",
        "        n_iterations : The number of iterations the Gradient Descent must run\n",
        "    \n",
        "        \"\"\"\n",
        "        self.__prev_w = np.random.randn(len(X[0]))\n",
        "        self.__prev_b = np.random.randn()\n",
        "        epoch = 0\n",
        "        \n",
        "        # Gradient Descent Algorithm\n",
        "        for i in tqdm(range(n_iterations)):\n",
        "            epoch = epoch + 1 \n",
        "            #getting the learning rate for each epoch\n",
        "            r = self.learning_rate(Learning_Rate,epoch,step_size,interval)\n",
        "            val = self.cal_del(X,self.__prev_w,self.__prev_b,Y)\n",
        "            self.__next_w = self.__prev_w - r * val['W']\n",
        "            self.__next_b = self.__prev_b - r * val['b']\n",
        "            \n",
        "            # updating for next iteration\n",
        "            self.__prev_w = self.__next_w\n",
        "            self.__prev_b = self.__next_b\n",
        "            \n",
        "            if i == (n_iterations - 1):\n",
        "                self.final_w = self.__prev_w\n",
        "                self.final_b = self.__prev_b\n",
        "        #end of loop\n",
        "        \n",
        "        print(\"Training Completed \\n \")\n",
        "        \n",
        "        \n",
        "    \n",
        "    # Function to calculate the gradient of  the given iteration\n",
        "\n",
        "     def cal_del(self,d,weight_w,weight_b,t):\n",
        "            \"\"\"\n",
        "            d : Dataset\n",
        "            weight_w : current Weight vector of W\n",
        "            weight_b : current Bias term : Intercept term\n",
        "            t : Target variable\n",
        "        \n",
        "            \"\"\"\n",
        "            w_gradient = np.zeros(len(d[0]))\n",
        "            b_gradient = 0\n",
        "            se = 0\n",
        "            for i in range(len(d)):\n",
        "                error = (t[i] - (np.dot(weight_w,d[i]) + weight_b)) #yi - wtxi + b\n",
        "                w_gradient  = w_gradient + (error * -2 * d[i])\n",
        "                b_gradient = b_gradient + (error * -2) \n",
        "                se = se + error**2\n",
        "            return {'W':(w_gradient/len(d)),'b':(b_gradient/len(d))}\n",
        "        \n",
        "        \n",
        "    \n",
        "     def predict(self,d):\n",
        "            \"\"\"\n",
        "            Function to predict the final target variable\n",
        "            \n",
        "            d: Dataset\n",
        "            \n",
        "            \"\"\"\n",
        "            pred = []\n",
        "            for i in range(len(d)):\n",
        "                pred.append(np.dot(self.final_w,d[i]) +self.final_intercept)\n",
        "                \n",
        "            return np.array(pred)\n",
        "     \n",
        "    \n",
        "        \n",
        "        \n",
        "    "
      ],
      "execution_count": 0,
      "outputs": []
    },
    {
      "metadata": {
        "id": "4wxklF0UJF3p",
        "colab_type": "text"
      },
      "cell_type": "markdown",
      "source": [
        "** Parameters : **\n",
        "1. learning rate : 0.1\n",
        "2. Step size = : 2.5\n",
        "3. Interval : 10\n",
        "4. Iterations : 1000"
      ]
    },
    {
      "metadata": {
        "id": "Fqs5HMfqJF3q",
        "colab_type": "code",
        "colab": {},
        "outputId": "690e5905-db80-4c9e-caf9-81ae1dff64af"
      },
      "cell_type": "code",
      "source": [
        "sgr = sgdRegressor()\n",
        "sgr.fit(x,y,0.1,2.5,10,1000)"
      ],
      "execution_count": 0,
      "outputs": [
        {
          "output_type": "stream",
          "text": [
            "100%|██████████| 1000/1000 [00:10<00:00, 96.76it/s]"
          ],
          "name": "stderr"
        },
        {
          "output_type": "stream",
          "text": [
            "Training Completed \n",
            " \n"
          ],
          "name": "stdout"
        },
        {
          "output_type": "stream",
          "text": [
            "\n"
          ],
          "name": "stderr"
        }
      ]
    },
    {
      "metadata": {
        "id": "QjZaWTq0JF3u",
        "colab_type": "code",
        "colab": {}
      },
      "cell_type": "code",
      "source": [
        "pred = sgr.predict(x)"
      ],
      "execution_count": 0,
      "outputs": []
    },
    {
      "metadata": {
        "scrolled": false,
        "id": "R45pvD3kJF3x",
        "colab_type": "code",
        "colab": {},
        "outputId": "21da5d86-ac07-410f-b82a-d61b36484ee0"
      },
      "cell_type": "code",
      "source": [
        "sns.regplot(sc1.inverse_transform(np.array(pred)),sc1.inverse_transform(y),fit_reg=False)"
      ],
      "execution_count": 0,
      "outputs": [
        {
          "output_type": "execute_result",
          "data": {
            "text/plain": [
              "<matplotlib.axes._subplots.AxesSubplot at 0x116fa66a0>"
            ]
          },
          "metadata": {
            "tags": []
          },
          "execution_count": 45
        },
        {
          "output_type": "display_data",
          "data": {
            "image/png": "[encoded data removed]",
            "text/plain": [
              "<matplotlib.figure.Figure at 0x116c920b8>"
            ]
          },
          "metadata": {
            "tags": []
          }
        }
      ]
    },
    {
      "metadata": {
        "id": "M95MbyudJF31",
        "colab_type": "code",
        "colab": {},
        "outputId": "1fd67dc0-8c5b-49ab-b6d9-3361a805dea5"
      },
      "cell_type": "code",
      "source": [
        "mean_squared_error(sc1.inverse_transform(np.array(pred)),sc1.inverse_transform(y))"
      ],
      "execution_count": 0,
      "outputs": [
        {
          "output_type": "execute_result",
          "data": {
            "text/plain": [
              "21.897779218486676"
            ]
          },
          "metadata": {
            "tags": []
          },
          "execution_count": 46
        }
      ]
    },
    {
      "metadata": {
        "id": "0YnCyDFyJF34",
        "colab_type": "text"
      },
      "cell_type": "markdown",
      "source": [
        "** CUSTOM SGD REGRESSOR CODE : 21.89777921 **"
      ]
    },
    {
      "metadata": {
        "id": "uXpoAgZtJF35",
        "colab_type": "text"
      },
      "cell_type": "markdown",
      "source": [
        "** Feature Importance **"
      ]
    },
    {
      "metadata": {
        "id": "-7RHv9EKJF35",
        "colab_type": "code",
        "colab": {},
        "outputId": "823770c8-8027-4dfa-ecda-2f73a914bb47"
      },
      "cell_type": "code",
      "source": [
        "plt.figure(figsize = (19,10))\n",
        "sns.barplot(y = sgr.final_w,x= df.columns)"
      ],
      "execution_count": 0,
      "outputs": [
        {
          "output_type": "execute_result",
          "data": {
            "text/plain": [
              "<matplotlib.axes._subplots.AxesSubplot at 0x116fd8358>"
            ]
          },
          "metadata": {
            "tags": []
          },
          "execution_count": 47
        },
        {
          "output_type": "display_data",
          "data": {
            "image/png": "[encoded data removed]",
            "text/plain": [
              "<matplotlib.figure.Figure at 0x11630c358>"
            ]
          },
          "metadata": {
            "tags": []
          }
        }
      ]
    },
    {
      "metadata": {
        "id": "qXMD3NshJF38",
        "colab_type": "text"
      },
      "cell_type": "markdown",
      "source": [
        "___\n",
        "\n",
        "** Intercept Term ** "
      ]
    },
    {
      "metadata": {
        "id": "8OQa-ZCpJF3-",
        "colab_type": "code",
        "colab": {},
        "outputId": "9fc4fc94-06dc-4bd5-c058-36b6e02802f1"
      },
      "cell_type": "code",
      "source": [
        "sgr.final_b"
      ],
      "execution_count": 0,
      "outputs": [
        {
          "output_type": "execute_result",
          "data": {
            "text/plain": [
              "array([3.5403326e-16])"
            ]
          },
          "metadata": {
            "tags": []
          },
          "execution_count": 48
        }
      ]
    }
  ]
}