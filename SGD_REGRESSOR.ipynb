{
  "nbformat": 4,
  "nbformat_minor": 0,
  "metadata": {
    "colab": {
      "name": "SGD REGRESSOR.ipynb",
      "version": "0.3.2",
      "provenance": [],
      "include_colab_link": true
    },
    "kernelspec": {
      "display_name": "Python 3",
      "language": "python",
      "name": "python3"
    }
  },
  "cells": [
    {
      "cell_type": "markdown",
      "metadata": {
        "id": "view-in-github",
        "colab_type": "text"
      },
      "source": [
        "<a href=\"https://colab.research.google.com/github/iyappan24/Applied-AI-Notebooks/blob/master/SGD_REGRESSOR.ipynb\" target=\"_parent\"><img src=\"https://colab.research.google.com/assets/colab-badge.svg\" alt=\"Open In Colab\"/></a>"
      ]
    },
    {
      "metadata": {
        "id": "TBE5H8Q8XcGG",
        "colab_type": "text"
      },
      "cell_type": "markdown",
      "source": [
        " # SGD REGRESSOR FROM SCRATCH"
      ]
    },
    {
      "metadata": {
        "id": "pr7U9H_tXcGI",
        "colab_type": "text"
      },
      "cell_type": "markdown",
      "source": [
        "-----\n",
        "### Importing the libraries"
      ]
    },
    {
      "metadata": {
        "id": "w9p0gSOCXcGK",
        "colab_type": "code",
        "colab": {}
      },
      "cell_type": "code",
      "source": [
        "import pandas as pd\n",
        "import numpy as np\n",
        "from sklearn.linear_model import LinearRegression\n",
        "from sklearn.preprocessing import StandardScaler\n",
        "from sklearn import datasets\n",
        "import matplotlib.pyplot as plt\n",
        "import seaborn as sns\n",
        "from sklearn.metrics import mean_squared_error\n",
        "import tqdm\n",
        "%matplotlib inline\n",
        "from tqdm import tqdm"
      ],
      "execution_count": 0,
      "outputs": []
    },
    {
      "metadata": {
        "id": "Vi9hJ0lhXcGN",
        "colab_type": "code",
        "colab": {}
      },
      "cell_type": "code",
      "source": [
        "df = pd.DataFrame(datasets.load_boston()['data'])"
      ],
      "execution_count": 0,
      "outputs": []
    },
    {
      "metadata": {
        "id": "Wfy3uykWXcGR",
        "colab_type": "code",
        "colab": {}
      },
      "cell_type": "code",
      "source": [
        "df.columns = datasets.load_boston().feature_names"
      ],
      "execution_count": 0,
      "outputs": []
    },
    {
      "metadata": {
        "id": "9hTScNZZXcGT",
        "colab_type": "code",
        "colab": {},
        "outputId": "0db00e52-22a3-4951-9f12-b54f9e32f217"
      },
      "cell_type": "code",
      "source": [
        "df.head()"
      ],
      "execution_count": 0,
      "outputs": [
        {
          "output_type": "execute_result",
          "data": {
            "text/html": [
              "<div>\n",
              "<style>\n",
              "    .dataframe thead tr:only-child th {\n",
              "        text-align: right;\n",
              "    }\n",
              "\n",
              "    .dataframe thead th {\n",
              "        text-align: left;\n",
              "    }\n",
              "\n",
              "    .dataframe tbody tr th {\n",
              "        vertical-align: top;\n",
              "    }\n",
              "</style>\n",
              "<table border=\"1\" class=\"dataframe\">\n",
              "  <thead>\n",
              "    <tr style=\"text-align: right;\">\n",
              "      <th></th>\n",
              "      <th>CRIM</th>\n",
              "      <th>ZN</th>\n",
              "      <th>INDUS</th>\n",
              "      <th>CHAS</th>\n",
              "      <th>NOX</th>\n",
              "      <th>RM</th>\n",
              "      <th>AGE</th>\n",
              "      <th>DIS</th>\n",
              "      <th>RAD</th>\n",
              "      <th>TAX</th>\n",
              "      <th>PTRATIO</th>\n",
              "      <th>B</th>\n",
              "      <th>LSTAT</th>\n",
              "    </tr>\n",
              "  </thead>\n",
              "  <tbody>\n",
              "    <tr>\n",
              "      <th>0</th>\n",
              "      <td>0.00632</td>\n",
              "      <td>18.0</td>\n",
              "      <td>2.31</td>\n",
              "      <td>0.0</td>\n",
              "      <td>0.538</td>\n",
              "      <td>6.575</td>\n",
              "      <td>65.2</td>\n",
              "      <td>4.0900</td>\n",
              "      <td>1.0</td>\n",
              "      <td>296.0</td>\n",
              "      <td>15.3</td>\n",
              "      <td>396.90</td>\n",
              "      <td>4.98</td>\n",
              "    </tr>\n",
              "    <tr>\n",
              "      <th>1</th>\n",
              "      <td>0.02731</td>\n",
              "      <td>0.0</td>\n",
              "      <td>7.07</td>\n",
              "      <td>0.0</td>\n",
              "      <td>0.469</td>\n",
              "      <td>6.421</td>\n",
              "      <td>78.9</td>\n",
              "      <td>4.9671</td>\n",
              "      <td>2.0</td>\n",
              "      <td>242.0</td>\n",
              "      <td>17.8</td>\n",
              "      <td>396.90</td>\n",
              "      <td>9.14</td>\n",
              "    </tr>\n",
              "    <tr>\n",
              "      <th>2</th>\n",
              "      <td>0.02729</td>\n",
              "      <td>0.0</td>\n",
              "      <td>7.07</td>\n",
              "      <td>0.0</td>\n",
              "      <td>0.469</td>\n",
              "      <td>7.185</td>\n",
              "      <td>61.1</td>\n",
              "      <td>4.9671</td>\n",
              "      <td>2.0</td>\n",
              "      <td>242.0</td>\n",
              "      <td>17.8</td>\n",
              "      <td>392.83</td>\n",
              "      <td>4.03</td>\n",
              "    </tr>\n",
              "    <tr>\n",
              "      <th>3</th>\n",
              "      <td>0.03237</td>\n",
              "      <td>0.0</td>\n",
              "      <td>2.18</td>\n",
              "      <td>0.0</td>\n",
              "      <td>0.458</td>\n",
              "      <td>6.998</td>\n",
              "      <td>45.8</td>\n",
              "      <td>6.0622</td>\n",
              "      <td>3.0</td>\n",
              "      <td>222.0</td>\n",
              "      <td>18.7</td>\n",
              "      <td>394.63</td>\n",
              "      <td>2.94</td>\n",
              "    </tr>\n",
              "    <tr>\n",
              "      <th>4</th>\n",
              "      <td>0.06905</td>\n",
              "      <td>0.0</td>\n",
              "      <td>2.18</td>\n",
              "      <td>0.0</td>\n",
              "      <td>0.458</td>\n",
              "      <td>7.147</td>\n",
              "      <td>54.2</td>\n",
              "      <td>6.0622</td>\n",
              "      <td>3.0</td>\n",
              "      <td>222.0</td>\n",
              "      <td>18.7</td>\n",
              "      <td>396.90</td>\n",
              "      <td>5.33</td>\n",
              "    </tr>\n",
              "  </tbody>\n",
              "</table>\n",
              "</div>"
            ],
            "text/plain": [
              "      CRIM    ZN  INDUS  CHAS    NOX     RM   AGE     DIS  RAD    TAX  \\\n",
              "0  0.00632  18.0   2.31   0.0  0.538  6.575  65.2  4.0900  1.0  296.0   \n",
              "1  0.02731   0.0   7.07   0.0  0.469  6.421  78.9  4.9671  2.0  242.0   \n",
              "2  0.02729   0.0   7.07   0.0  0.469  7.185  61.1  4.9671  2.0  242.0   \n",
              "3  0.03237   0.0   2.18   0.0  0.458  6.998  45.8  6.0622  3.0  222.0   \n",
              "4  0.06905   0.0   2.18   0.0  0.458  7.147  54.2  6.0622  3.0  222.0   \n",
              "\n",
              "   PTRATIO       B  LSTAT  \n",
              "0     15.3  396.90   4.98  \n",
              "1     17.8  396.90   9.14  \n",
              "2     17.8  392.83   4.03  \n",
              "3     18.7  394.63   2.94  \n",
              "4     18.7  396.90   5.33  "
            ]
          },
          "metadata": {
            "tags": []
          },
          "execution_count": 6
        }
      ]
    },
    {
      "metadata": {
        "id": "mnNNaIGSXcGb",
        "colab_type": "code",
        "colab": {}
      },
      "cell_type": "code",
      "source": [
        "#loading the data\n",
        "X = df\n",
        "y = datasets.load_boston().target"
      ],
      "execution_count": 0,
      "outputs": []
    },
    {
      "metadata": {
        "id": "TWbkLIvyXcGg",
        "colab_type": "code",
        "colab": {},
        "outputId": "07673525-3fd2-4492-82b3-5b0ecabccbc4"
      },
      "cell_type": "code",
      "source": [
        "X.shape"
      ],
      "execution_count": 0,
      "outputs": [
        {
          "output_type": "execute_result",
          "data": {
            "text/plain": [
              "(506, 13)"
            ]
          },
          "metadata": {
            "tags": []
          },
          "execution_count": 8
        }
      ]
    },
    {
      "metadata": {
        "id": "hWRGKsXGXcGk",
        "colab_type": "text"
      },
      "cell_type": "markdown",
      "source": [
        "** Standarad Scaling the Data ** "
      ]
    },
    {
      "metadata": {
        "id": "s0ASRbrnXcGm",
        "colab_type": "code",
        "colab": {}
      },
      "cell_type": "code",
      "source": [
        "sc= StandardScaler()\n",
        "x = sc.fit_transform(X)\n",
        "#sc1 = StandardScaler()\n",
        "#y = sc1.fit_transform(Y.reshape(len(Y),1))"
      ],
      "execution_count": 0,
      "outputs": []
    },
    {
      "metadata": {
        "id": "ytqXO2HIXcGq",
        "colab_type": "text"
      },
      "cell_type": "markdown",
      "source": [
        "** Calculating the baseline Linear Regression Model from Sklearn for Comaprison ** "
      ]
    },
    {
      "metadata": {
        "id": "7HNQ3VSWXcGt",
        "colab_type": "code",
        "colab": {}
      },
      "cell_type": "code",
      "source": [
        "lr = LinearRegression(fit_intercept=True)\n",
        "lr.fit(x,y)\n",
        "lpred = lr.predict(x)"
      ],
      "execution_count": 0,
      "outputs": []
    },
    {
      "metadata": {
        "id": "A6JOIVR2XcGy",
        "colab_type": "code",
        "colab": {},
        "outputId": "d53d6745-271c-4948-af1e-bec841ac1d05"
      },
      "cell_type": "code",
      "source": [
        "mean_squared_error(lpred,y)"
      ],
      "execution_count": 0,
      "outputs": [
        {
          "output_type": "execute_result",
          "data": {
            "text/plain": [
              "21.897779217687496"
            ]
          },
          "metadata": {
            "tags": []
          },
          "execution_count": 11
        }
      ]
    },
    {
      "metadata": {
        "id": "N2QaBfnYXcG3",
        "colab_type": "code",
        "colab": {},
        "outputId": "9dc2f75b-73c7-4f62-c961-2064178fe4a4"
      },
      "cell_type": "code",
      "source": [
        "sns.regplot(lpred,y,fit_reg=False)"
      ],
      "execution_count": 0,
      "outputs": [
        {
          "output_type": "execute_result",
          "data": {
            "text/plain": [
              "<matplotlib.axes._subplots.AxesSubplot at 0x1138b9b38>"
            ]
          },
          "metadata": {
            "tags": []
          },
          "execution_count": 12
        },
        {
          "output_type": "display_data",
          "data": {
            "image/png": "[encoded data removed]",
            "text/plain": [
              "<matplotlib.figure.Figure at 0x10909e550>"
            ]
          },
          "metadata": {
            "tags": []
          }
        }
      ]
    },
    {
      "metadata": {
        "id": "QE0LzrOEXcG6",
        "colab_type": "text"
      },
      "cell_type": "markdown",
      "source": [
        "** BaseLine Model Score : MSE : 21.897779 ** "
      ]
    },
    {
      "metadata": {
        "id": "k-T5KQXYXcG8",
        "colab_type": "text"
      },
      "cell_type": "markdown",
      "source": [
        "------\n",
        "** Feature importance and intercepts **"
      ]
    },
    {
      "metadata": {
        "id": "WyQsKvfOXcG8",
        "colab_type": "code",
        "colab": {},
        "outputId": "46e88cc8-95ff-4165-c484-f4b447d78850"
      },
      "cell_type": "code",
      "source": [
        "plt.figure(figsize = (19,10))\n",
        "sns.barplot(y = lr.coef_,x= df.columns)"
      ],
      "execution_count": 0,
      "outputs": [
        {
          "output_type": "execute_result",
          "data": {
            "text/plain": [
              "<matplotlib.axes._subplots.AxesSubplot at 0x116cf4dd8>"
            ]
          },
          "metadata": {
            "tags": []
          },
          "execution_count": 13
        },
        {
          "output_type": "display_data",
          "data": {
            "image/png": "[encoded data removed]",
            "text/plain": [
              "<matplotlib.figure.Figure at 0x116c5a550>"
            ]
          },
          "metadata": {
            "tags": []
          }
        }
      ]
    },
    {
      "metadata": {
        "id": "4oIwgBrBXcHC",
        "colab_type": "text"
      },
      "cell_type": "markdown",
      "source": [
        "** Intecept Term: ** "
      ]
    },
    {
      "metadata": {
        "id": "QjTZShZMXcHE",
        "colab_type": "code",
        "colab": {},
        "outputId": "793b0b45-9cc7-42cb-823b-366b0260a6e5"
      },
      "cell_type": "code",
      "source": [
        "lr.intercept_"
      ],
      "execution_count": 0,
      "outputs": [
        {
          "output_type": "execute_result",
          "data": {
            "text/plain": [
              "22.532806324110688"
            ]
          },
          "metadata": {
            "tags": []
          },
          "execution_count": 14
        }
      ]
    },
    {
      "metadata": {
        "id": "BxWAlXw7XcHH",
        "colab_type": "text"
      },
      "cell_type": "markdown",
      "source": [
        "<br>\n",
        "\n",
        "____\n",
        "\n",
        "** SGD REGRESSOR FROM SCRATCH : ** "
      ]
    },
    {
      "metadata": {
        "id": "7aD8WReyXcHK",
        "colab_type": "code",
        "colab": {}
      },
      "cell_type": "code",
      "source": [
        "class sgdRegressor:\n",
        "     def __init__(self):\n",
        "        self.__prev_w  = 0\n",
        "        self.__prev_b = 0\n",
        "        self.final_w = 0\n",
        "        self.final_intercept = 0\n",
        "        #function to print the learning rate        \n",
        "             \n",
        "     def learning_rate(self,initial,epoch,step,interval):\n",
        "            \"\"\"\n",
        "            Initial : Initial Learning Rate \n",
        "            step_size : Size to divide the learning rate\n",
        "            interval : Interval after which the step decay must happen\n",
        "        \n",
        "            \"\"\"\n",
        "            if epoch % interval == 0:\n",
        "                return initial/step\n",
        "            else:\n",
        "                 return initial\n",
        "    \n",
        "     def fit(self,X,Y,Learning_Rate,step_size,interval,n_iterations):\n",
        "        \"\"\"\n",
        "        X : Dataset\n",
        "        Y : Target variable\n",
        "        Learning_rate : Initial Learning Rate \n",
        "        step_size : Size to divide the learning rate\n",
        "        interval : Interval after which the step decay must happen\n",
        "        n_iterations : The number of iterations the Gradient Descent must run\n",
        "    \n",
        "        \"\"\"\n",
        "        self.__prev_w = np.random.randn(len(X[0]))\n",
        "        self.__prev_b = np.random.randn()\n",
        "        epoch = 0\n",
        "        \n",
        "        # Gradient Descent Algorithm\n",
        "        for i in tqdm(range(n_iterations)):\n",
        "            epoch = epoch + 1 \n",
        "            #getting the learning rate for each epoch\n",
        "            r = self.learning_rate(Learning_Rate,epoch,step_size,interval)\n",
        "            val = self.cal_del(X,self.__prev_w,self.__prev_b,Y)\n",
        "            self.__next_w = self.__prev_w - r * val['W']\n",
        "            self.__next_b = self.__prev_b - r * val['b']\n",
        "            \n",
        "            # updating for next iteration\n",
        "            self.__prev_w = self.__next_w\n",
        "            self.__prev_b = self.__next_b\n",
        "            \n",
        "            if i == (n_iterations - 1):\n",
        "                self.final_w = self.__prev_w\n",
        "                self.final_intercept = self.__prev_b\n",
        "        #end of loop\n",
        "        \n",
        "        print(\"Training Completed \\n \")\n",
        "        \n",
        "        \n",
        "    \n",
        "    # Function to calculate the gradient of  the given iteration\n",
        "\n",
        "     def cal_del(self,d,weight_w,weight_b,t):\n",
        "            \"\"\"\n",
        "            d : Dataset\n",
        "            weight_w : current Weight vector of W\n",
        "            weight_b : current Bias term : Intercept term\n",
        "            t : Target variable\n",
        "        \n",
        "            \"\"\"\n",
        "            w_gradient = np.zeros(len(d[0]))\n",
        "            b_gradient = 0\n",
        "            se = 0\n",
        "            for i in range(len(d)):\n",
        "                error = (t[i] - (np.dot(weight_w,d[i]) + weight_b)) #yi - wtxi + b\n",
        "                w_gradient  = w_gradient + (error * -2 * d[i])\n",
        "                b_gradient = b_gradient + (error * -2) \n",
        "                se = se + error**2\n",
        "            return {'W':(w_gradient/len(d)),'b':(b_gradient/len(d))}\n",
        "        \n",
        "        \n",
        "    \n",
        "     def predict(self,d):\n",
        "            \"\"\"\n",
        "            Function to predict the final target variable\n",
        "            \n",
        "            d: Dataset\n",
        "            \n",
        "            \"\"\"\n",
        "            pred = []\n",
        "            for i in range(len(d)):\n",
        "                pred.append(np.dot(self.final_w,d[i]) +self.final_intercept)\n",
        "                \n",
        "            return np.array(pred)\n",
        "     \n",
        "    \n",
        "        \n",
        "        \n",
        "    "
      ],
      "execution_count": 0,
      "outputs": []
    },
    {
      "metadata": {
        "id": "CBcll9J0XcHM",
        "colab_type": "text"
      },
      "cell_type": "markdown",
      "source": [
        "** Parameters : **\n",
        "1. learning rate : 0.1\n",
        "2. Step size = : 2.5\n",
        "3. Interval : 10\n",
        "4. Iterations : 1000"
      ]
    },
    {
      "metadata": {
        "id": "F6sfcvSEXcHN",
        "colab_type": "code",
        "colab": {},
        "outputId": "892e2a96-c717-4f10-cf1e-77e039f77fcf"
      },
      "cell_type": "code",
      "source": [
        "sgr = sgdRegressor()\n",
        "sgr.fit(x,y,0.1,2.5,10,1000)"
      ],
      "execution_count": 0,
      "outputs": [
        {
          "output_type": "stream",
          "text": [
            "100%|██████████| 1000/1000 [00:03<00:00, 297.99it/s]"
          ],
          "name": "stderr"
        },
        {
          "output_type": "stream",
          "text": [
            "Training Completed \n",
            " \n"
          ],
          "name": "stdout"
        },
        {
          "output_type": "stream",
          "text": [
            "\n"
          ],
          "name": "stderr"
        }
      ]
    },
    {
      "metadata": {
        "id": "i7MQ-7jwXcHU",
        "colab_type": "code",
        "colab": {}
      },
      "cell_type": "code",
      "source": [
        "pred = sgr.predict(x)"
      ],
      "execution_count": 0,
      "outputs": []
    },
    {
      "metadata": {
        "scrolled": false,
        "id": "SSzjGsioXcHb",
        "colab_type": "code",
        "colab": {},
        "outputId": "a73eb66a-59eb-4881-ce37-0cba8f8a2a2a"
      },
      "cell_type": "code",
      "source": [
        "sns.regplot(pred,y,fit_reg=False)"
      ],
      "execution_count": 0,
      "outputs": [
        {
          "output_type": "execute_result",
          "data": {
            "text/plain": [
              "<matplotlib.axes._subplots.AxesSubplot at 0x116da1eb8>"
            ]
          },
          "metadata": {
            "tags": []
          },
          "execution_count": 18
        },
        {
          "output_type": "display_data",
          "data": {
            "image/png": "[encoded data removed]",
            "text/plain": [
              "<matplotlib.figure.Figure at 0x116cf40f0>"
            ]
          },
          "metadata": {
            "tags": []
          }
        }
      ]
    },
    {
      "metadata": {
        "id": "Bby9GhO9XcHh",
        "colab_type": "code",
        "colab": {},
        "outputId": "7fd6527d-b1ee-4506-ddf6-986e6e28ed6b"
      },
      "cell_type": "code",
      "source": [
        "mean_squared_error(pred,y)"
      ],
      "execution_count": 0,
      "outputs": [
        {
          "output_type": "execute_result",
          "data": {
            "text/plain": [
              "21.89777921776083"
            ]
          },
          "metadata": {
            "tags": []
          },
          "execution_count": 19
        }
      ]
    },
    {
      "metadata": {
        "id": "ARx-8xhCXcHl",
        "colab_type": "text"
      },
      "cell_type": "markdown",
      "source": [
        "** CUSTOM SGD REGRESSOR CODE : 21.89777921 **"
      ]
    },
    {
      "metadata": {
        "id": "X3cZvImbXcHm",
        "colab_type": "text"
      },
      "cell_type": "markdown",
      "source": [
        "** Feature Importance **"
      ]
    },
    {
      "metadata": {
        "id": "oai5CWuzXcHn",
        "colab_type": "code",
        "colab": {},
        "outputId": "96203914-79ed-4abb-b322-84e99d02f21c"
      },
      "cell_type": "code",
      "source": [
        "plt.figure(figsize = (19,10))\n",
        "sns.barplot(y = sgr.final_w,x= df.columns)"
      ],
      "execution_count": 0,
      "outputs": [
        {
          "output_type": "execute_result",
          "data": {
            "text/plain": [
              "<matplotlib.axes._subplots.AxesSubplot at 0x116c56978>"
            ]
          },
          "metadata": {
            "tags": []
          },
          "execution_count": 20
        },
        {
          "output_type": "display_data",
          "data": {
            "image/png": "[encoded data removed]",
            "text/plain": [
              "<matplotlib.figure.Figure at 0x1174a0b38>"
            ]
          },
          "metadata": {
            "tags": []
          }
        }
      ]
    },
    {
      "metadata": {
        "id": "EMzFyKTMXcHr",
        "colab_type": "text"
      },
      "cell_type": "markdown",
      "source": [
        "___\n",
        "\n",
        "** Intercept Term ** "
      ]
    },
    {
      "metadata": {
        "id": "PXPRSTazXcHs",
        "colab_type": "code",
        "colab": {},
        "outputId": "53fd87b2-ac1e-4435-94a2-57080734c6b6"
      },
      "cell_type": "code",
      "source": [
        "sgr.final_intercept"
      ],
      "execution_count": 0,
      "outputs": [
        {
          "output_type": "execute_result",
          "data": {
            "text/plain": [
              "22.532806324110673"
            ]
          },
          "metadata": {
            "tags": []
          },
          "execution_count": 21
        }
      ]
    },
    {
      "metadata": {
        "id": "b3L19wnRXcHu",
        "colab_type": "code",
        "colab": {},
        "outputId": "e5af6b40-4397-45c7-8e35-fd19c2eb0fbd"
      },
      "cell_type": "code",
      "source": [
        "sgr.final_w"
      ],
      "execution_count": 0,
      "outputs": [
        {
          "output_type": "execute_result",
          "data": {
            "text/plain": [
              "array([-0.92040958,  1.08097783,  0.14295859,  0.68220468, -2.06009097,\n",
              "        2.67064297,  0.02111932, -3.10444867,  2.65876502, -2.07587367,\n",
              "       -2.06215513,  0.85664027, -3.74867898])"
            ]
          },
          "metadata": {
            "tags": []
          },
          "execution_count": 22
        }
      ]
    },
    {
      "metadata": {
        "id": "aUZWLDhfXcHz",
        "colab_type": "code",
        "colab": {},
        "outputId": "65075bae-ac69-4269-b3ab-f30c5c5680cc"
      },
      "cell_type": "code",
      "source": [
        "pd.DataFrame(sc.inverse_transform(sgr.final_w)"
      ],
      "execution_count": 0,
      "outputs": [
        {
          "output_type": "execute_result",
          "data": {
            "text/plain": [
              "array([-4.31097775e+00,  3.65497665e+01,  1.21165554e+01,  2.42274578e-01,\n",
              "        3.16212510e-01,  8.15921882e+00,  6.91687981e+01, -2.73556357e+00,\n",
              "        3.26770764e+01,  5.87212771e+01,  1.39954938e+01,  4.34803571e+02,\n",
              "       -1.40900187e+01])"
            ]
          },
          "metadata": {
            "tags": []
          },
          "execution_count": 23
        }
      ]
    },
    {
      "metadata": {
        "id": "jAT7r4DtXcH3",
        "colab_type": "code",
        "colab": {}
      },
      "cell_type": "code",
      "source": [
        "d = dict(zip(df.columns,sc.inverse_transform(sgr.final_w)))"
      ],
      "execution_count": 0,
      "outputs": []
    },
    {
      "metadata": {
        "id": "R5IW3U3YXcH8",
        "colab_type": "code",
        "colab": {}
      },
      "cell_type": "code",
      "source": [
        "d = sorted(d.items(), key=lambda x: x[1])"
      ],
      "execution_count": 0,
      "outputs": []
    },
    {
      "metadata": {
        "id": "_RO7orNvXcH-",
        "colab_type": "text"
      },
      "cell_type": "markdown",
      "source": [
        "___\n",
        "\n",
        "** Feature importance ** "
      ]
    },
    {
      "metadata": {
        "id": "dTLT8fyFXcH_",
        "colab_type": "code",
        "colab": {},
        "outputId": "3be973ca-d939-4de2-b371-4da5a5dfb2c4"
      },
      "cell_type": "code",
      "source": [
        "d"
      ],
      "execution_count": 0,
      "outputs": [
        {
          "output_type": "execute_result",
          "data": {
            "text/plain": [
              "[('B', 434.8035712658269),\n",
              " ('AGE', 69.16879814170632),\n",
              " ('TAX', 58.721277081283915),\n",
              " ('ZN', 36.54976654582261),\n",
              " ('RAD', 32.67707642304066),\n",
              " ('PTRATIO', 13.995493782179771),\n",
              " ('INDUS', 12.11655541715351),\n",
              " ('RM', 8.159218815565783),\n",
              " ('NOX', 0.3162125103273935),\n",
              " ('CHAS', 0.242274578292473),\n",
              " ('DIS', -2.7355635710748993),\n",
              " ('CRIM', -4.310977747428861),\n",
              " ('LSTAT', -14.090018718872178)]"
            ]
          },
          "metadata": {
            "tags": []
          },
          "execution_count": 31
        }
      ]
    }
  ]
}